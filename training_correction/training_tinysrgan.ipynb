{
 "cells": [
  {
   "cell_type": "markdown",
   "metadata": {},
   "source": [
    "### Import all the necessary libraries"
   ]
  },
  {
   "cell_type": "code",
   "execution_count": 1,
   "metadata": {},
   "outputs": [],
   "source": [
    "import torch\n",
    "import torch.nn as nn\n",
    "import torch.optim as optim\n",
    "from torch.utils.data import DataLoader\n",
    "from torchvision import transforms\n",
    "from torch.utils.data import Dataset\n",
    "\n",
    "from torchvision import models\n",
    "from collections import namedtuple\n",
    "\n",
    "\n",
    "import numpy as np\n",
    "import os\n",
    "from PIL import Image\n",
    "from skimage.color import rgb2ycbcr\n",
    "from skimage.metrics import peak_signal_noise_ratio\n",
    "from tqdm import tqdm\n",
    "import random"
   ]
  },
  {
   "cell_type": "markdown",
   "metadata": {},
   "source": [
    "### Dataset"
   ]
  },
  {
   "cell_type": "code",
   "execution_count": 2,
   "metadata": {},
   "outputs": [],
   "source": [
    "class mydata(Dataset):\n",
    "    def __init__(self, LR_path, GT_path, in_memory = True, transform = None):\n",
    "        \n",
    "        self.LR_path = LR_path\n",
    "        self.GT_path = GT_path\n",
    "        self.in_memory = in_memory\n",
    "        self.transform = transform\n",
    "        \n",
    "        self.LR_img = sorted(os.listdir(LR_path))\n",
    "        self.GT_img = sorted(os.listdir(GT_path))\n",
    "        \n",
    "        if in_memory:\n",
    "            self.LR_img = [np.array(Image.open(os.path.join(self.LR_path, lr)).convert(\"RGB\")).astype(np.uint8) for lr in self.LR_img]\n",
    "            self.GT_img = [np.array(Image.open(os.path.join(self.GT_path, gt)).convert(\"RGB\")).astype(np.uint8) for gt in self.GT_img]\n",
    "        \n",
    "    def __len__(self):\n",
    "        \n",
    "        return len(self.LR_img)\n",
    "        \n",
    "    def __getitem__(self, i):\n",
    "        \n",
    "        img_item = {}\n",
    "        \n",
    "        if self.in_memory:\n",
    "            GT = self.GT_img[i].astype(np.float32)\n",
    "            LR = self.LR_img[i].astype(np.float32)\n",
    "            \n",
    "        else:\n",
    "            GT = np.array(Image.open(os.path.join(self.GT_path, self.GT_img[i])).convert(\"RGB\"))\n",
    "            LR = np.array(Image.open(os.path.join(self.LR_path, self.LR_img[i])).convert(\"RGB\"))\n",
    "\n",
    "        img_item['GT'] = (GT / 127.5) - 1.0\n",
    "        img_item['LR'] = (LR / 127.5) - 1.0\n",
    "                \n",
    "        if self.transform is not None:\n",
    "            img_item = self.transform(img_item)\n",
    "            \n",
    "        img_item['GT'] = img_item['GT'].transpose(2, 0, 1).astype(np.float32)\n",
    "        img_item['LR'] = img_item['LR'].transpose(2, 0, 1).astype(np.float32)\n",
    "        \n",
    "        return img_item\n",
    "    \n",
    "    \n",
    "class testOnly_data(Dataset):\n",
    "    def __init__(self, LR_path, in_memory = True, transform = None):\n",
    "        \n",
    "        self.LR_path = LR_path\n",
    "        self.LR_img = sorted(os.listdir(LR_path))\n",
    "        self.in_memory = in_memory\n",
    "        if in_memory:\n",
    "            self.LR_img = [np.array(Image.open(os.path.join(self.LR_path, lr))) for lr in self.LR_img]\n",
    "        \n",
    "    def __len__(self):\n",
    "        \n",
    "        return len(self.LR_img)\n",
    "        \n",
    "    def __getitem__(self, i):\n",
    "        \n",
    "        img_item = {}\n",
    "        \n",
    "        if self.in_memory:\n",
    "            LR = self.LR_img[i]\n",
    "            \n",
    "        else:\n",
    "            LR = np.array(Image.open(os.path.join(self.LR_path, self.LR_img[i])))\n",
    "\n",
    "        img_item['LR'] = (LR / 127.5) - 1.0                \n",
    "        img_item['LR'] = img_item['LR'].transpose(2, 0, 1).astype(np.float32)\n",
    "        \n",
    "        return img_item\n",
    "\n",
    "\n",
    "class crop(object):\n",
    "    def __init__(self, scale, patch_size):\n",
    "        \n",
    "        self.scale = scale\n",
    "        self.patch_size = patch_size\n",
    "        \n",
    "    def __call__(self, sample):\n",
    "        LR_img, GT_img = sample['LR'], sample['GT']\n",
    "        ih, iw = LR_img.shape[:2]\n",
    "        \n",
    "        ix = random.randrange(0, iw - self.patch_size +1)\n",
    "        iy = random.randrange(0, ih - self.patch_size +1)\n",
    "        \n",
    "        tx = ix * self.scale\n",
    "        ty = iy * self.scale\n",
    "        \n",
    "        LR_patch = LR_img[iy : iy + self.patch_size, ix : ix + self.patch_size]\n",
    "        GT_patch = GT_img[ty : ty + (self.scale * self.patch_size), tx : tx + (self.scale * self.patch_size)]\n",
    "        \n",
    "        return {'LR' : LR_patch, 'GT' : GT_patch}\n",
    "\n",
    "class augmentation(object):\n",
    "    \n",
    "    def __call__(self, sample):\n",
    "        LR_img, GT_img = sample['LR'], sample['GT']\n",
    "        \n",
    "        hor_flip = random.randrange(0,2)\n",
    "        ver_flip = random.randrange(0,2)\n",
    "        rot = random.randrange(0,2)\n",
    "    \n",
    "        if hor_flip:\n",
    "            temp_LR = np.fliplr(LR_img)\n",
    "            LR_img = temp_LR.copy()\n",
    "            temp_GT = np.fliplr(GT_img)\n",
    "            GT_img = temp_GT.copy()\n",
    "            \n",
    "            del temp_LR, temp_GT\n",
    "        \n",
    "        if ver_flip:\n",
    "            temp_LR = np.flipud(LR_img)\n",
    "            LR_img = temp_LR.copy()\n",
    "            temp_GT = np.flipud(GT_img)\n",
    "            GT_img = temp_GT.copy()\n",
    "            \n",
    "            del temp_LR, temp_GT\n",
    "            \n",
    "        if rot:\n",
    "            LR_img = LR_img.transpose(1, 0, 2)\n",
    "            GT_img = GT_img.transpose(1, 0, 2)\n",
    "        \n",
    "        \n",
    "        return {'LR' : LR_img, 'GT' : GT_img}\n",
    "        \n",
    "\n"
   ]
  },
  {
   "cell_type": "markdown",
   "metadata": {},
   "source": [
    "### VGG19 for Perceptual Loss"
   ]
  },
  {
   "cell_type": "code",
   "execution_count": 3,
   "metadata": {},
   "outputs": [],
   "source": [
    "class vgg19(nn.Module):\n",
    "    \n",
    "    def __init__(self, pre_trained = True, require_grad = False):\n",
    "        super(vgg19, self).__init__()\n",
    "        self.vgg_feature = models.vgg19(pretrained = pre_trained).features\n",
    "        self.seq_list = [nn.Sequential(ele) for ele in self.vgg_feature]\n",
    "        self.vgg_layer = ['conv1_1', 'relu1_1', 'conv1_2', 'relu1_2', 'pool1', \n",
    "                         'conv2_1', 'relu2_1', 'conv2_2', 'relu2_2', 'pool2',\n",
    "                         'conv3_1', 'relu3_1', 'conv3_2', 'relu3_2', 'conv3_3', 'relu3_3', 'conv3_4', 'relu3_4', 'pool3',\n",
    "                         'conv4_1', 'relu4_1', 'conv4_2', 'relu4_2', 'conv4_3', 'relu4_3', 'conv4_4', 'relu4_4', 'pool4',\n",
    "                         'conv5_1', 'relu5_1', 'conv5_2', 'relu5_2', 'conv5_3', 'relu5_3', 'conv5_4', 'relu5_4', 'pool5']\n",
    "        \n",
    "        if not require_grad:\n",
    "            for parameter in self.parameters():\n",
    "                parameter.requires_grad = False\n",
    "        \n",
    "    def forward(self, x):\n",
    "        \n",
    "        conv1_1 = self.seq_list[0](x)\n",
    "        relu1_1 = self.seq_list[1](conv1_1)\n",
    "        conv1_2 = self.seq_list[2](relu1_1)\n",
    "        relu1_2 = self.seq_list[3](conv1_2)\n",
    "        pool1 = self.seq_list[4](relu1_2)\n",
    "        \n",
    "        conv2_1 = self.seq_list[5](pool1)\n",
    "        relu2_1 = self.seq_list[6](conv2_1)\n",
    "        conv2_2 = self.seq_list[7](relu2_1)\n",
    "        relu2_2 = self.seq_list[8](conv2_2)\n",
    "        pool2 = self.seq_list[9](relu2_2)\n",
    "        \n",
    "        conv3_1 = self.seq_list[10](pool2)\n",
    "        relu3_1 = self.seq_list[11](conv3_1)\n",
    "        conv3_2 = self.seq_list[12](relu3_1)\n",
    "        relu3_2 = self.seq_list[13](conv3_2)\n",
    "        conv3_3 = self.seq_list[14](relu3_2)\n",
    "        relu3_3 = self.seq_list[15](conv3_3)\n",
    "        conv3_4 = self.seq_list[16](relu3_3)\n",
    "        relu3_4 = self.seq_list[17](conv3_4)\n",
    "        pool3 = self.seq_list[18](relu3_4)\n",
    "        \n",
    "        conv4_1 = self.seq_list[19](pool3)\n",
    "        relu4_1 = self.seq_list[20](conv4_1)\n",
    "        conv4_2 = self.seq_list[21](relu4_1)\n",
    "        relu4_2 = self.seq_list[22](conv4_2)\n",
    "        conv4_3 = self.seq_list[23](relu4_2)\n",
    "        relu4_3 = self.seq_list[24](conv4_3)\n",
    "        conv4_4 = self.seq_list[25](relu4_3)\n",
    "        relu4_4 = self.seq_list[26](conv4_4)\n",
    "        pool4 = self.seq_list[27](relu4_4)\n",
    "        \n",
    "        conv5_1 = self.seq_list[28](pool4)\n",
    "        relu5_1 = self.seq_list[29](conv5_1)\n",
    "        conv5_2 = self.seq_list[30](relu5_1)\n",
    "        relu5_2 = self.seq_list[31](conv5_2)\n",
    "        conv5_3 = self.seq_list[32](relu5_2)\n",
    "        relu5_3 = self.seq_list[33](conv5_3)\n",
    "        conv5_4 = self.seq_list[34](relu5_3)\n",
    "        relu5_4 = self.seq_list[35](conv5_4)\n",
    "        pool5 = self.seq_list[36](relu5_4)\n",
    "        \n",
    "        vgg_output = namedtuple(\"vgg_output\", self.vgg_layer)\n",
    "        \n",
    "        vgg_list = [conv1_1, relu1_1, conv1_2, relu1_2, pool1, \n",
    "                         conv2_1, relu2_1, conv2_2, relu2_2, pool2,\n",
    "                         conv3_1, relu3_1, conv3_2, relu3_2, conv3_3, relu3_3, conv3_4, relu3_4, pool3,\n",
    "                         conv4_1, relu4_1, conv4_2, relu4_2, conv4_3, relu4_3, conv4_4, relu4_4, pool4,\n",
    "                         conv5_1, relu5_1, conv5_2, relu5_2, conv5_3, relu5_3, conv5_4, relu5_4, pool5]\n",
    "        \n",
    "        out = vgg_output(*vgg_list)\n",
    "        \n",
    "        \n",
    "        return out\n",
    "        \n",
    "\n"
   ]
  },
  {
   "cell_type": "markdown",
   "metadata": {},
   "source": [
    "### Loss Definitions"
   ]
  },
  {
   "cell_type": "code",
   "execution_count": 4,
   "metadata": {},
   "outputs": [],
   "source": [
    "class MeanShift(nn.Conv2d):\n",
    "    def __init__(\n",
    "        self, rgb_range = 1,\n",
    "        norm_mean=(0.485, 0.456, 0.406), norm_std=(0.229, 0.224, 0.225), sign=-1):\n",
    "\n",
    "        super(MeanShift, self).__init__(3, 3, kernel_size=1)\n",
    "        std = torch.Tensor(norm_std)\n",
    "        self.weight.data = torch.eye(3).view(3, 3, 1, 1) / std.view(3, 1, 1, 1)\n",
    "        self.bias.data = sign * rgb_range * torch.Tensor(norm_mean) / std\n",
    "        self.device = torch.device(\"cuda\" if torch.cuda.is_available() else \"cpu\")\n",
    "        \n",
    "        for p in self.parameters():\n",
    "            p.requires_grad = False\n",
    "\n",
    "\n",
    "class perceptual_loss(nn.Module):\n",
    "\n",
    "    def __init__(self, vgg):\n",
    "        super(perceptual_loss, self).__init__()\n",
    "        self.normalization_mean = [0.485, 0.456, 0.406]\n",
    "        self.normalization_std = [0.229, 0.224, 0.225]\n",
    "        self.device = torch.device(\"cuda\" if torch.cuda.is_available() else \"cpu\")\n",
    "        self.transform = MeanShift(norm_mean = self.normalization_mean, norm_std = self.normalization_std).to(self.device)\n",
    "        self.vgg = vgg\n",
    "        self.criterion = nn.MSELoss()\n",
    "    def forward(self, HR, SR, layer = 'relu5_4'):\n",
    "        ## HR and SR should be normalized [0,1]\n",
    "        hr = self.transform(HR)\n",
    "        sr = self.transform(SR)\n",
    "        \n",
    "        hr_feat = getattr(self.vgg(hr), layer)\n",
    "        sr_feat = getattr(self.vgg(sr), layer)\n",
    "        \n",
    "        return self.criterion(hr_feat, sr_feat), hr_feat, sr_feat\n",
    "\n",
    "class TVLoss(nn.Module):\n",
    "    def __init__(self, tv_loss_weight=1):\n",
    "        super(TVLoss, self).__init__()\n",
    "        self.tv_loss_weight = tv_loss_weight\n",
    "\n",
    "    def forward(self, x):\n",
    "        batch_size = x.size()[0]\n",
    "        h_x = x.size()[2]\n",
    "        w_x = x.size()[3]\n",
    "        count_h = self.tensor_size(x[:, :, 1:, :])\n",
    "        count_w = self.tensor_size(x[:, :, :, 1:])\n",
    "        h_tv = torch.pow((x[:, :, 1:, :] - x[:, :, :h_x - 1, :]), 2).sum()\n",
    "        w_tv = torch.pow((x[:, :, :, 1:] - x[:, :, :, :w_x - 1]), 2).sum()\n",
    "        \n",
    "        return self.tv_loss_weight * 2 * (h_tv / count_h + w_tv / count_w) / batch_size\n",
    "\n",
    "    @staticmethod\n",
    "    def tensor_size(t):\n",
    "        return t.size()[1] * t.size()[2] * t.size()[3]\n",
    "\n"
   ]
  },
  {
   "cell_type": "markdown",
   "metadata": {},
   "source": [
    "### Model Definintion"
   ]
  },
  {
   "cell_type": "code",
   "execution_count": 5,
   "metadata": {},
   "outputs": [],
   "source": [
    "class _conv(nn.Conv2d):\n",
    "    def __init__(self, in_channels, out_channels, kernel_size, stride, padding, bias):\n",
    "        super(_conv, self).__init__(in_channels = in_channels, out_channels = out_channels, \n",
    "                               kernel_size = kernel_size, stride = stride, padding = (kernel_size) // 2, bias = True)\n",
    "        \n",
    "        self.weight.data = torch.normal(torch.zeros((out_channels, in_channels, kernel_size, kernel_size)), 0.02)\n",
    "        self.bias.data = torch.zeros((out_channels))\n",
    "        \n",
    "        for p in self.parameters():\n",
    "            p.requires_grad = True\n",
    "        \n",
    "\n",
    "class conv(nn.Module):\n",
    "    def __init__(self, in_channel, out_channel, kernel_size, BN = False, act = None, stride = 1, bias = True):\n",
    "        super(conv, self).__init__()\n",
    "        m = []\n",
    "        m.append(_conv(in_channels = in_channel, out_channels = out_channel, \n",
    "                               kernel_size = kernel_size, stride = stride, padding = (kernel_size) // 2, bias = True))\n",
    "        \n",
    "        if BN:\n",
    "            m.append(nn.BatchNorm2d(num_features = out_channel))\n",
    "        \n",
    "        if act is not None:\n",
    "            m.append(act)\n",
    "        \n",
    "        self.body = nn.Sequential(*m)\n",
    "        \n",
    "    def forward(self, x):\n",
    "        out = self.body(x)\n",
    "        return out\n",
    "    \n",
    "\n",
    "        \n",
    "class ResBlock(nn.Module):\n",
    "    def __init__(self, channels, kernel_size, act = nn.ReLU(inplace = True), bias = True):\n",
    "        super(ResBlock, self).__init__()\n",
    "        m = []\n",
    "        m.append(conv(channels, channels, kernel_size, BN = True, act = act))\n",
    "        m.append(conv(channels, channels, kernel_size, BN = True, act = None))\n",
    "        self.body = nn.Sequential(*m)\n",
    "        \n",
    "    def forward(self, x):\n",
    "        res = self.body(x)\n",
    "        res += x\n",
    "        return res\n",
    "    \n",
    "class BasicBlock(nn.Module):\n",
    "    def __init__(self, in_channels, out_channels, kernel_size, num_res_block, act = nn.ReLU(inplace = True)):\n",
    "        super(BasicBlock, self).__init__()\n",
    "        m = []\n",
    "        \n",
    "        self.conv = conv(in_channels, out_channels, kernel_size, BN = False, act = act)\n",
    "        for i in range(num_res_block):\n",
    "            m.append(ResBlock(out_channels, kernel_size, act))\n",
    "        \n",
    "        m.append(conv(out_channels, out_channels, kernel_size, BN = True, act = None))\n",
    "        \n",
    "        self.body = nn.Sequential(*m)\n",
    "        \n",
    "    def forward(self, x):\n",
    "        res = self.conv(x)\n",
    "        out = self.body(res)\n",
    "        out += res\n",
    "        \n",
    "        return out\n",
    "        \n",
    "class Upsampler(nn.Module):\n",
    "    def __init__(self, channel, kernel_size, scale, act = nn.ReLU(inplace = True)):\n",
    "        super(Upsampler, self).__init__()\n",
    "        m = []\n",
    "        m.append(conv(channel, channel * scale * scale, kernel_size))\n",
    "        m.append(nn.PixelShuffle(scale))\n",
    "    \n",
    "        if act is not None:\n",
    "            m.append(act)\n",
    "        \n",
    "        self.body = nn.Sequential(*m)\n",
    "    \n",
    "    def forward(self, x):\n",
    "        out = self.body(x)\n",
    "        return out\n",
    "\n",
    "class discrim_block(nn.Module):\n",
    "    def __init__(self, in_feats, out_feats, kernel_size, act = nn.LeakyReLU(inplace = True)):\n",
    "        super(discrim_block, self).__init__()\n",
    "        m = []\n",
    "        m.append(conv(in_feats, out_feats, kernel_size, BN = True, act = act))\n",
    "        m.append(conv(out_feats, out_feats, kernel_size, BN = True, act = act, stride = 2))\n",
    "        self.body = nn.Sequential(*m)\n",
    "        \n",
    "    def forward(self, x):\n",
    "        out = self.body(x)\n",
    "        return out\n"
   ]
  },
  {
   "cell_type": "code",
   "execution_count": 6,
   "metadata": {},
   "outputs": [],
   "source": [
    "class MiniSRGAN(nn.Module):\n",
    "    \n",
    "    def __init__(self, img_feat = 3, n_feats = 32, kernel_size = 3, num_block = 6, act = nn.PReLU(), scale=4):\n",
    "        super(MiniSRGAN, self).__init__()\n",
    "        \n",
    "        self.conv01 = conv(in_channel = img_feat, out_channel = n_feats, kernel_size = 9, BN = False, act = act)\n",
    "        \n",
    "        resblocks = [ResBlock(channels = n_feats, kernel_size = 3, act = act) for _ in range(num_block)]\n",
    "        self.body = nn.Sequential(*resblocks)\n",
    "        \n",
    "        self.conv02 = conv(in_channel = n_feats, out_channel = n_feats, kernel_size = 3, BN = True, act = None)\n",
    "        \n",
    "        if(scale == 4):\n",
    "            upsample_blocks = [Upsampler(channel = n_feats, kernel_size = 3, scale = 2, act = act) for _ in range(2)]\n",
    "        else:\n",
    "            upsample_blocks = [Upsampler(channel = n_feats, kernel_size = 3, scale = scale, act = act)]\n",
    "\n",
    "        self.tail = nn.Sequential(*upsample_blocks)\n",
    "        \n",
    "        self.last_conv = conv(in_channel = n_feats, out_channel = img_feat, kernel_size = 3, BN = False, act = nn.Tanh())\n",
    "        \n",
    "    def forward(self, x):\n",
    "        \n",
    "        x = self.conv01(x)\n",
    "        _skip_connection = x\n",
    "        \n",
    "        x = self.body(x)\n",
    "        x = self.conv02(x)\n",
    "        feat = x + _skip_connection\n",
    "        \n",
    "        x = self.tail(feat)\n",
    "        x = self.last_conv(x)\n",
    "        \n",
    "        return x, feat\n",
    "     \n",
    "class Discriminator(nn.Module):\n",
    "    \n",
    "    def __init__(self, img_feat = 3, n_feats = 64, kernel_size = 3, act = nn.LeakyReLU(inplace = True), num_of_block = 3, patch_size = 96):\n",
    "        super(Discriminator, self).__init__()\n",
    "        self.act = act\n",
    "        \n",
    "        self.conv01 = conv(in_channel = img_feat, out_channel = n_feats, kernel_size = 3, BN = False, act = self.act)\n",
    "        self.conv02 = conv(in_channel = n_feats, out_channel = n_feats, kernel_size = 3, BN = False, act = self.act, stride = 2)\n",
    "        \n",
    "        body = [discrim_block(in_feats = n_feats * (2 ** i), out_feats = n_feats * (2 ** (i + 1)), kernel_size = 3, act = self.act) for i in range(num_of_block)]    \n",
    "        self.body = nn.Sequential(*body)\n",
    "        \n",
    "        self.linear_size = ((patch_size // (2 ** (num_of_block + 1))) ** 2) * (n_feats * (2 ** num_of_block))\n",
    "        \n",
    "        tail = []\n",
    "        \n",
    "        tail.append(nn.Linear(self.linear_size, 1024))\n",
    "        tail.append(self.act)\n",
    "        tail.append(nn.Linear(1024, 1))\n",
    "        tail.append(nn.Sigmoid())\n",
    "        \n",
    "        self.tail = nn.Sequential(*tail)\n",
    "        \n",
    "        \n",
    "    def forward(self, x):\n",
    "        \n",
    "        x = self.conv01(x)\n",
    "        x = self.conv02(x)\n",
    "        x = self.body(x)        \n",
    "        x = x.view(-1, self.linear_size)\n",
    "        x = self.tail(x)\n",
    "        \n",
    "        return x\n",
    "\n"
   ]
  },
  {
   "cell_type": "markdown",
   "metadata": {},
   "source": [
    "### Training and testing functions"
   ]
  },
  {
   "cell_type": "code",
   "execution_count": 7,
   "metadata": {},
   "outputs": [],
   "source": [
    "def train(LR_path, GT_path, batch_size=16, res_num=16, num_workers=0, scale=4, L2_coeff=1.0, adv_coeff=1e-3, tv_loss_coeff=0.0, pre_train_epoch=8000, fine_train_epoch=4000, patch_size=24, feat_layer='relu5_4', vgg_rescale_coeff=0.006, in_memory=True, generator_path=None, fine_tuning=False):\n",
    "    \n",
    "    device = torch.device(\"cuda\" if torch.cuda.is_available() else \"cpu\")\n",
    "    \n",
    "    transform  = transforms.Compose([crop(scale, patch_size), augmentation()])\n",
    "    dataset = mydata(GT_path=GT_path, LR_path=LR_path, in_memory=in_memory, transform=transform)\n",
    "    loader = DataLoader(dataset, batch_size=batch_size, shuffle=True, num_workers=num_workers)\n",
    "    \n",
    "    generator = MiniSRGAN()\n",
    "    \n",
    "    if fine_tuning:        \n",
    "        generator.load_state_dict(torch.load(generator_path))\n",
    "        print(\"pre-trained model is loaded\")\n",
    "        print(\"path : %s\"%(generator_path))\n",
    "        \n",
    "    generator = generator.to(device)\n",
    "    generator.train()\n",
    "    \n",
    "    l2_loss = nn.MSELoss()\n",
    "    g_optim = optim.Adam(generator.parameters(), lr=1e-4)\n",
    "        \n",
    "    pre_epoch = 0\n",
    "    fine_epoch = 0\n",
    "    \n",
    "    #### Train using L2_loss\n",
    "    # Initialize best loss to a very large value\n",
    "    best_loss = 0.002\n",
    "    pre_epoch = 3526\n",
    "    generator.load_state_dict(torch.load('./minisrgan_weights/pre_trained_model_latest.pt'))\n",
    "\n",
    "    while pre_epoch < pre_train_epoch:\n",
    "        for i, tr_data in enumerate(tqdm(loader, desc=f\"Epoch {pre_epoch+1}/{pre_train_epoch}\")):\n",
    "            gt = tr_data['GT'].to(device)\n",
    "            lr = tr_data['LR'].to(device)\n",
    "\n",
    "            output, _ = generator(lr)\n",
    "            loss = l2_loss(gt, output)\n",
    "\n",
    "            g_optim.zero_grad()\n",
    "            loss.backward()\n",
    "            g_optim.step()\n",
    "\n",
    "        pre_epoch += 1\n",
    "\n",
    "        if pre_epoch % 2 == 0:\n",
    "            torch.save(generator.state_dict(), './minisrgan_weights/pre_trained_model_latest.pt')\n",
    "            print(pre_epoch)\n",
    "            print(loss.item())\n",
    "            print('=========')\n",
    "\n",
    "        # Save the model if it has the best loss so far\n",
    "        if loss.item() < best_loss:\n",
    "            best_loss = loss.item()\n",
    "            torch.save(generator.state_dict(), './minisrgan_weights/best_pre_trained_model.pt')\n",
    "            print(f\"New best model saved with loss: {best_loss}\")\n",
    "\n",
    "        if pre_epoch % 800 == 0:\n",
    "            torch.save(generator.state_dict(), './minisrgan_weights/pre_trained_model_%03d.pt' % pre_epoch)\n",
    "    \n",
    "    #### Train using perceptual & adversarial loss\n",
    "    vgg_net = vgg19().to(device)\n",
    "    vgg_net = vgg_net.eval()\n",
    "    \n",
    "    discriminator = Discriminator(patch_size=patch_size * scale)\n",
    "    discriminator = discriminator.to(device)\n",
    "    discriminator.train()\n",
    "    \n",
    "    d_optim = optim.Adam(discriminator.parameters(), lr=1e-4)\n",
    "    scheduler = optim.lr_scheduler.StepLR(g_optim, step_size=2000, gamma=0.1)\n",
    "    \n",
    "    VGG_loss = perceptual_loss(vgg_net)\n",
    "    cross_ent = nn.BCELoss()\n",
    "    tv_loss = TVLoss()\n",
    "    real_label = torch.ones((batch_size, 1)).to(device)\n",
    "    fake_label = torch.zeros((batch_size, 1)).to(device)\n",
    "    \n",
    "    generator.load_state_dict(torch.load('./minisrgan_weights/pre_trained_model_latest.pt'))\n",
    "\n",
    "    print('Training Discriminator and Generator...')\n",
    "    while fine_epoch < fine_train_epoch:\n",
    "        \n",
    "        scheduler.step()\n",
    "        \n",
    "        # Initialize tqdm progress bar\n",
    "        for i, tr_data in enumerate(tqdm(loader, desc=f\"Epoch {fine_epoch+1}/{fine_train_epoch}\")):\n",
    "            gt = tr_data['GT'].to(device)\n",
    "            lr = tr_data['LR'].to(device)\n",
    "\n",
    "                            \n",
    "            ## Training Discriminator\n",
    "            output, _ = generator(lr)\n",
    "            fake_prob = discriminator(output)\n",
    "            real_prob = discriminator(gt)\n",
    "            \n",
    "            d_loss_real = cross_ent(real_prob, real_label)\n",
    "            d_loss_fake = cross_ent(fake_prob, fake_label)\n",
    "            \n",
    "            d_loss = d_loss_real + d_loss_fake\n",
    "\n",
    "            g_optim.zero_grad()\n",
    "            d_optim.zero_grad()\n",
    "            d_loss.backward()\n",
    "            d_optim.step()\n",
    "            \n",
    "            ## Training Generator\n",
    "            output, _ = generator(lr)\n",
    "            fake_prob = discriminator(output)\n",
    "            \n",
    "            _percep_loss, hr_feat, sr_feat = VGG_loss((gt + 1.0) / 2.0, (output + 1.0) / 2.0, layer=feat_layer)\n",
    "            \n",
    "            L2_loss = l2_loss(output, gt)\n",
    "            percep_loss = vgg_rescale_coeff * _percep_loss\n",
    "            adversarial_loss = adv_coeff * cross_ent(fake_prob, real_label)\n",
    "            total_variance_loss = tv_loss_coeff * tv_loss(vgg_rescale_coeff * (hr_feat - sr_feat)**2)\n",
    "            \n",
    "            g_loss = percep_loss + adversarial_loss + total_variance_loss + L2_loss\n",
    "            \n",
    "            if g_loss.item() < best_loss:\n",
    "                best_loss = g_loss.item()\n",
    "                torch.save(generator.state_dict(), './minisrgan_weights/best_trained_model.pt')\n",
    "                print(f\"New best model saved with loss: {best_loss}\")\n",
    "\n",
    "            \n",
    "            g_optim.zero_grad()\n",
    "            d_optim.zero_grad()\n",
    "            g_loss.backward()\n",
    "            g_optim.step()\n",
    "\n",
    "            \n",
    "        fine_epoch += 1\n",
    "\n",
    "        if fine_epoch % 2 == 0:\n",
    "            print(fine_epoch)\n",
    "            print(g_loss.item())\n",
    "            print(d_loss.item())\n",
    "            print('=========')\n",
    "            torch.save(generator.state_dict(), './minisrgan_weights/latest_trained_model.pt')\n",
    "\n",
    "        if fine_epoch % 500 == 0:\n",
    "            torch.save(generator.state_dict(), './minisrgan_weights/SRGAN_gene_%03d.pt' % fine_epoch)\n",
    "            torch.save(discriminator.state_dict(), './minisrgan_weights/SRGAN_discrim_%03d.pt' % fine_epoch)\n",
    "\n",
    "\n",
    "def test(LR_path, GT_path, num_workers=0, scale=4, generator_path=None):\n",
    "    \n",
    "    device = torch.device(\"cuda\" if torch.cuda.is_available() else \"cpu\")\n",
    "    dataset = mydata(GT_path=GT_path, LR_path=LR_path, in_memory=False, transform=None)\n",
    "    loader = DataLoader(dataset, batch_size=1, shuffle=False, num_workers=num_workers)\n",
    "    \n",
    "    generator = MiniSRGAN()\n",
    "    generator.load_state_dict(torch.load(generator_path))\n",
    "    generator = generator.to(device)\n",
    "    generator.eval()\n",
    "    \n",
    "    f = open('./result_minisrgan.txt', 'w')\n",
    "    psnr_list = []\n",
    "    \n",
    "    with torch.no_grad():\n",
    "        for i, te_data in enumerate(loader):\n",
    "            gt = te_data['GT'].to(device)\n",
    "            lr = te_data['LR'].to(device)\n",
    "\n",
    "            bs, c, h, w = lr.size()\n",
    "            gt = gt[:, :, : h * scale, : w * scale]\n",
    "\n",
    "            output, _ = generator(lr)\n",
    "\n",
    "            output = output[0].cpu().numpy()\n",
    "            output = np.clip(output, -1.0, 1.0)\n",
    "            gt = gt[0].cpu().numpy()\n",
    "\n",
    "            output = (output + 1.0) / 2.0\n",
    "            gt = (gt + 1.0) / 2.0\n",
    "\n",
    "            output = output.transpose(1, 2, 0)\n",
    "            gt = gt.transpose(1, 2, 0)\n",
    "\n",
    "            y_output = rgb2ycbcr(output)[scale:-scale, scale:-scale, :1]\n",
    "            y_gt = rgb2ycbcr(gt)[scale:-scale, scale:-scale, :1]\n",
    "            \n",
    "            psnr_value = peak_signal_noise_ratio(y_output / 255.0, y_gt / 255.0, data_range=1.0)\n",
    "            psnr_list.append(psnr_value)\n",
    "            f.write(f'PSNR: {psnr_value:.4f}\\n')\n",
    "\n",
    "            result = Image.fromarray((output * 255.0).astype(np.uint8))\n",
    "            result.save('./result_minisrgan/res_%04d.png' % i)\n",
    "\n",
    "        f.write(f'Average PSNR: {np.mean(psnr_list):.4f}')\n",
    "        f.close()\n",
    "\n",
    "\n",
    "def test_only(LR_path, num_workers=0, generator_path=None):\n",
    "    \n",
    "    device = torch.device(\"cuda\" if torch.cuda.is_available() else \"cpu\")\n",
    "    dataset = testOnly_data(LR_path=LR_path, in_memory=False, transform=None)\n",
    "    loader = DataLoader(dataset, batch_size=1, shuffle=False, num_workers=num_workers)\n",
    "    \n",
    "    generator = MiniSRGAN()\n",
    "    generator.load_state_dict(torch.load(generator_path))\n",
    "    generator = generator.to(device)\n",
    "    generator.eval()\n",
    "    \n",
    "    with torch.no_grad():\n",
    "        for i, te_data in enumerate(loader):\n",
    "            lr = te_data['LR'].to(device)\n",
    "            output, _ = generator(lr)\n",
    "            output = output[0].cpu().numpy()\n",
    "            output = (output + 1.0) / 2.0\n",
    "            output = output.transpose(1, 2, 0)\n",
    "            result = Image.fromarray((output * 255.0).astype(np.uint8))\n",
    "            result.save('./result_minisrgan/res_%04d.png' % i)"
   ]
  },
  {
   "cell_type": "code",
   "execution_count": 8,
   "metadata": {},
   "outputs": [
    {
     "name": "stderr",
     "output_type": "stream",
     "text": [
      "Epoch 3527/8000: 100%|██████████| 50/50 [00:13<00:00,  3.74it/s]\n",
      "Epoch 3528/8000: 100%|██████████| 50/50 [00:12<00:00,  4.06it/s]\n"
     ]
    },
    {
     "name": "stdout",
     "output_type": "stream",
     "text": [
      "3528\n",
      "0.0086424695327878\n",
      "=========\n"
     ]
    },
    {
     "name": "stderr",
     "output_type": "stream",
     "text": [
      "Epoch 3529/8000: 100%|██████████| 50/50 [00:12<00:00,  3.88it/s]\n",
      "Epoch 3530/8000: 100%|██████████| 50/50 [00:12<00:00,  4.02it/s]\n"
     ]
    },
    {
     "name": "stdout",
     "output_type": "stream",
     "text": [
      "3530\n",
      "0.004779123701155186\n",
      "=========\n"
     ]
    },
    {
     "name": "stderr",
     "output_type": "stream",
     "text": [
      "Epoch 3531/8000: 100%|██████████| 50/50 [00:13<00:00,  3.75it/s]\n",
      "Epoch 3532/8000: 100%|██████████| 50/50 [00:12<00:00,  4.15it/s]\n"
     ]
    },
    {
     "name": "stdout",
     "output_type": "stream",
     "text": [
      "3532\n",
      "0.014241071417927742\n",
      "=========\n"
     ]
    },
    {
     "name": "stderr",
     "output_type": "stream",
     "text": [
      "Epoch 3533/8000: 100%|██████████| 50/50 [00:13<00:00,  3.83it/s]\n",
      "Epoch 3534/8000: 100%|██████████| 50/50 [00:12<00:00,  4.12it/s]\n"
     ]
    },
    {
     "name": "stdout",
     "output_type": "stream",
     "text": [
      "3534\n",
      "0.006344247609376907\n",
      "=========\n"
     ]
    },
    {
     "name": "stderr",
     "output_type": "stream",
     "text": [
      "Epoch 3535/8000: 100%|██████████| 50/50 [00:13<00:00,  3.70it/s]\n",
      "Epoch 3536/8000: 100%|██████████| 50/50 [00:12<00:00,  4.07it/s]\n"
     ]
    },
    {
     "name": "stdout",
     "output_type": "stream",
     "text": [
      "3536\n",
      "0.01069702673703432\n",
      "=========\n"
     ]
    },
    {
     "name": "stderr",
     "output_type": "stream",
     "text": [
      "Epoch 3537/8000: 100%|██████████| 50/50 [00:13<00:00,  3.83it/s]\n",
      "Epoch 3538/8000: 100%|██████████| 50/50 [00:12<00:00,  3.98it/s]\n"
     ]
    },
    {
     "name": "stdout",
     "output_type": "stream",
     "text": [
      "3538\n",
      "0.006526012904942036\n",
      "=========\n"
     ]
    },
    {
     "name": "stderr",
     "output_type": "stream",
     "text": [
      "Epoch 3539/8000: 100%|██████████| 50/50 [00:13<00:00,  3.80it/s]\n",
      "Epoch 3540/8000: 100%|██████████| 50/50 [00:12<00:00,  4.16it/s]\n"
     ]
    },
    {
     "name": "stdout",
     "output_type": "stream",
     "text": [
      "3540\n",
      "0.004082313273102045\n",
      "=========\n"
     ]
    },
    {
     "name": "stderr",
     "output_type": "stream",
     "text": [
      "Epoch 3541/8000: 100%|██████████| 50/50 [00:12<00:00,  4.13it/s]\n",
      "Epoch 3542/8000: 100%|██████████| 50/50 [00:11<00:00,  4.19it/s]\n"
     ]
    },
    {
     "name": "stdout",
     "output_type": "stream",
     "text": [
      "3542\n",
      "0.010985826142132282\n",
      "=========\n"
     ]
    },
    {
     "name": "stderr",
     "output_type": "stream",
     "text": [
      "Epoch 3543/8000: 100%|██████████| 50/50 [00:12<00:00,  3.90it/s]\n",
      "Epoch 3544/8000: 100%|██████████| 50/50 [00:12<00:00,  4.12it/s]\n"
     ]
    },
    {
     "name": "stdout",
     "output_type": "stream",
     "text": [
      "3544\n",
      "0.012563872151076794\n",
      "=========\n"
     ]
    },
    {
     "name": "stderr",
     "output_type": "stream",
     "text": [
      "Epoch 3545/8000: 100%|██████████| 50/50 [00:13<00:00,  3.68it/s]\n",
      "Epoch 3546/8000: 100%|██████████| 50/50 [00:12<00:00,  4.08it/s]\n"
     ]
    },
    {
     "name": "stdout",
     "output_type": "stream",
     "text": [
      "3546\n",
      "0.011324714869260788\n",
      "=========\n"
     ]
    },
    {
     "name": "stderr",
     "output_type": "stream",
     "text": [
      "Epoch 3547/8000: 100%|██████████| 50/50 [00:13<00:00,  3.81it/s]\n",
      "Epoch 3548/8000: 100%|██████████| 50/50 [00:12<00:00,  4.09it/s]\n"
     ]
    },
    {
     "name": "stdout",
     "output_type": "stream",
     "text": [
      "3548\n",
      "0.01631912775337696\n",
      "=========\n"
     ]
    },
    {
     "name": "stderr",
     "output_type": "stream",
     "text": [
      "Epoch 3549/8000: 100%|██████████| 50/50 [00:13<00:00,  3.83it/s]\n",
      "Epoch 3550/8000: 100%|██████████| 50/50 [00:12<00:00,  4.00it/s]\n"
     ]
    },
    {
     "name": "stdout",
     "output_type": "stream",
     "text": [
      "3550\n",
      "0.010580087080597878\n",
      "=========\n"
     ]
    },
    {
     "name": "stderr",
     "output_type": "stream",
     "text": [
      "Epoch 3551/8000: 100%|██████████| 50/50 [00:13<00:00,  3.78it/s]\n",
      "Epoch 3552/8000: 100%|██████████| 50/50 [00:11<00:00,  4.23it/s]\n"
     ]
    },
    {
     "name": "stdout",
     "output_type": "stream",
     "text": [
      "3552\n",
      "0.009045212529599667\n",
      "=========\n"
     ]
    },
    {
     "name": "stderr",
     "output_type": "stream",
     "text": [
      "Epoch 3553/8000: 100%|██████████| 50/50 [00:13<00:00,  3.84it/s]\n",
      "Epoch 3554/8000: 100%|██████████| 50/50 [00:12<00:00,  4.11it/s]\n"
     ]
    },
    {
     "name": "stdout",
     "output_type": "stream",
     "text": [
      "3554\n",
      "0.01852160133421421\n",
      "=========\n"
     ]
    },
    {
     "name": "stderr",
     "output_type": "stream",
     "text": [
      "Epoch 3555/8000: 100%|██████████| 50/50 [00:12<00:00,  3.85it/s]\n",
      "Epoch 3556/8000: 100%|██████████| 50/50 [00:12<00:00,  4.11it/s]\n"
     ]
    },
    {
     "name": "stdout",
     "output_type": "stream",
     "text": [
      "3556\n",
      "0.006285164039582014\n",
      "=========\n"
     ]
    },
    {
     "name": "stderr",
     "output_type": "stream",
     "text": [
      "Epoch 3557/8000: 100%|██████████| 50/50 [00:12<00:00,  3.87it/s]\n",
      "Epoch 3558/8000: 100%|██████████| 50/50 [00:12<00:00,  4.03it/s]\n"
     ]
    },
    {
     "name": "stdout",
     "output_type": "stream",
     "text": [
      "3558\n",
      "0.014053372666239738\n",
      "=========\n"
     ]
    },
    {
     "name": "stderr",
     "output_type": "stream",
     "text": [
      "Epoch 3559/8000: 100%|██████████| 50/50 [00:13<00:00,  3.73it/s]\n",
      "Epoch 3560/8000: 100%|██████████| 50/50 [00:12<00:00,  4.03it/s]\n"
     ]
    },
    {
     "name": "stdout",
     "output_type": "stream",
     "text": [
      "3560\n",
      "0.008878123015165329\n",
      "=========\n"
     ]
    },
    {
     "name": "stderr",
     "output_type": "stream",
     "text": [
      "Epoch 3561/8000: 100%|██████████| 50/50 [00:13<00:00,  3.82it/s]\n",
      "Epoch 3562/8000: 100%|██████████| 50/50 [00:12<00:00,  4.08it/s]\n"
     ]
    },
    {
     "name": "stdout",
     "output_type": "stream",
     "text": [
      "3562\n",
      "0.008216636255383492\n",
      "=========\n"
     ]
    },
    {
     "name": "stderr",
     "output_type": "stream",
     "text": [
      "Epoch 3563/8000: 100%|██████████| 50/50 [00:12<00:00,  3.88it/s]\n",
      "Epoch 3564/8000: 100%|██████████| 50/50 [00:12<00:00,  4.06it/s]\n"
     ]
    },
    {
     "name": "stdout",
     "output_type": "stream",
     "text": [
      "3564\n",
      "0.01312699168920517\n",
      "=========\n"
     ]
    },
    {
     "name": "stderr",
     "output_type": "stream",
     "text": [
      "Epoch 3565/8000: 100%|██████████| 50/50 [00:13<00:00,  3.82it/s]\n",
      "Epoch 3566/8000: 100%|██████████| 50/50 [00:12<00:00,  3.91it/s]\n"
     ]
    },
    {
     "name": "stdout",
     "output_type": "stream",
     "text": [
      "3566\n",
      "0.019163377583026886\n",
      "=========\n"
     ]
    },
    {
     "name": "stderr",
     "output_type": "stream",
     "text": [
      "Epoch 3567/8000: 100%|██████████| 50/50 [00:13<00:00,  3.67it/s]\n",
      "Epoch 3568/8000: 100%|██████████| 50/50 [00:12<00:00,  4.09it/s]\n"
     ]
    },
    {
     "name": "stdout",
     "output_type": "stream",
     "text": [
      "3568\n",
      "0.012201892212033272\n",
      "=========\n"
     ]
    },
    {
     "name": "stderr",
     "output_type": "stream",
     "text": [
      "Epoch 3569/8000: 100%|██████████| 50/50 [00:13<00:00,  3.70it/s]\n",
      "Epoch 3570/8000: 100%|██████████| 50/50 [00:12<00:00,  4.10it/s]\n"
     ]
    },
    {
     "name": "stdout",
     "output_type": "stream",
     "text": [
      "3570\n",
      "0.01426253467798233\n",
      "=========\n"
     ]
    },
    {
     "name": "stderr",
     "output_type": "stream",
     "text": [
      "Epoch 3571/8000: 100%|██████████| 50/50 [00:13<00:00,  3.80it/s]\n",
      "Epoch 3572/8000: 100%|██████████| 50/50 [00:12<00:00,  4.03it/s]\n"
     ]
    },
    {
     "name": "stdout",
     "output_type": "stream",
     "text": [
      "3572\n",
      "0.007241704035550356\n",
      "=========\n"
     ]
    },
    {
     "name": "stderr",
     "output_type": "stream",
     "text": [
      "Epoch 3573/8000: 100%|██████████| 50/50 [00:12<00:00,  3.85it/s]\n",
      "Epoch 3574/8000: 100%|██████████| 50/50 [00:12<00:00,  4.05it/s]\n"
     ]
    },
    {
     "name": "stdout",
     "output_type": "stream",
     "text": [
      "3574\n",
      "0.00927864108234644\n",
      "=========\n"
     ]
    },
    {
     "name": "stderr",
     "output_type": "stream",
     "text": [
      "Epoch 3575/8000: 100%|██████████| 50/50 [00:13<00:00,  3.75it/s]\n",
      "Epoch 3576/8000: 100%|██████████| 50/50 [00:12<00:00,  3.97it/s]\n"
     ]
    },
    {
     "name": "stdout",
     "output_type": "stream",
     "text": [
      "3576\n",
      "0.007928132079541683\n",
      "=========\n"
     ]
    },
    {
     "name": "stderr",
     "output_type": "stream",
     "text": [
      "Epoch 3577/8000: 100%|██████████| 50/50 [00:12<00:00,  4.00it/s]\n",
      "Epoch 3578/8000: 100%|██████████| 50/50 [00:11<00:00,  4.17it/s]\n"
     ]
    },
    {
     "name": "stdout",
     "output_type": "stream",
     "text": [
      "3578\n",
      "0.014668582007288933\n",
      "=========\n"
     ]
    },
    {
     "name": "stderr",
     "output_type": "stream",
     "text": [
      "Epoch 3579/8000: 100%|██████████| 50/50 [00:12<00:00,  3.98it/s]\n",
      "Epoch 3580/8000: 100%|██████████| 50/50 [00:12<00:00,  4.02it/s]\n"
     ]
    },
    {
     "name": "stdout",
     "output_type": "stream",
     "text": [
      "3580\n",
      "0.009019223041832447\n",
      "=========\n"
     ]
    },
    {
     "name": "stderr",
     "output_type": "stream",
     "text": [
      "Epoch 3581/8000: 100%|██████████| 50/50 [00:12<00:00,  3.87it/s]\n",
      "Epoch 3582/8000: 100%|██████████| 50/50 [00:11<00:00,  4.20it/s]\n"
     ]
    },
    {
     "name": "stdout",
     "output_type": "stream",
     "text": [
      "3582\n",
      "0.010971412993967533\n",
      "=========\n"
     ]
    },
    {
     "name": "stderr",
     "output_type": "stream",
     "text": [
      "Epoch 3583/8000: 100%|██████████| 50/50 [00:12<00:00,  3.85it/s]\n",
      "Epoch 3584/8000: 100%|██████████| 50/50 [00:12<00:00,  4.13it/s]\n"
     ]
    },
    {
     "name": "stdout",
     "output_type": "stream",
     "text": [
      "3584\n",
      "0.007136112079024315\n",
      "=========\n"
     ]
    },
    {
     "name": "stderr",
     "output_type": "stream",
     "text": [
      "Epoch 3585/8000: 100%|██████████| 50/50 [00:12<00:00,  3.87it/s]\n",
      "Epoch 3586/8000: 100%|██████████| 50/50 [00:12<00:00,  4.04it/s]\n"
     ]
    },
    {
     "name": "stdout",
     "output_type": "stream",
     "text": [
      "3586\n",
      "0.006331548560410738\n",
      "=========\n"
     ]
    },
    {
     "name": "stderr",
     "output_type": "stream",
     "text": [
      "Epoch 3587/8000: 100%|██████████| 50/50 [00:13<00:00,  3.82it/s]\n",
      "Epoch 3588/8000: 100%|██████████| 50/50 [00:12<00:00,  4.10it/s]\n"
     ]
    },
    {
     "name": "stdout",
     "output_type": "stream",
     "text": [
      "3588\n",
      "0.01039587426930666\n",
      "=========\n"
     ]
    },
    {
     "name": "stderr",
     "output_type": "stream",
     "text": [
      "Epoch 3589/8000: 100%|██████████| 50/50 [00:12<00:00,  3.86it/s]\n",
      "Epoch 3590/8000: 100%|██████████| 50/50 [00:12<00:00,  4.07it/s]\n"
     ]
    },
    {
     "name": "stdout",
     "output_type": "stream",
     "text": [
      "3590\n",
      "0.01456406433135271\n",
      "=========\n"
     ]
    },
    {
     "name": "stderr",
     "output_type": "stream",
     "text": [
      "Epoch 3591/8000: 100%|██████████| 50/50 [00:12<00:00,  4.08it/s]\n",
      "Epoch 3592/8000: 100%|██████████| 50/50 [00:11<00:00,  4.21it/s]\n"
     ]
    },
    {
     "name": "stdout",
     "output_type": "stream",
     "text": [
      "3592\n",
      "0.009836051613092422\n",
      "=========\n"
     ]
    },
    {
     "name": "stderr",
     "output_type": "stream",
     "text": [
      "Epoch 3593/8000: 100%|██████████| 50/50 [00:12<00:00,  4.01it/s]\n",
      "Epoch 3594/8000: 100%|██████████| 50/50 [00:11<00:00,  4.27it/s]\n"
     ]
    },
    {
     "name": "stdout",
     "output_type": "stream",
     "text": [
      "3594\n",
      "0.008152255788445473\n",
      "=========\n"
     ]
    },
    {
     "name": "stderr",
     "output_type": "stream",
     "text": [
      "Epoch 3595/8000: 100%|██████████| 50/50 [00:12<00:00,  4.01it/s]\n",
      "Epoch 3596/8000: 100%|██████████| 50/50 [00:12<00:00,  4.10it/s]\n"
     ]
    },
    {
     "name": "stdout",
     "output_type": "stream",
     "text": [
      "3596\n",
      "0.008206225000321865\n",
      "=========\n"
     ]
    },
    {
     "name": "stderr",
     "output_type": "stream",
     "text": [
      "Epoch 3597/8000: 100%|██████████| 50/50 [00:12<00:00,  4.02it/s]\n",
      "Epoch 3598/8000: 100%|██████████| 50/50 [00:12<00:00,  4.12it/s]\n"
     ]
    },
    {
     "name": "stdout",
     "output_type": "stream",
     "text": [
      "3598\n",
      "0.008069436997175217\n",
      "=========\n"
     ]
    },
    {
     "name": "stderr",
     "output_type": "stream",
     "text": [
      "Epoch 3599/8000: 100%|██████████| 50/50 [00:13<00:00,  3.84it/s]\n",
      "Epoch 3600/8000: 100%|██████████| 50/50 [00:12<00:00,  4.05it/s]\n"
     ]
    },
    {
     "name": "stdout",
     "output_type": "stream",
     "text": [
      "3600\n",
      "0.008110391907393932\n",
      "=========\n"
     ]
    },
    {
     "name": "stderr",
     "output_type": "stream",
     "text": [
      "Epoch 3601/8000: 100%|██████████| 50/50 [00:12<00:00,  3.93it/s]\n",
      "Epoch 3602/8000: 100%|██████████| 50/50 [00:11<00:00,  4.54it/s]\n"
     ]
    },
    {
     "name": "stdout",
     "output_type": "stream",
     "text": [
      "3602\n",
      "0.010365070775151253\n",
      "=========\n"
     ]
    },
    {
     "name": "stderr",
     "output_type": "stream",
     "text": [
      "Epoch 3603/8000: 100%|██████████| 50/50 [00:12<00:00,  3.90it/s]\n",
      "Epoch 3604/8000: 100%|██████████| 50/50 [00:11<00:00,  4.19it/s]\n"
     ]
    },
    {
     "name": "stdout",
     "output_type": "stream",
     "text": [
      "3604\n",
      "0.009800665080547333\n",
      "=========\n"
     ]
    },
    {
     "name": "stderr",
     "output_type": "stream",
     "text": [
      "Epoch 3605/8000: 100%|██████████| 50/50 [00:12<00:00,  3.86it/s]\n",
      "Epoch 3606/8000: 100%|██████████| 50/50 [00:12<00:00,  4.06it/s]\n"
     ]
    },
    {
     "name": "stdout",
     "output_type": "stream",
     "text": [
      "3606\n",
      "0.010464866645634174\n",
      "=========\n"
     ]
    },
    {
     "name": "stderr",
     "output_type": "stream",
     "text": [
      "Epoch 3607/8000: 100%|██████████| 50/50 [00:12<00:00,  3.91it/s]\n",
      "Epoch 3608/8000: 100%|██████████| 50/50 [00:12<00:00,  4.13it/s]\n"
     ]
    },
    {
     "name": "stdout",
     "output_type": "stream",
     "text": [
      "3608\n",
      "0.005905171390622854\n",
      "=========\n"
     ]
    },
    {
     "name": "stderr",
     "output_type": "stream",
     "text": [
      "Epoch 3609/8000: 100%|██████████| 50/50 [00:12<00:00,  4.04it/s]\n",
      "Epoch 3610/8000: 100%|██████████| 50/50 [00:12<00:00,  4.08it/s]\n"
     ]
    },
    {
     "name": "stdout",
     "output_type": "stream",
     "text": [
      "3610\n",
      "0.015178682282567024\n",
      "=========\n"
     ]
    },
    {
     "name": "stderr",
     "output_type": "stream",
     "text": [
      "Epoch 3611/8000: 100%|██████████| 50/50 [00:12<00:00,  3.93it/s]\n",
      "Epoch 3612/8000: 100%|██████████| 50/50 [00:12<00:00,  4.04it/s]\n"
     ]
    },
    {
     "name": "stdout",
     "output_type": "stream",
     "text": [
      "3612\n",
      "0.012413627468049526\n",
      "=========\n"
     ]
    },
    {
     "name": "stderr",
     "output_type": "stream",
     "text": [
      "Epoch 3613/8000: 100%|██████████| 50/50 [00:12<00:00,  3.86it/s]\n",
      "Epoch 3614/8000: 100%|██████████| 50/50 [00:12<00:00,  4.03it/s]\n"
     ]
    },
    {
     "name": "stdout",
     "output_type": "stream",
     "text": [
      "3614\n",
      "0.006250045262277126\n",
      "=========\n"
     ]
    },
    {
     "name": "stderr",
     "output_type": "stream",
     "text": [
      "Epoch 3615/8000: 100%|██████████| 50/50 [00:13<00:00,  3.81it/s]\n",
      "Epoch 3616/8000: 100%|██████████| 50/50 [00:12<00:00,  4.05it/s]\n"
     ]
    },
    {
     "name": "stdout",
     "output_type": "stream",
     "text": [
      "3616\n",
      "0.006620131898671389\n",
      "=========\n"
     ]
    },
    {
     "name": "stderr",
     "output_type": "stream",
     "text": [
      "Epoch 3617/8000: 100%|██████████| 50/50 [00:13<00:00,  3.84it/s]\n",
      "Epoch 3618/8000: 100%|██████████| 50/50 [00:12<00:00,  4.08it/s]\n"
     ]
    },
    {
     "name": "stdout",
     "output_type": "stream",
     "text": [
      "3618\n",
      "0.0032923670951277018\n",
      "=========\n"
     ]
    },
    {
     "name": "stderr",
     "output_type": "stream",
     "text": [
      "Epoch 3619/8000: 100%|██████████| 50/50 [00:13<00:00,  3.85it/s]\n",
      "Epoch 3620/8000: 100%|██████████| 50/50 [00:12<00:00,  4.03it/s]\n"
     ]
    },
    {
     "name": "stdout",
     "output_type": "stream",
     "text": [
      "3620\n",
      "0.011751221492886543\n",
      "=========\n"
     ]
    },
    {
     "name": "stderr",
     "output_type": "stream",
     "text": [
      "Epoch 3621/8000: 100%|██████████| 50/50 [00:13<00:00,  3.82it/s]\n",
      "Epoch 3622/8000: 100%|██████████| 50/50 [00:12<00:00,  4.03it/s]\n"
     ]
    },
    {
     "name": "stdout",
     "output_type": "stream",
     "text": [
      "3622\n",
      "0.020392974838614464\n",
      "=========\n"
     ]
    },
    {
     "name": "stderr",
     "output_type": "stream",
     "text": [
      "Epoch 3623/8000: 100%|██████████| 50/50 [00:13<00:00,  3.84it/s]\n",
      "Epoch 3624/8000: 100%|██████████| 50/50 [00:12<00:00,  4.03it/s]\n"
     ]
    },
    {
     "name": "stdout",
     "output_type": "stream",
     "text": [
      "3624\n",
      "0.019264519214630127\n",
      "=========\n"
     ]
    },
    {
     "name": "stderr",
     "output_type": "stream",
     "text": [
      "Epoch 3625/8000: 100%|██████████| 50/50 [00:12<00:00,  3.91it/s]\n",
      "Epoch 3626/8000: 100%|██████████| 50/50 [00:12<00:00,  4.06it/s]\n"
     ]
    },
    {
     "name": "stdout",
     "output_type": "stream",
     "text": [
      "3626\n",
      "0.013348529115319252\n",
      "=========\n"
     ]
    },
    {
     "name": "stderr",
     "output_type": "stream",
     "text": [
      "Epoch 3627/8000: 100%|██████████| 50/50 [00:13<00:00,  3.83it/s]\n",
      "Epoch 3628/8000: 100%|██████████| 50/50 [00:12<00:00,  4.08it/s]\n"
     ]
    },
    {
     "name": "stdout",
     "output_type": "stream",
     "text": [
      "3628\n",
      "0.008742273785173893\n",
      "=========\n"
     ]
    },
    {
     "name": "stderr",
     "output_type": "stream",
     "text": [
      "Epoch 3629/8000: 100%|██████████| 50/50 [00:12<00:00,  3.87it/s]\n",
      "Epoch 3630/8000: 100%|██████████| 50/50 [00:12<00:00,  4.01it/s]\n"
     ]
    },
    {
     "name": "stdout",
     "output_type": "stream",
     "text": [
      "3630\n",
      "0.015014433301985264\n",
      "=========\n"
     ]
    },
    {
     "name": "stderr",
     "output_type": "stream",
     "text": [
      "Epoch 3631/8000: 100%|██████████| 50/50 [00:12<00:00,  4.04it/s]\n",
      "Epoch 3632/8000: 100%|██████████| 50/50 [00:12<00:00,  4.14it/s]\n"
     ]
    },
    {
     "name": "stdout",
     "output_type": "stream",
     "text": [
      "3632\n",
      "0.014409976080060005\n",
      "=========\n"
     ]
    },
    {
     "name": "stderr",
     "output_type": "stream",
     "text": [
      "Epoch 3633/8000: 100%|██████████| 50/50 [00:13<00:00,  3.82it/s]\n",
      "Epoch 3634/8000: 100%|██████████| 50/50 [00:12<00:00,  4.05it/s]\n"
     ]
    },
    {
     "name": "stdout",
     "output_type": "stream",
     "text": [
      "3634\n",
      "0.013624387793242931\n",
      "=========\n"
     ]
    },
    {
     "name": "stderr",
     "output_type": "stream",
     "text": [
      "Epoch 3635/8000: 100%|██████████| 50/50 [00:13<00:00,  3.80it/s]\n",
      "Epoch 3636/8000: 100%|██████████| 50/50 [00:12<00:00,  4.08it/s]\n"
     ]
    },
    {
     "name": "stdout",
     "output_type": "stream",
     "text": [
      "3636\n",
      "0.012754591181874275\n",
      "=========\n"
     ]
    },
    {
     "name": "stderr",
     "output_type": "stream",
     "text": [
      "Epoch 3637/8000: 100%|██████████| 50/50 [00:12<00:00,  3.89it/s]\n",
      "Epoch 3638/8000: 100%|██████████| 50/50 [00:12<00:00,  4.12it/s]\n"
     ]
    },
    {
     "name": "stdout",
     "output_type": "stream",
     "text": [
      "3638\n",
      "0.017751283943653107\n",
      "=========\n"
     ]
    },
    {
     "name": "stderr",
     "output_type": "stream",
     "text": [
      "Epoch 3639/8000: 100%|██████████| 50/50 [00:12<00:00,  3.99it/s]\n",
      "Epoch 3640/8000: 100%|██████████| 50/50 [00:12<00:00,  3.96it/s]\n"
     ]
    },
    {
     "name": "stdout",
     "output_type": "stream",
     "text": [
      "3640\n",
      "0.007959510199725628\n",
      "=========\n"
     ]
    },
    {
     "name": "stderr",
     "output_type": "stream",
     "text": [
      "Epoch 3641/8000: 100%|██████████| 50/50 [00:12<00:00,  3.88it/s]\n",
      "Epoch 3642/8000: 100%|██████████| 50/50 [00:12<00:00,  4.07it/s]\n"
     ]
    },
    {
     "name": "stdout",
     "output_type": "stream",
     "text": [
      "3642\n",
      "0.006493943743407726\n",
      "=========\n"
     ]
    },
    {
     "name": "stderr",
     "output_type": "stream",
     "text": [
      "Epoch 3643/8000: 100%|██████████| 50/50 [00:12<00:00,  4.14it/s]\n",
      "Epoch 3644/8000: 100%|██████████| 50/50 [00:12<00:00,  4.04it/s]\n"
     ]
    },
    {
     "name": "stdout",
     "output_type": "stream",
     "text": [
      "3644\n",
      "0.007826085202395916\n",
      "=========\n"
     ]
    },
    {
     "name": "stderr",
     "output_type": "stream",
     "text": [
      "Epoch 3645/8000: 100%|██████████| 50/50 [00:12<00:00,  4.08it/s]\n",
      "Epoch 3646/8000: 100%|██████████| 50/50 [00:12<00:00,  4.15it/s]\n"
     ]
    },
    {
     "name": "stdout",
     "output_type": "stream",
     "text": [
      "3646\n",
      "0.007223279215395451\n",
      "=========\n"
     ]
    },
    {
     "name": "stderr",
     "output_type": "stream",
     "text": [
      "Epoch 3647/8000: 100%|██████████| 50/50 [00:12<00:00,  4.07it/s]\n",
      "Epoch 3648/8000: 100%|██████████| 50/50 [00:12<00:00,  4.06it/s]\n"
     ]
    },
    {
     "name": "stdout",
     "output_type": "stream",
     "text": [
      "3648\n",
      "0.012691177427768707\n",
      "=========\n"
     ]
    },
    {
     "name": "stderr",
     "output_type": "stream",
     "text": [
      "Epoch 3649/8000: 100%|██████████| 50/50 [00:12<00:00,  4.13it/s]\n",
      "Epoch 3650/8000: 100%|██████████| 50/50 [00:12<00:00,  3.98it/s]\n"
     ]
    },
    {
     "name": "stdout",
     "output_type": "stream",
     "text": [
      "3650\n",
      "0.007588216569274664\n",
      "=========\n"
     ]
    },
    {
     "name": "stderr",
     "output_type": "stream",
     "text": [
      "Epoch 3651/8000: 100%|██████████| 50/50 [00:12<00:00,  4.14it/s]\n",
      "Epoch 3652/8000: 100%|██████████| 50/50 [00:12<00:00,  4.04it/s]\n"
     ]
    },
    {
     "name": "stdout",
     "output_type": "stream",
     "text": [
      "3652\n",
      "0.017148764804005623\n",
      "=========\n"
     ]
    },
    {
     "name": "stderr",
     "output_type": "stream",
     "text": [
      "Epoch 3653/8000: 100%|██████████| 50/50 [00:12<00:00,  4.04it/s]\n",
      "Epoch 3654/8000: 100%|██████████| 50/50 [00:12<00:00,  4.06it/s]\n"
     ]
    },
    {
     "name": "stdout",
     "output_type": "stream",
     "text": [
      "3654\n",
      "0.004715791437774897\n",
      "=========\n"
     ]
    },
    {
     "name": "stderr",
     "output_type": "stream",
     "text": [
      "Epoch 3655/8000: 100%|██████████| 50/50 [00:12<00:00,  3.99it/s]\n",
      "Epoch 3656/8000: 100%|██████████| 50/50 [00:12<00:00,  3.96it/s]\n"
     ]
    },
    {
     "name": "stdout",
     "output_type": "stream",
     "text": [
      "3656\n",
      "0.0075268978253006935\n",
      "=========\n"
     ]
    },
    {
     "name": "stderr",
     "output_type": "stream",
     "text": [
      "Epoch 3657/8000: 100%|██████████| 50/50 [00:12<00:00,  4.06it/s]\n",
      "Epoch 3658/8000: 100%|██████████| 50/50 [00:12<00:00,  4.10it/s]\n"
     ]
    },
    {
     "name": "stdout",
     "output_type": "stream",
     "text": [
      "3658\n",
      "0.009772545658051968\n",
      "=========\n"
     ]
    },
    {
     "name": "stderr",
     "output_type": "stream",
     "text": [
      "Epoch 3659/8000: 100%|██████████| 50/50 [00:12<00:00,  4.02it/s]\n",
      "Epoch 3660/8000: 100%|██████████| 50/50 [00:12<00:00,  4.06it/s]\n"
     ]
    },
    {
     "name": "stdout",
     "output_type": "stream",
     "text": [
      "3660\n",
      "0.009083015844225883\n",
      "=========\n"
     ]
    },
    {
     "name": "stderr",
     "output_type": "stream",
     "text": [
      "Epoch 3661/8000: 100%|██████████| 50/50 [00:12<00:00,  4.06it/s]\n",
      "Epoch 3662/8000: 100%|██████████| 50/50 [00:12<00:00,  3.90it/s]\n"
     ]
    },
    {
     "name": "stdout",
     "output_type": "stream",
     "text": [
      "3662\n",
      "0.012519855983555317\n",
      "=========\n"
     ]
    },
    {
     "name": "stderr",
     "output_type": "stream",
     "text": [
      "Epoch 3663/8000: 100%|██████████| 50/50 [00:12<00:00,  4.04it/s]\n",
      "Epoch 3664/8000: 100%|██████████| 50/50 [00:12<00:00,  4.05it/s]\n"
     ]
    },
    {
     "name": "stdout",
     "output_type": "stream",
     "text": [
      "3664\n",
      "0.022458717226982117\n",
      "=========\n"
     ]
    },
    {
     "name": "stderr",
     "output_type": "stream",
     "text": [
      "Epoch 3665/8000: 100%|██████████| 50/50 [00:12<00:00,  4.04it/s]\n",
      "Epoch 3666/8000: 100%|██████████| 50/50 [00:12<00:00,  4.08it/s]\n"
     ]
    },
    {
     "name": "stdout",
     "output_type": "stream",
     "text": [
      "3666\n",
      "0.011290216818451881\n",
      "=========\n"
     ]
    },
    {
     "name": "stderr",
     "output_type": "stream",
     "text": [
      "Epoch 3667/8000: 100%|██████████| 50/50 [00:11<00:00,  4.34it/s]\n"
     ]
    },
    {
     "name": "stdout",
     "output_type": "stream",
     "text": [
      "New best model saved with loss: 0.001372640486806631\n"
     ]
    },
    {
     "name": "stderr",
     "output_type": "stream",
     "text": [
      "Epoch 3668/8000: 100%|██████████| 50/50 [00:12<00:00,  3.97it/s]\n"
     ]
    },
    {
     "name": "stdout",
     "output_type": "stream",
     "text": [
      "3668\n",
      "0.0066018798388540745\n",
      "=========\n"
     ]
    },
    {
     "name": "stderr",
     "output_type": "stream",
     "text": [
      "Epoch 3669/8000: 100%|██████████| 50/50 [00:12<00:00,  4.04it/s]\n",
      "Epoch 3670/8000: 100%|██████████| 50/50 [00:12<00:00,  3.96it/s]\n"
     ]
    },
    {
     "name": "stdout",
     "output_type": "stream",
     "text": [
      "3670\n",
      "0.0030011828057467937\n",
      "=========\n"
     ]
    },
    {
     "name": "stderr",
     "output_type": "stream",
     "text": [
      "Epoch 3671/8000: 100%|██████████| 50/50 [00:12<00:00,  3.96it/s]\n",
      "Epoch 3672/8000: 100%|██████████| 50/50 [00:12<00:00,  3.88it/s]\n"
     ]
    },
    {
     "name": "stdout",
     "output_type": "stream",
     "text": [
      "3672\n",
      "0.012414708733558655\n",
      "=========\n"
     ]
    },
    {
     "name": "stderr",
     "output_type": "stream",
     "text": [
      "Epoch 3673/8000: 100%|██████████| 50/50 [00:12<00:00,  3.96it/s]\n",
      "Epoch 3674/8000: 100%|██████████| 50/50 [00:12<00:00,  3.93it/s]\n"
     ]
    },
    {
     "name": "stdout",
     "output_type": "stream",
     "text": [
      "3674\n",
      "0.0045772735029459\n",
      "=========\n"
     ]
    },
    {
     "name": "stderr",
     "output_type": "stream",
     "text": [
      "Epoch 3675/8000: 100%|██████████| 50/50 [00:12<00:00,  4.08it/s]\n",
      "Epoch 3676/8000: 100%|██████████| 50/50 [00:12<00:00,  4.07it/s]\n"
     ]
    },
    {
     "name": "stdout",
     "output_type": "stream",
     "text": [
      "3676\n",
      "0.019311632961034775\n",
      "=========\n"
     ]
    },
    {
     "name": "stderr",
     "output_type": "stream",
     "text": [
      "Epoch 3677/8000: 100%|██████████| 50/50 [00:12<00:00,  4.11it/s]\n",
      "Epoch 3678/8000: 100%|██████████| 50/50 [00:12<00:00,  4.02it/s]\n"
     ]
    },
    {
     "name": "stdout",
     "output_type": "stream",
     "text": [
      "3678\n",
      "0.005265518557280302\n",
      "=========\n"
     ]
    },
    {
     "name": "stderr",
     "output_type": "stream",
     "text": [
      "Epoch 3679/8000: 100%|██████████| 50/50 [00:12<00:00,  3.99it/s]\n",
      "Epoch 3680/8000: 100%|██████████| 50/50 [00:12<00:00,  3.99it/s]\n"
     ]
    },
    {
     "name": "stdout",
     "output_type": "stream",
     "text": [
      "3680\n",
      "0.008821261115372181\n",
      "=========\n"
     ]
    },
    {
     "name": "stderr",
     "output_type": "stream",
     "text": [
      "Epoch 3681/8000: 100%|██████████| 50/50 [00:12<00:00,  3.96it/s]\n",
      "Epoch 3682/8000: 100%|██████████| 50/50 [00:12<00:00,  4.06it/s]\n"
     ]
    },
    {
     "name": "stdout",
     "output_type": "stream",
     "text": [
      "3682\n",
      "0.01365439873188734\n",
      "=========\n"
     ]
    },
    {
     "name": "stderr",
     "output_type": "stream",
     "text": [
      "Epoch 3683/8000: 100%|██████████| 50/50 [00:12<00:00,  4.07it/s]\n",
      "Epoch 3684/8000: 100%|██████████| 50/50 [00:12<00:00,  4.09it/s]\n"
     ]
    },
    {
     "name": "stdout",
     "output_type": "stream",
     "text": [
      "3684\n",
      "0.010820897296071053\n",
      "=========\n"
     ]
    },
    {
     "name": "stderr",
     "output_type": "stream",
     "text": [
      "Epoch 3685/8000: 100%|██████████| 50/50 [00:12<00:00,  3.93it/s]\n",
      "Epoch 3686/8000: 100%|██████████| 50/50 [00:12<00:00,  3.95it/s]\n"
     ]
    },
    {
     "name": "stdout",
     "output_type": "stream",
     "text": [
      "3686\n",
      "0.010361975990235806\n",
      "=========\n"
     ]
    },
    {
     "name": "stderr",
     "output_type": "stream",
     "text": [
      "Epoch 3687/8000: 100%|██████████| 50/50 [00:12<00:00,  4.15it/s]\n",
      "Epoch 3688/8000: 100%|██████████| 50/50 [00:12<00:00,  4.02it/s]\n"
     ]
    },
    {
     "name": "stdout",
     "output_type": "stream",
     "text": [
      "3688\n",
      "0.01655065268278122\n",
      "=========\n"
     ]
    },
    {
     "name": "stderr",
     "output_type": "stream",
     "text": [
      "Epoch 3689/8000: 100%|██████████| 50/50 [00:11<00:00,  4.18it/s]\n",
      "Epoch 3690/8000: 100%|██████████| 50/50 [00:12<00:00,  4.07it/s]\n"
     ]
    },
    {
     "name": "stdout",
     "output_type": "stream",
     "text": [
      "3690\n",
      "0.00783018209040165\n",
      "=========\n"
     ]
    },
    {
     "name": "stderr",
     "output_type": "stream",
     "text": [
      "Epoch 3691/8000: 100%|██████████| 50/50 [00:12<00:00,  3.99it/s]\n",
      "Epoch 3692/8000: 100%|██████████| 50/50 [00:12<00:00,  3.97it/s]\n"
     ]
    },
    {
     "name": "stdout",
     "output_type": "stream",
     "text": [
      "3692\n",
      "0.010097055695950985\n",
      "=========\n"
     ]
    },
    {
     "name": "stderr",
     "output_type": "stream",
     "text": [
      "Epoch 3693/8000: 100%|██████████| 50/50 [00:12<00:00,  3.89it/s]\n",
      "Epoch 3694/8000: 100%|██████████| 50/50 [00:12<00:00,  3.86it/s]\n"
     ]
    },
    {
     "name": "stdout",
     "output_type": "stream",
     "text": [
      "3694\n",
      "0.01623452827334404\n",
      "=========\n"
     ]
    },
    {
     "name": "stderr",
     "output_type": "stream",
     "text": [
      "Epoch 3695/8000: 100%|██████████| 50/50 [00:12<00:00,  4.05it/s]\n",
      "Epoch 3696/8000: 100%|██████████| 50/50 [00:12<00:00,  4.11it/s]\n"
     ]
    },
    {
     "name": "stdout",
     "output_type": "stream",
     "text": [
      "3696\n",
      "0.005305923987179995\n",
      "=========\n"
     ]
    },
    {
     "name": "stderr",
     "output_type": "stream",
     "text": [
      "Epoch 3697/8000: 100%|██████████| 50/50 [00:12<00:00,  3.93it/s]\n",
      "Epoch 3698/8000: 100%|██████████| 50/50 [00:12<00:00,  3.96it/s]\n"
     ]
    },
    {
     "name": "stdout",
     "output_type": "stream",
     "text": [
      "3698\n",
      "0.013053101487457752\n",
      "=========\n"
     ]
    },
    {
     "name": "stderr",
     "output_type": "stream",
     "text": [
      "Epoch 3699/8000: 100%|██████████| 50/50 [00:10<00:00,  4.88it/s]\n",
      "Epoch 3700/8000: 100%|██████████| 50/50 [00:12<00:00,  4.05it/s]\n"
     ]
    },
    {
     "name": "stdout",
     "output_type": "stream",
     "text": [
      "3700\n",
      "0.01728074625134468\n",
      "=========\n"
     ]
    },
    {
     "name": "stderr",
     "output_type": "stream",
     "text": [
      "Epoch 3701/8000: 100%|██████████| 50/50 [00:12<00:00,  3.93it/s]\n",
      "Epoch 3702/8000: 100%|██████████| 50/50 [00:12<00:00,  4.06it/s]\n"
     ]
    },
    {
     "name": "stdout",
     "output_type": "stream",
     "text": [
      "3702\n",
      "0.007943701930344105\n",
      "=========\n"
     ]
    },
    {
     "name": "stderr",
     "output_type": "stream",
     "text": [
      "Epoch 3703/8000: 100%|██████████| 50/50 [00:12<00:00,  3.98it/s]\n",
      "Epoch 3704/8000: 100%|██████████| 50/50 [00:11<00:00,  4.18it/s]\n"
     ]
    },
    {
     "name": "stdout",
     "output_type": "stream",
     "text": [
      "3704\n",
      "0.012655134312808514\n",
      "=========\n"
     ]
    },
    {
     "name": "stderr",
     "output_type": "stream",
     "text": [
      "Epoch 3705/8000: 100%|██████████| 50/50 [00:13<00:00,  3.83it/s]\n",
      "Epoch 3706/8000: 100%|██████████| 50/50 [00:12<00:00,  4.03it/s]\n"
     ]
    },
    {
     "name": "stdout",
     "output_type": "stream",
     "text": [
      "3706\n",
      "0.0185727346688509\n",
      "=========\n"
     ]
    },
    {
     "name": "stderr",
     "output_type": "stream",
     "text": [
      "Epoch 3707/8000: 100%|██████████| 50/50 [00:12<00:00,  4.09it/s]\n",
      "Epoch 3708/8000: 100%|██████████| 50/50 [00:12<00:00,  4.08it/s]\n"
     ]
    },
    {
     "name": "stdout",
     "output_type": "stream",
     "text": [
      "3708\n",
      "0.005336865782737732\n",
      "=========\n"
     ]
    },
    {
     "name": "stderr",
     "output_type": "stream",
     "text": [
      "Epoch 3709/8000: 100%|██████████| 50/50 [00:12<00:00,  4.08it/s]\n",
      "Epoch 3710/8000: 100%|██████████| 50/50 [00:12<00:00,  3.99it/s]\n"
     ]
    },
    {
     "name": "stdout",
     "output_type": "stream",
     "text": [
      "3710\n",
      "0.007303156424313784\n",
      "=========\n"
     ]
    },
    {
     "name": "stderr",
     "output_type": "stream",
     "text": [
      "Epoch 3711/8000: 100%|██████████| 50/50 [00:12<00:00,  3.96it/s]\n",
      "Epoch 3712/8000: 100%|██████████| 50/50 [00:12<00:00,  4.06it/s]\n"
     ]
    },
    {
     "name": "stdout",
     "output_type": "stream",
     "text": [
      "3712\n",
      "0.009637998417019844\n",
      "=========\n"
     ]
    },
    {
     "name": "stderr",
     "output_type": "stream",
     "text": [
      "Epoch 3713/8000: 100%|██████████| 50/50 [00:12<00:00,  4.05it/s]\n",
      "Epoch 3714/8000: 100%|██████████| 50/50 [00:12<00:00,  4.04it/s]\n"
     ]
    },
    {
     "name": "stdout",
     "output_type": "stream",
     "text": [
      "3714\n",
      "0.012332580983638763\n",
      "=========\n"
     ]
    },
    {
     "name": "stderr",
     "output_type": "stream",
     "text": [
      "Epoch 3715/8000: 100%|██████████| 50/50 [00:12<00:00,  3.91it/s]\n",
      "Epoch 3716/8000: 100%|██████████| 50/50 [00:12<00:00,  4.06it/s]\n"
     ]
    },
    {
     "name": "stdout",
     "output_type": "stream",
     "text": [
      "3716\n",
      "0.013480234891176224\n",
      "=========\n"
     ]
    },
    {
     "name": "stderr",
     "output_type": "stream",
     "text": [
      "Epoch 3717/8000: 100%|██████████| 50/50 [00:12<00:00,  4.06it/s]\n",
      "Epoch 3718/8000: 100%|██████████| 50/50 [00:12<00:00,  3.92it/s]\n"
     ]
    },
    {
     "name": "stdout",
     "output_type": "stream",
     "text": [
      "3718\n",
      "0.004400505218654871\n",
      "=========\n"
     ]
    },
    {
     "name": "stderr",
     "output_type": "stream",
     "text": [
      "Epoch 3719/8000: 100%|██████████| 50/50 [00:12<00:00,  3.99it/s]\n",
      "Epoch 3720/8000: 100%|██████████| 50/50 [00:12<00:00,  3.93it/s]\n"
     ]
    },
    {
     "name": "stdout",
     "output_type": "stream",
     "text": [
      "3720\n",
      "0.009545071981847286\n",
      "=========\n"
     ]
    },
    {
     "name": "stderr",
     "output_type": "stream",
     "text": [
      "Epoch 3721/8000: 100%|██████████| 50/50 [00:12<00:00,  3.96it/s]\n",
      "Epoch 3722/8000: 100%|██████████| 50/50 [00:12<00:00,  3.97it/s]\n"
     ]
    },
    {
     "name": "stdout",
     "output_type": "stream",
     "text": [
      "3722\n",
      "0.009031303226947784\n",
      "=========\n"
     ]
    },
    {
     "name": "stderr",
     "output_type": "stream",
     "text": [
      "Epoch 3723/8000: 100%|██████████| 50/50 [00:12<00:00,  3.85it/s]\n",
      "Epoch 3724/8000: 100%|██████████| 50/50 [00:12<00:00,  4.07it/s]\n"
     ]
    },
    {
     "name": "stdout",
     "output_type": "stream",
     "text": [
      "3724\n",
      "0.01510089635848999\n",
      "=========\n"
     ]
    },
    {
     "name": "stderr",
     "output_type": "stream",
     "text": [
      "Epoch 3725/8000: 100%|██████████| 50/50 [00:09<00:00,  5.51it/s]\n",
      "Epoch 3726/8000: 100%|██████████| 50/50 [00:12<00:00,  3.91it/s]\n"
     ]
    },
    {
     "name": "stdout",
     "output_type": "stream",
     "text": [
      "3726\n",
      "0.005931440275162458\n",
      "=========\n"
     ]
    },
    {
     "name": "stderr",
     "output_type": "stream",
     "text": [
      "Epoch 3727/8000: 100%|██████████| 50/50 [00:13<00:00,  3.82it/s]\n",
      "Epoch 3728/8000: 100%|██████████| 50/50 [00:12<00:00,  3.97it/s]\n"
     ]
    },
    {
     "name": "stdout",
     "output_type": "stream",
     "text": [
      "3728\n",
      "0.007955338805913925\n",
      "=========\n"
     ]
    },
    {
     "name": "stderr",
     "output_type": "stream",
     "text": [
      "Epoch 3729/8000: 100%|██████████| 50/50 [00:12<00:00,  3.88it/s]\n",
      "Epoch 3730/8000: 100%|██████████| 50/50 [00:12<00:00,  4.03it/s]\n"
     ]
    },
    {
     "name": "stdout",
     "output_type": "stream",
     "text": [
      "3730\n",
      "0.019033273681998253\n",
      "=========\n"
     ]
    },
    {
     "name": "stderr",
     "output_type": "stream",
     "text": [
      "Epoch 3731/8000: 100%|██████████| 50/50 [00:12<00:00,  4.01it/s]\n",
      "Epoch 3732/8000: 100%|██████████| 50/50 [00:12<00:00,  3.92it/s]\n"
     ]
    },
    {
     "name": "stdout",
     "output_type": "stream",
     "text": [
      "3732\n",
      "0.018934324383735657\n",
      "=========\n"
     ]
    },
    {
     "name": "stderr",
     "output_type": "stream",
     "text": [
      "Epoch 3733/8000: 100%|██████████| 50/50 [00:12<00:00,  4.00it/s]\n",
      "Epoch 3734/8000: 100%|██████████| 50/50 [00:12<00:00,  4.16it/s]\n"
     ]
    },
    {
     "name": "stdout",
     "output_type": "stream",
     "text": [
      "3734\n",
      "0.008706241846084595\n",
      "=========\n"
     ]
    },
    {
     "name": "stderr",
     "output_type": "stream",
     "text": [
      "Epoch 3735/8000: 100%|██████████| 50/50 [00:12<00:00,  3.95it/s]\n",
      "Epoch 3736/8000: 100%|██████████| 50/50 [00:12<00:00,  4.00it/s]\n"
     ]
    },
    {
     "name": "stdout",
     "output_type": "stream",
     "text": [
      "3736\n",
      "0.012832541950047016\n",
      "=========\n"
     ]
    },
    {
     "name": "stderr",
     "output_type": "stream",
     "text": [
      "Epoch 3737/8000: 100%|██████████| 50/50 [00:12<00:00,  4.01it/s]\n",
      "Epoch 3738/8000: 100%|██████████| 50/50 [00:12<00:00,  4.00it/s]\n"
     ]
    },
    {
     "name": "stdout",
     "output_type": "stream",
     "text": [
      "3738\n",
      "0.004545808769762516\n",
      "=========\n"
     ]
    },
    {
     "name": "stderr",
     "output_type": "stream",
     "text": [
      "Epoch 3739/8000: 100%|██████████| 50/50 [00:12<00:00,  4.01it/s]\n",
      "Epoch 3740/8000: 100%|██████████| 50/50 [00:12<00:00,  4.09it/s]\n"
     ]
    },
    {
     "name": "stdout",
     "output_type": "stream",
     "text": [
      "3740\n",
      "0.011135770939290524\n",
      "=========\n"
     ]
    },
    {
     "name": "stderr",
     "output_type": "stream",
     "text": [
      "Epoch 3741/8000: 100%|██████████| 50/50 [00:12<00:00,  4.07it/s]\n",
      "Epoch 3742/8000: 100%|██████████| 50/50 [00:12<00:00,  3.98it/s]\n"
     ]
    },
    {
     "name": "stdout",
     "output_type": "stream",
     "text": [
      "3742\n",
      "0.007055210880935192\n",
      "=========\n"
     ]
    },
    {
     "name": "stderr",
     "output_type": "stream",
     "text": [
      "Epoch 3743/8000: 100%|██████████| 50/50 [00:12<00:00,  3.97it/s]\n",
      "Epoch 3744/8000: 100%|██████████| 50/50 [00:12<00:00,  3.98it/s]\n"
     ]
    },
    {
     "name": "stdout",
     "output_type": "stream",
     "text": [
      "3744\n",
      "0.01172629650682211\n",
      "=========\n"
     ]
    },
    {
     "name": "stderr",
     "output_type": "stream",
     "text": [
      "Epoch 3745/8000: 100%|██████████| 50/50 [00:12<00:00,  4.03it/s]\n",
      "Epoch 3746/8000: 100%|██████████| 50/50 [00:12<00:00,  4.10it/s]\n"
     ]
    },
    {
     "name": "stdout",
     "output_type": "stream",
     "text": [
      "3746\n",
      "0.009932761080563068\n",
      "=========\n"
     ]
    },
    {
     "name": "stderr",
     "output_type": "stream",
     "text": [
      "Epoch 3747/8000: 100%|██████████| 50/50 [00:12<00:00,  4.11it/s]\n",
      "Epoch 3748/8000: 100%|██████████| 50/50 [00:12<00:00,  3.91it/s]\n"
     ]
    },
    {
     "name": "stdout",
     "output_type": "stream",
     "text": [
      "3748\n",
      "0.0170933585613966\n",
      "=========\n"
     ]
    },
    {
     "name": "stderr",
     "output_type": "stream",
     "text": [
      "Epoch 3749/8000: 100%|██████████| 50/50 [00:12<00:00,  4.09it/s]\n",
      "Epoch 3750/8000: 100%|██████████| 50/50 [00:12<00:00,  3.92it/s]\n"
     ]
    },
    {
     "name": "stdout",
     "output_type": "stream",
     "text": [
      "3750\n",
      "0.018966523930430412\n",
      "=========\n"
     ]
    },
    {
     "name": "stderr",
     "output_type": "stream",
     "text": [
      "Epoch 3751/8000: 100%|██████████| 50/50 [00:12<00:00,  4.00it/s]\n",
      "Epoch 3752/8000: 100%|██████████| 50/50 [00:12<00:00,  3.94it/s]\n"
     ]
    },
    {
     "name": "stdout",
     "output_type": "stream",
     "text": [
      "3752\n",
      "0.00651762867346406\n",
      "=========\n"
     ]
    },
    {
     "name": "stderr",
     "output_type": "stream",
     "text": [
      "Epoch 3753/8000: 100%|██████████| 50/50 [00:12<00:00,  4.08it/s]\n",
      "Epoch 3754/8000: 100%|██████████| 50/50 [00:12<00:00,  3.92it/s]\n"
     ]
    },
    {
     "name": "stdout",
     "output_type": "stream",
     "text": [
      "3754\n",
      "0.016707034781575203\n",
      "=========\n"
     ]
    },
    {
     "name": "stderr",
     "output_type": "stream",
     "text": [
      "Epoch 3755/8000: 100%|██████████| 50/50 [00:12<00:00,  4.08it/s]\n",
      "Epoch 3756/8000: 100%|██████████| 50/50 [00:12<00:00,  4.02it/s]\n"
     ]
    },
    {
     "name": "stdout",
     "output_type": "stream",
     "text": [
      "3756\n",
      "0.01209664810448885\n",
      "=========\n"
     ]
    },
    {
     "name": "stderr",
     "output_type": "stream",
     "text": [
      "Epoch 3757/8000: 100%|██████████| 50/50 [00:12<00:00,  3.99it/s]\n",
      "Epoch 3758/8000: 100%|██████████| 50/50 [00:12<00:00,  3.90it/s]\n"
     ]
    },
    {
     "name": "stdout",
     "output_type": "stream",
     "text": [
      "3758\n",
      "0.006077908910810947\n",
      "=========\n"
     ]
    },
    {
     "name": "stderr",
     "output_type": "stream",
     "text": [
      "Epoch 3759/8000: 100%|██████████| 50/50 [00:11<00:00,  4.22it/s]\n",
      "Epoch 3760/8000: 100%|██████████| 50/50 [00:12<00:00,  3.94it/s]\n"
     ]
    },
    {
     "name": "stdout",
     "output_type": "stream",
     "text": [
      "3760\n",
      "0.011369649320840836\n",
      "=========\n"
     ]
    },
    {
     "name": "stderr",
     "output_type": "stream",
     "text": [
      "Epoch 3761/8000: 100%|██████████| 50/50 [00:12<00:00,  3.99it/s]\n",
      "Epoch 3762/8000: 100%|██████████| 50/50 [00:12<00:00,  3.92it/s]\n"
     ]
    },
    {
     "name": "stdout",
     "output_type": "stream",
     "text": [
      "3762\n",
      "0.010389917530119419\n",
      "=========\n"
     ]
    },
    {
     "name": "stderr",
     "output_type": "stream",
     "text": [
      "Epoch 3763/8000: 100%|██████████| 50/50 [00:12<00:00,  3.98it/s]\n",
      "Epoch 3764/8000: 100%|██████████| 50/50 [00:12<00:00,  3.95it/s]\n"
     ]
    },
    {
     "name": "stdout",
     "output_type": "stream",
     "text": [
      "3764\n",
      "0.010599748231470585\n",
      "=========\n"
     ]
    },
    {
     "name": "stderr",
     "output_type": "stream",
     "text": [
      "Epoch 3765/8000: 100%|██████████| 50/50 [00:12<00:00,  4.00it/s]\n",
      "Epoch 3766/8000: 100%|██████████| 50/50 [00:12<00:00,  3.96it/s]\n"
     ]
    },
    {
     "name": "stdout",
     "output_type": "stream",
     "text": [
      "3766\n",
      "0.00804151501506567\n",
      "=========\n"
     ]
    },
    {
     "name": "stderr",
     "output_type": "stream",
     "text": [
      "Epoch 3767/8000: 100%|██████████| 50/50 [00:12<00:00,  4.03it/s]\n",
      "Epoch 3768/8000: 100%|██████████| 50/50 [00:12<00:00,  3.98it/s]\n"
     ]
    },
    {
     "name": "stdout",
     "output_type": "stream",
     "text": [
      "3768\n",
      "0.01533585600554943\n",
      "=========\n"
     ]
    },
    {
     "name": "stderr",
     "output_type": "stream",
     "text": [
      "Epoch 3769/8000: 100%|██████████| 50/50 [00:12<00:00,  4.01it/s]\n",
      "Epoch 3770/8000: 100%|██████████| 50/50 [00:12<00:00,  3.95it/s]\n"
     ]
    },
    {
     "name": "stdout",
     "output_type": "stream",
     "text": [
      "3770\n",
      "0.006703870836645365\n",
      "=========\n"
     ]
    },
    {
     "name": "stderr",
     "output_type": "stream",
     "text": [
      "Epoch 3771/8000: 100%|██████████| 50/50 [00:12<00:00,  3.98it/s]\n",
      "Epoch 3772/8000: 100%|██████████| 50/50 [00:12<00:00,  4.03it/s]\n"
     ]
    },
    {
     "name": "stdout",
     "output_type": "stream",
     "text": [
      "3772\n",
      "0.011580830439925194\n",
      "=========\n"
     ]
    },
    {
     "name": "stderr",
     "output_type": "stream",
     "text": [
      "Epoch 3773/8000: 100%|██████████| 50/50 [00:12<00:00,  4.14it/s]\n",
      "Epoch 3774/8000: 100%|██████████| 50/50 [00:12<00:00,  3.99it/s]\n"
     ]
    },
    {
     "name": "stdout",
     "output_type": "stream",
     "text": [
      "3774\n",
      "0.004839380271732807\n",
      "=========\n"
     ]
    },
    {
     "name": "stderr",
     "output_type": "stream",
     "text": [
      "Epoch 3775/8000: 100%|██████████| 50/50 [00:12<00:00,  4.15it/s]\n",
      "Epoch 3776/8000: 100%|██████████| 50/50 [00:12<00:00,  4.08it/s]\n"
     ]
    },
    {
     "name": "stdout",
     "output_type": "stream",
     "text": [
      "3776\n",
      "0.008631055243313313\n",
      "=========\n"
     ]
    },
    {
     "name": "stderr",
     "output_type": "stream",
     "text": [
      "Epoch 3777/8000: 100%|██████████| 50/50 [00:12<00:00,  3.95it/s]\n",
      "Epoch 3778/8000: 100%|██████████| 50/50 [00:12<00:00,  4.00it/s]\n"
     ]
    },
    {
     "name": "stdout",
     "output_type": "stream",
     "text": [
      "3778\n",
      "0.010607368312776089\n",
      "=========\n"
     ]
    },
    {
     "name": "stderr",
     "output_type": "stream",
     "text": [
      "Epoch 3779/8000: 100%|██████████| 50/50 [00:12<00:00,  4.07it/s]\n",
      "Epoch 3780/8000: 100%|██████████| 50/50 [00:12<00:00,  4.08it/s]\n"
     ]
    },
    {
     "name": "stdout",
     "output_type": "stream",
     "text": [
      "3780\n",
      "0.01040646806359291\n",
      "=========\n"
     ]
    },
    {
     "name": "stderr",
     "output_type": "stream",
     "text": [
      "Epoch 3781/8000: 100%|██████████| 50/50 [00:12<00:00,  3.94it/s]\n",
      "Epoch 3782/8000: 100%|██████████| 50/50 [00:12<00:00,  3.90it/s]\n"
     ]
    },
    {
     "name": "stdout",
     "output_type": "stream",
     "text": [
      "3782\n",
      "0.006192168220877647\n",
      "=========\n"
     ]
    },
    {
     "name": "stderr",
     "output_type": "stream",
     "text": [
      "Epoch 3783/8000: 100%|██████████| 50/50 [00:12<00:00,  4.08it/s]\n",
      "Epoch 3784/8000: 100%|██████████| 50/50 [00:12<00:00,  3.96it/s]\n"
     ]
    },
    {
     "name": "stdout",
     "output_type": "stream",
     "text": [
      "3784\n",
      "0.019995545968413353\n",
      "=========\n"
     ]
    },
    {
     "name": "stderr",
     "output_type": "stream",
     "text": [
      "Epoch 3785/8000: 100%|██████████| 50/50 [00:12<00:00,  4.01it/s]\n",
      "Epoch 3786/8000: 100%|██████████| 50/50 [00:12<00:00,  3.99it/s]\n"
     ]
    },
    {
     "name": "stdout",
     "output_type": "stream",
     "text": [
      "3786\n",
      "0.008146353997290134\n",
      "=========\n"
     ]
    },
    {
     "name": "stderr",
     "output_type": "stream",
     "text": [
      "Epoch 3787/8000: 100%|██████████| 50/50 [00:12<00:00,  3.94it/s]\n",
      "Epoch 3788/8000: 100%|██████████| 50/50 [00:12<00:00,  3.92it/s]\n"
     ]
    },
    {
     "name": "stdout",
     "output_type": "stream",
     "text": [
      "3788\n",
      "0.010598290711641312\n",
      "=========\n"
     ]
    },
    {
     "name": "stderr",
     "output_type": "stream",
     "text": [
      "Epoch 3789/8000: 100%|██████████| 50/50 [00:12<00:00,  3.94it/s]\n",
      "Epoch 3790/8000: 100%|██████████| 50/50 [00:12<00:00,  4.02it/s]\n"
     ]
    },
    {
     "name": "stdout",
     "output_type": "stream",
     "text": [
      "3790\n",
      "0.00686303898692131\n",
      "=========\n"
     ]
    },
    {
     "name": "stderr",
     "output_type": "stream",
     "text": [
      "Epoch 3791/8000: 100%|██████████| 50/50 [00:12<00:00,  3.98it/s]\n",
      "Epoch 3792/8000: 100%|██████████| 50/50 [00:12<00:00,  3.98it/s]\n"
     ]
    },
    {
     "name": "stdout",
     "output_type": "stream",
     "text": [
      "3792\n",
      "0.010514302179217339\n",
      "=========\n"
     ]
    },
    {
     "name": "stderr",
     "output_type": "stream",
     "text": [
      "Epoch 3793/8000: 100%|██████████| 50/50 [00:12<00:00,  3.89it/s]\n",
      "Epoch 3794/8000: 100%|██████████| 50/50 [00:12<00:00,  4.01it/s]\n"
     ]
    },
    {
     "name": "stdout",
     "output_type": "stream",
     "text": [
      "3794\n",
      "0.009030402638018131\n",
      "=========\n"
     ]
    },
    {
     "name": "stderr",
     "output_type": "stream",
     "text": [
      "Epoch 3795/8000: 100%|██████████| 50/50 [00:12<00:00,  4.10it/s]\n",
      "Epoch 3796/8000: 100%|██████████| 50/50 [00:12<00:00,  4.09it/s]\n"
     ]
    },
    {
     "name": "stdout",
     "output_type": "stream",
     "text": [
      "3796\n",
      "0.0069428253918886185\n",
      "=========\n"
     ]
    },
    {
     "name": "stderr",
     "output_type": "stream",
     "text": [
      "Epoch 3797/8000: 100%|██████████| 50/50 [00:12<00:00,  4.06it/s]\n",
      "Epoch 3798/8000: 100%|██████████| 50/50 [00:12<00:00,  4.04it/s]\n"
     ]
    },
    {
     "name": "stdout",
     "output_type": "stream",
     "text": [
      "3798\n",
      "0.015831949189305305\n",
      "=========\n"
     ]
    },
    {
     "name": "stderr",
     "output_type": "stream",
     "text": [
      "Epoch 3799/8000: 100%|██████████| 50/50 [00:12<00:00,  3.89it/s]\n",
      "Epoch 3800/8000: 100%|██████████| 50/50 [00:12<00:00,  4.07it/s]\n"
     ]
    },
    {
     "name": "stdout",
     "output_type": "stream",
     "text": [
      "3800\n",
      "0.00918811559677124\n",
      "=========\n"
     ]
    },
    {
     "name": "stderr",
     "output_type": "stream",
     "text": [
      "Epoch 3801/8000: 100%|██████████| 50/50 [00:12<00:00,  4.03it/s]\n",
      "Epoch 3802/8000: 100%|██████████| 50/50 [00:13<00:00,  3.84it/s]\n"
     ]
    },
    {
     "name": "stdout",
     "output_type": "stream",
     "text": [
      "3802\n",
      "0.012595108710229397\n",
      "=========\n"
     ]
    },
    {
     "name": "stderr",
     "output_type": "stream",
     "text": [
      "Epoch 3803/8000: 100%|██████████| 50/50 [00:12<00:00,  3.96it/s]\n",
      "Epoch 3804/8000: 100%|██████████| 50/50 [00:12<00:00,  4.02it/s]\n"
     ]
    },
    {
     "name": "stdout",
     "output_type": "stream",
     "text": [
      "3804\n",
      "0.005689301993697882\n",
      "=========\n"
     ]
    },
    {
     "name": "stderr",
     "output_type": "stream",
     "text": [
      "Epoch 3805/8000: 100%|██████████| 50/50 [00:12<00:00,  3.94it/s]\n",
      "Epoch 3806/8000: 100%|██████████| 50/50 [00:12<00:00,  3.99it/s]\n"
     ]
    },
    {
     "name": "stdout",
     "output_type": "stream",
     "text": [
      "3806\n",
      "0.005079399794340134\n",
      "=========\n"
     ]
    },
    {
     "name": "stderr",
     "output_type": "stream",
     "text": [
      "Epoch 3807/8000: 100%|██████████| 50/50 [00:12<00:00,  3.94it/s]\n",
      "Epoch 3808/8000: 100%|██████████| 50/50 [00:12<00:00,  3.91it/s]\n"
     ]
    },
    {
     "name": "stdout",
     "output_type": "stream",
     "text": [
      "3808\n",
      "0.008285662159323692\n",
      "=========\n"
     ]
    },
    {
     "name": "stderr",
     "output_type": "stream",
     "text": [
      "Epoch 3809/8000: 100%|██████████| 50/50 [00:12<00:00,  4.07it/s]\n",
      "Epoch 3810/8000: 100%|██████████| 50/50 [00:12<00:00,  4.01it/s]\n"
     ]
    },
    {
     "name": "stdout",
     "output_type": "stream",
     "text": [
      "3810\n",
      "0.0053581008687615395\n",
      "=========\n"
     ]
    },
    {
     "name": "stderr",
     "output_type": "stream",
     "text": [
      "Epoch 3811/8000: 100%|██████████| 50/50 [00:12<00:00,  3.92it/s]\n",
      "Epoch 3812/8000: 100%|██████████| 50/50 [00:12<00:00,  3.93it/s]\n"
     ]
    },
    {
     "name": "stdout",
     "output_type": "stream",
     "text": [
      "3812\n",
      "0.00822701957076788\n",
      "=========\n"
     ]
    },
    {
     "name": "stderr",
     "output_type": "stream",
     "text": [
      "Epoch 3813/8000: 100%|██████████| 50/50 [00:12<00:00,  3.97it/s]\n",
      "Epoch 3814/8000: 100%|██████████| 50/50 [00:12<00:00,  3.99it/s]\n"
     ]
    },
    {
     "name": "stdout",
     "output_type": "stream",
     "text": [
      "3814\n",
      "0.011710365302860737\n",
      "=========\n"
     ]
    },
    {
     "name": "stderr",
     "output_type": "stream",
     "text": [
      "Epoch 3815/8000: 100%|██████████| 50/50 [00:12<00:00,  3.99it/s]\n",
      "Epoch 3816/8000: 100%|██████████| 50/50 [00:12<00:00,  4.07it/s]\n"
     ]
    },
    {
     "name": "stdout",
     "output_type": "stream",
     "text": [
      "3816\n",
      "0.009183363057672977\n",
      "=========\n"
     ]
    },
    {
     "name": "stderr",
     "output_type": "stream",
     "text": [
      "Epoch 3817/8000: 100%|██████████| 50/50 [00:12<00:00,  3.96it/s]\n",
      "Epoch 3818/8000: 100%|██████████| 50/50 [00:12<00:00,  3.97it/s]\n"
     ]
    },
    {
     "name": "stdout",
     "output_type": "stream",
     "text": [
      "3818\n",
      "0.014432656578719616\n",
      "=========\n"
     ]
    },
    {
     "name": "stderr",
     "output_type": "stream",
     "text": [
      "Epoch 3819/8000: 100%|██████████| 50/50 [00:12<00:00,  4.00it/s]\n",
      "Epoch 3820/8000: 100%|██████████| 50/50 [00:12<00:00,  3.94it/s]\n"
     ]
    },
    {
     "name": "stdout",
     "output_type": "stream",
     "text": [
      "3820\n",
      "0.007719763088971376\n",
      "=========\n"
     ]
    },
    {
     "name": "stderr",
     "output_type": "stream",
     "text": [
      "Epoch 3821/8000: 100%|██████████| 50/50 [00:12<00:00,  4.01it/s]\n",
      "Epoch 3822/8000: 100%|██████████| 50/50 [00:12<00:00,  3.95it/s]\n"
     ]
    },
    {
     "name": "stdout",
     "output_type": "stream",
     "text": [
      "3822\n",
      "0.010208134539425373\n",
      "=========\n"
     ]
    },
    {
     "name": "stderr",
     "output_type": "stream",
     "text": [
      "Epoch 3823/8000: 100%|██████████| 50/50 [00:12<00:00,  4.04it/s]\n",
      "Epoch 3824/8000: 100%|██████████| 50/50 [00:12<00:00,  3.93it/s]\n"
     ]
    },
    {
     "name": "stdout",
     "output_type": "stream",
     "text": [
      "3824\n",
      "0.006960579194128513\n",
      "=========\n"
     ]
    },
    {
     "name": "stderr",
     "output_type": "stream",
     "text": [
      "Epoch 3825/8000: 100%|██████████| 50/50 [00:12<00:00,  3.88it/s]\n",
      "Epoch 3826/8000: 100%|██████████| 50/50 [00:12<00:00,  4.01it/s]\n"
     ]
    },
    {
     "name": "stdout",
     "output_type": "stream",
     "text": [
      "3826\n",
      "0.010988111607730389\n",
      "=========\n"
     ]
    },
    {
     "name": "stderr",
     "output_type": "stream",
     "text": [
      "Epoch 3827/8000: 100%|██████████| 50/50 [00:12<00:00,  4.06it/s]\n",
      "Epoch 3828/8000: 100%|██████████| 50/50 [00:11<00:00,  4.18it/s]\n"
     ]
    },
    {
     "name": "stdout",
     "output_type": "stream",
     "text": [
      "3828\n",
      "0.008896956220269203\n",
      "=========\n"
     ]
    },
    {
     "name": "stderr",
     "output_type": "stream",
     "text": [
      "Epoch 3829/8000: 100%|██████████| 50/50 [00:11<00:00,  4.28it/s]\n",
      "Epoch 3830/8000: 100%|██████████| 50/50 [00:12<00:00,  4.04it/s]\n"
     ]
    },
    {
     "name": "stdout",
     "output_type": "stream",
     "text": [
      "3830\n",
      "0.010540181770920753\n",
      "=========\n"
     ]
    },
    {
     "name": "stderr",
     "output_type": "stream",
     "text": [
      "Epoch 3831/8000: 100%|██████████| 50/50 [00:12<00:00,  3.96it/s]\n",
      "Epoch 3832/8000: 100%|██████████| 50/50 [00:12<00:00,  3.98it/s]\n"
     ]
    },
    {
     "name": "stdout",
     "output_type": "stream",
     "text": [
      "3832\n",
      "0.013151025399565697\n",
      "=========\n"
     ]
    },
    {
     "name": "stderr",
     "output_type": "stream",
     "text": [
      "Epoch 3833/8000: 100%|██████████| 50/50 [00:12<00:00,  3.94it/s]\n",
      "Epoch 3834/8000: 100%|██████████| 50/50 [00:12<00:00,  4.02it/s]\n"
     ]
    },
    {
     "name": "stdout",
     "output_type": "stream",
     "text": [
      "3834\n",
      "0.00605942215770483\n",
      "=========\n"
     ]
    },
    {
     "name": "stderr",
     "output_type": "stream",
     "text": [
      "Epoch 3835/8000: 100%|██████████| 50/50 [00:12<00:00,  4.05it/s]\n",
      "Epoch 3836/8000: 100%|██████████| 50/50 [00:12<00:00,  4.06it/s]\n"
     ]
    },
    {
     "name": "stdout",
     "output_type": "stream",
     "text": [
      "3836\n",
      "0.012099395506083965\n",
      "=========\n"
     ]
    },
    {
     "name": "stderr",
     "output_type": "stream",
     "text": [
      "Epoch 3837/8000: 100%|██████████| 50/50 [00:12<00:00,  3.99it/s]\n",
      "Epoch 3838/8000: 100%|██████████| 50/50 [00:12<00:00,  3.88it/s]\n"
     ]
    },
    {
     "name": "stdout",
     "output_type": "stream",
     "text": [
      "3838\n",
      "0.015822185203433037\n",
      "=========\n"
     ]
    },
    {
     "name": "stderr",
     "output_type": "stream",
     "text": [
      "Epoch 3839/8000: 100%|██████████| 50/50 [00:12<00:00,  3.89it/s]\n",
      "Epoch 3840/8000: 100%|██████████| 50/50 [00:12<00:00,  4.07it/s]\n"
     ]
    },
    {
     "name": "stdout",
     "output_type": "stream",
     "text": [
      "3840\n",
      "0.014242797158658504\n",
      "=========\n"
     ]
    },
    {
     "name": "stderr",
     "output_type": "stream",
     "text": [
      "Epoch 3841/8000: 100%|██████████| 50/50 [00:12<00:00,  4.01it/s]\n",
      "Epoch 3842/8000: 100%|██████████| 50/50 [00:12<00:00,  3.98it/s]\n"
     ]
    },
    {
     "name": "stdout",
     "output_type": "stream",
     "text": [
      "3842\n",
      "0.00634709931910038\n",
      "=========\n"
     ]
    },
    {
     "name": "stderr",
     "output_type": "stream",
     "text": [
      "Epoch 3843/8000: 100%|██████████| 50/50 [00:11<00:00,  4.22it/s]\n",
      "Epoch 3844/8000: 100%|██████████| 50/50 [00:11<00:00,  4.26it/s]\n"
     ]
    },
    {
     "name": "stdout",
     "output_type": "stream",
     "text": [
      "3844\n",
      "0.009527650661766529\n",
      "=========\n"
     ]
    },
    {
     "name": "stderr",
     "output_type": "stream",
     "text": [
      "Epoch 3845/8000: 100%|██████████| 50/50 [00:12<00:00,  4.05it/s]\n",
      "Epoch 3846/8000: 100%|██████████| 50/50 [00:12<00:00,  4.03it/s]\n"
     ]
    },
    {
     "name": "stdout",
     "output_type": "stream",
     "text": [
      "3846\n",
      "0.011507515795528889\n",
      "=========\n"
     ]
    },
    {
     "name": "stderr",
     "output_type": "stream",
     "text": [
      "Epoch 3847/8000: 100%|██████████| 50/50 [00:12<00:00,  3.96it/s]\n",
      "Epoch 3848/8000: 100%|██████████| 50/50 [00:12<00:00,  3.98it/s]\n"
     ]
    },
    {
     "name": "stdout",
     "output_type": "stream",
     "text": [
      "3848\n",
      "0.013769238255918026\n",
      "=========\n"
     ]
    },
    {
     "name": "stderr",
     "output_type": "stream",
     "text": [
      "Epoch 3849/8000: 100%|██████████| 50/50 [00:12<00:00,  3.98it/s]\n",
      "Epoch 3850/8000: 100%|██████████| 50/50 [00:12<00:00,  3.89it/s]\n"
     ]
    },
    {
     "name": "stdout",
     "output_type": "stream",
     "text": [
      "3850\n",
      "0.011905942112207413\n",
      "=========\n"
     ]
    },
    {
     "name": "stderr",
     "output_type": "stream",
     "text": [
      "Epoch 3851/8000: 100%|██████████| 50/50 [00:12<00:00,  4.03it/s]\n",
      "Epoch 3852/8000: 100%|██████████| 50/50 [00:12<00:00,  3.94it/s]\n"
     ]
    },
    {
     "name": "stdout",
     "output_type": "stream",
     "text": [
      "3852\n",
      "0.007149461191147566\n",
      "=========\n"
     ]
    },
    {
     "name": "stderr",
     "output_type": "stream",
     "text": [
      "Epoch 3853/8000: 100%|██████████| 50/50 [00:12<00:00,  4.16it/s]\n",
      "Epoch 3854/8000: 100%|██████████| 50/50 [00:12<00:00,  3.99it/s]\n"
     ]
    },
    {
     "name": "stdout",
     "output_type": "stream",
     "text": [
      "3854\n",
      "0.009985359385609627\n",
      "=========\n"
     ]
    },
    {
     "name": "stderr",
     "output_type": "stream",
     "text": [
      "Epoch 3855/8000: 100%|██████████| 50/50 [00:12<00:00,  3.99it/s]\n",
      "Epoch 3856/8000: 100%|██████████| 50/50 [00:12<00:00,  3.91it/s]\n"
     ]
    },
    {
     "name": "stdout",
     "output_type": "stream",
     "text": [
      "3856\n",
      "0.010186739265918732\n",
      "=========\n"
     ]
    },
    {
     "name": "stderr",
     "output_type": "stream",
     "text": [
      "Epoch 3857/8000: 100%|██████████| 50/50 [00:12<00:00,  3.96it/s]\n",
      "Epoch 3858/8000: 100%|██████████| 50/50 [00:12<00:00,  3.95it/s]\n"
     ]
    },
    {
     "name": "stdout",
     "output_type": "stream",
     "text": [
      "3858\n",
      "0.005110142286866903\n",
      "=========\n"
     ]
    },
    {
     "name": "stderr",
     "output_type": "stream",
     "text": [
      "Epoch 3859/8000: 100%|██████████| 50/50 [00:12<00:00,  4.00it/s]\n",
      "Epoch 3860/8000: 100%|██████████| 50/50 [00:12<00:00,  3.97it/s]\n"
     ]
    },
    {
     "name": "stdout",
     "output_type": "stream",
     "text": [
      "3860\n",
      "0.012572573497891426\n",
      "=========\n"
     ]
    },
    {
     "name": "stderr",
     "output_type": "stream",
     "text": [
      "Epoch 3861/8000: 100%|██████████| 50/50 [00:12<00:00,  4.04it/s]\n",
      "Epoch 3862/8000: 100%|██████████| 50/50 [00:12<00:00,  3.97it/s]\n"
     ]
    },
    {
     "name": "stdout",
     "output_type": "stream",
     "text": [
      "3862\n",
      "0.004539825487881899\n",
      "=========\n"
     ]
    },
    {
     "name": "stderr",
     "output_type": "stream",
     "text": [
      "Epoch 3863/8000: 100%|██████████| 50/50 [00:12<00:00,  4.13it/s]\n",
      "Epoch 3864/8000: 100%|██████████| 50/50 [00:12<00:00,  4.03it/s]\n"
     ]
    },
    {
     "name": "stdout",
     "output_type": "stream",
     "text": [
      "3864\n",
      "0.010290084406733513\n",
      "=========\n"
     ]
    },
    {
     "name": "stderr",
     "output_type": "stream",
     "text": [
      "Epoch 3865/8000: 100%|██████████| 50/50 [00:12<00:00,  3.95it/s]\n",
      "Epoch 3866/8000: 100%|██████████| 50/50 [00:12<00:00,  4.12it/s]\n"
     ]
    },
    {
     "name": "stdout",
     "output_type": "stream",
     "text": [
      "3866\n",
      "0.01050752867013216\n",
      "=========\n"
     ]
    },
    {
     "name": "stderr",
     "output_type": "stream",
     "text": [
      "Epoch 3867/8000: 100%|██████████| 50/50 [00:12<00:00,  3.99it/s]\n",
      "Epoch 3868/8000: 100%|██████████| 50/50 [00:12<00:00,  4.01it/s]\n"
     ]
    },
    {
     "name": "stdout",
     "output_type": "stream",
     "text": [
      "3868\n",
      "0.013082252815365791\n",
      "=========\n"
     ]
    },
    {
     "name": "stderr",
     "output_type": "stream",
     "text": [
      "Epoch 3869/8000: 100%|██████████| 50/50 [00:12<00:00,  4.07it/s]\n",
      "Epoch 3870/8000: 100%|██████████| 50/50 [00:12<00:00,  4.03it/s]\n"
     ]
    },
    {
     "name": "stdout",
     "output_type": "stream",
     "text": [
      "3870\n",
      "0.013718090020120144\n",
      "=========\n"
     ]
    },
    {
     "name": "stderr",
     "output_type": "stream",
     "text": [
      "Epoch 3871/8000: 100%|██████████| 50/50 [00:12<00:00,  3.91it/s]\n",
      "Epoch 3872/8000: 100%|██████████| 50/50 [00:12<00:00,  3.90it/s]\n"
     ]
    },
    {
     "name": "stdout",
     "output_type": "stream",
     "text": [
      "3872\n",
      "0.008274147287011147\n",
      "=========\n"
     ]
    },
    {
     "name": "stderr",
     "output_type": "stream",
     "text": [
      "Epoch 3873/8000: 100%|██████████| 50/50 [00:12<00:00,  3.93it/s]\n",
      "Epoch 3874/8000: 100%|██████████| 50/50 [00:12<00:00,  4.00it/s]\n"
     ]
    },
    {
     "name": "stdout",
     "output_type": "stream",
     "text": [
      "3874\n",
      "0.016355128958821297\n",
      "=========\n"
     ]
    },
    {
     "name": "stderr",
     "output_type": "stream",
     "text": [
      "Epoch 3875/8000: 100%|██████████| 50/50 [00:12<00:00,  3.91it/s]\n",
      "Epoch 3876/8000: 100%|██████████| 50/50 [00:12<00:00,  3.90it/s]\n"
     ]
    },
    {
     "name": "stdout",
     "output_type": "stream",
     "text": [
      "3876\n",
      "0.010691015049815178\n",
      "=========\n"
     ]
    },
    {
     "name": "stderr",
     "output_type": "stream",
     "text": [
      "Epoch 3877/8000: 100%|██████████| 50/50 [00:12<00:00,  3.88it/s]\n",
      "Epoch 3878/8000: 100%|██████████| 50/50 [00:12<00:00,  3.94it/s]\n"
     ]
    },
    {
     "name": "stdout",
     "output_type": "stream",
     "text": [
      "3878\n",
      "0.011191999539732933\n",
      "=========\n"
     ]
    },
    {
     "name": "stderr",
     "output_type": "stream",
     "text": [
      "Epoch 3879/8000: 100%|██████████| 50/50 [00:12<00:00,  3.93it/s]\n",
      "Epoch 3880/8000: 100%|██████████| 50/50 [00:12<00:00,  4.00it/s]\n"
     ]
    },
    {
     "name": "stdout",
     "output_type": "stream",
     "text": [
      "3880\n",
      "0.011296779848635197\n",
      "=========\n"
     ]
    },
    {
     "name": "stderr",
     "output_type": "stream",
     "text": [
      "Epoch 3881/8000: 100%|██████████| 50/50 [00:12<00:00,  3.95it/s]\n",
      "Epoch 3882/8000: 100%|██████████| 50/50 [00:12<00:00,  4.04it/s]\n"
     ]
    },
    {
     "name": "stdout",
     "output_type": "stream",
     "text": [
      "3882\n",
      "0.00773165188729763\n",
      "=========\n"
     ]
    },
    {
     "name": "stderr",
     "output_type": "stream",
     "text": [
      "Epoch 3883/8000: 100%|██████████| 50/50 [00:12<00:00,  3.86it/s]\n",
      "Epoch 3884/8000: 100%|██████████| 50/50 [00:12<00:00,  4.00it/s]\n"
     ]
    },
    {
     "name": "stdout",
     "output_type": "stream",
     "text": [
      "3884\n",
      "0.00496309157460928\n",
      "=========\n"
     ]
    },
    {
     "name": "stderr",
     "output_type": "stream",
     "text": [
      "Epoch 3885/8000: 100%|██████████| 50/50 [00:12<00:00,  3.95it/s]\n",
      "Epoch 3886/8000: 100%|██████████| 50/50 [00:12<00:00,  3.96it/s]\n"
     ]
    },
    {
     "name": "stdout",
     "output_type": "stream",
     "text": [
      "3886\n",
      "0.018323291093111038\n",
      "=========\n"
     ]
    },
    {
     "name": "stderr",
     "output_type": "stream",
     "text": [
      "Epoch 3887/8000: 100%|██████████| 50/50 [00:12<00:00,  3.98it/s]\n",
      "Epoch 3888/8000: 100%|██████████| 50/50 [00:12<00:00,  3.95it/s]\n"
     ]
    },
    {
     "name": "stdout",
     "output_type": "stream",
     "text": [
      "3888\n",
      "0.004368975292891264\n",
      "=========\n"
     ]
    },
    {
     "name": "stderr",
     "output_type": "stream",
     "text": [
      "Epoch 3889/8000: 100%|██████████| 50/50 [00:12<00:00,  4.02it/s]\n",
      "Epoch 3890/8000: 100%|██████████| 50/50 [00:12<00:00,  3.98it/s]\n"
     ]
    },
    {
     "name": "stdout",
     "output_type": "stream",
     "text": [
      "3890\n",
      "0.010882572270929813\n",
      "=========\n"
     ]
    },
    {
     "name": "stderr",
     "output_type": "stream",
     "text": [
      "Epoch 3891/8000: 100%|██████████| 50/50 [00:12<00:00,  3.98it/s]\n",
      "Epoch 3892/8000: 100%|██████████| 50/50 [00:12<00:00,  3.98it/s]\n"
     ]
    },
    {
     "name": "stdout",
     "output_type": "stream",
     "text": [
      "3892\n",
      "0.012197539210319519\n",
      "=========\n"
     ]
    },
    {
     "name": "stderr",
     "output_type": "stream",
     "text": [
      "Epoch 3893/8000: 100%|██████████| 50/50 [00:12<00:00,  4.04it/s]\n",
      "Epoch 3894/8000: 100%|██████████| 50/50 [00:12<00:00,  3.99it/s]\n"
     ]
    },
    {
     "name": "stdout",
     "output_type": "stream",
     "text": [
      "3894\n",
      "0.006178596522659063\n",
      "=========\n"
     ]
    },
    {
     "name": "stderr",
     "output_type": "stream",
     "text": [
      "Epoch 3895/8000: 100%|██████████| 50/50 [00:12<00:00,  3.97it/s]\n",
      "Epoch 3896/8000: 100%|██████████| 50/50 [00:12<00:00,  4.00it/s]\n"
     ]
    },
    {
     "name": "stdout",
     "output_type": "stream",
     "text": [
      "3896\n",
      "0.012204534374177456\n",
      "=========\n"
     ]
    },
    {
     "name": "stderr",
     "output_type": "stream",
     "text": [
      "Epoch 3897/8000: 100%|██████████| 50/50 [00:12<00:00,  3.94it/s]\n",
      "Epoch 3898/8000: 100%|██████████| 50/50 [00:12<00:00,  3.86it/s]\n"
     ]
    },
    {
     "name": "stdout",
     "output_type": "stream",
     "text": [
      "3898\n",
      "0.015014355070888996\n",
      "=========\n"
     ]
    },
    {
     "name": "stderr",
     "output_type": "stream",
     "text": [
      "Epoch 3899/8000: 100%|██████████| 50/50 [00:12<00:00,  3.98it/s]\n",
      "Epoch 3900/8000: 100%|██████████| 50/50 [00:11<00:00,  4.30it/s]\n"
     ]
    },
    {
     "name": "stdout",
     "output_type": "stream",
     "text": [
      "3900\n",
      "0.007649053819477558\n",
      "=========\n"
     ]
    },
    {
     "name": "stderr",
     "output_type": "stream",
     "text": [
      "Epoch 3901/8000: 100%|██████████| 50/50 [00:12<00:00,  3.90it/s]\n",
      "Epoch 3902/8000: 100%|██████████| 50/50 [00:12<00:00,  3.96it/s]\n"
     ]
    },
    {
     "name": "stdout",
     "output_type": "stream",
     "text": [
      "3902\n",
      "0.010067216120660305\n",
      "=========\n"
     ]
    },
    {
     "name": "stderr",
     "output_type": "stream",
     "text": [
      "Epoch 3903/8000: 100%|██████████| 50/50 [00:12<00:00,  3.96it/s]\n",
      "Epoch 3904/8000: 100%|██████████| 50/50 [00:12<00:00,  4.01it/s]\n"
     ]
    },
    {
     "name": "stdout",
     "output_type": "stream",
     "text": [
      "3904\n",
      "0.006521301344037056\n",
      "=========\n"
     ]
    },
    {
     "name": "stderr",
     "output_type": "stream",
     "text": [
      "Epoch 3905/8000: 100%|██████████| 50/50 [00:12<00:00,  4.06it/s]\n",
      "Epoch 3906/8000: 100%|██████████| 50/50 [00:12<00:00,  3.97it/s]\n"
     ]
    },
    {
     "name": "stdout",
     "output_type": "stream",
     "text": [
      "3906\n",
      "0.002662600949406624\n",
      "=========\n"
     ]
    },
    {
     "name": "stderr",
     "output_type": "stream",
     "text": [
      "Epoch 3907/8000: 100%|██████████| 50/50 [00:12<00:00,  4.05it/s]\n",
      "Epoch 3908/8000: 100%|██████████| 50/50 [00:12<00:00,  4.01it/s]\n"
     ]
    },
    {
     "name": "stdout",
     "output_type": "stream",
     "text": [
      "3908\n",
      "0.00531596876680851\n",
      "=========\n"
     ]
    },
    {
     "name": "stderr",
     "output_type": "stream",
     "text": [
      "Epoch 3909/8000: 100%|██████████| 50/50 [00:12<00:00,  3.94it/s]\n",
      "Epoch 3910/8000: 100%|██████████| 50/50 [00:12<00:00,  3.93it/s]\n"
     ]
    },
    {
     "name": "stdout",
     "output_type": "stream",
     "text": [
      "3910\n",
      "0.005878059659153223\n",
      "=========\n"
     ]
    },
    {
     "name": "stderr",
     "output_type": "stream",
     "text": [
      "Epoch 3911/8000: 100%|██████████| 50/50 [00:12<00:00,  3.97it/s]\n",
      "Epoch 3912/8000: 100%|██████████| 50/50 [00:12<00:00,  4.04it/s]\n"
     ]
    },
    {
     "name": "stdout",
     "output_type": "stream",
     "text": [
      "3912\n",
      "0.022673211991786957\n",
      "=========\n"
     ]
    },
    {
     "name": "stderr",
     "output_type": "stream",
     "text": [
      "Epoch 3913/8000: 100%|██████████| 50/50 [00:12<00:00,  3.89it/s]\n",
      "Epoch 3914/8000: 100%|██████████| 50/50 [00:12<00:00,  4.04it/s]\n"
     ]
    },
    {
     "name": "stdout",
     "output_type": "stream",
     "text": [
      "3914\n",
      "0.003985685296356678\n",
      "=========\n"
     ]
    },
    {
     "name": "stderr",
     "output_type": "stream",
     "text": [
      "Epoch 3915/8000: 100%|██████████| 50/50 [00:12<00:00,  3.98it/s]\n",
      "Epoch 3916/8000: 100%|██████████| 50/50 [00:12<00:00,  4.06it/s]\n"
     ]
    },
    {
     "name": "stdout",
     "output_type": "stream",
     "text": [
      "3916\n",
      "0.020489318296313286\n",
      "=========\n"
     ]
    },
    {
     "name": "stderr",
     "output_type": "stream",
     "text": [
      "Epoch 3917/8000: 100%|██████████| 50/50 [00:12<00:00,  3.90it/s]\n",
      "Epoch 3918/8000: 100%|██████████| 50/50 [00:12<00:00,  3.94it/s]\n"
     ]
    },
    {
     "name": "stdout",
     "output_type": "stream",
     "text": [
      "3918\n",
      "0.005027383100241423\n",
      "=========\n"
     ]
    },
    {
     "name": "stderr",
     "output_type": "stream",
     "text": [
      "Epoch 3919/8000: 100%|██████████| 50/50 [00:11<00:00,  4.17it/s]\n",
      "Epoch 3920/8000: 100%|██████████| 50/50 [00:12<00:00,  3.95it/s]\n"
     ]
    },
    {
     "name": "stdout",
     "output_type": "stream",
     "text": [
      "3920\n",
      "0.007645592559129\n",
      "=========\n"
     ]
    },
    {
     "name": "stderr",
     "output_type": "stream",
     "text": [
      "Epoch 3921/8000: 100%|██████████| 50/50 [00:12<00:00,  4.03it/s]\n",
      "Epoch 3922/8000: 100%|██████████| 50/50 [00:12<00:00,  3.96it/s]\n"
     ]
    },
    {
     "name": "stdout",
     "output_type": "stream",
     "text": [
      "3922\n",
      "0.01181053463369608\n",
      "=========\n"
     ]
    },
    {
     "name": "stderr",
     "output_type": "stream",
     "text": [
      "Epoch 3923/8000: 100%|██████████| 50/50 [00:12<00:00,  4.15it/s]\n",
      "Epoch 3924/8000: 100%|██████████| 50/50 [00:12<00:00,  3.98it/s]\n"
     ]
    },
    {
     "name": "stdout",
     "output_type": "stream",
     "text": [
      "3924\n",
      "0.013790493831038475\n",
      "=========\n"
     ]
    },
    {
     "name": "stderr",
     "output_type": "stream",
     "text": [
      "Epoch 3925/8000: 100%|██████████| 50/50 [00:12<00:00,  3.89it/s]\n",
      "Epoch 3926/8000: 100%|██████████| 50/50 [00:12<00:00,  4.03it/s]\n"
     ]
    },
    {
     "name": "stdout",
     "output_type": "stream",
     "text": [
      "3926\n",
      "0.010523692704737186\n",
      "=========\n"
     ]
    },
    {
     "name": "stderr",
     "output_type": "stream",
     "text": [
      "Epoch 3927/8000: 100%|██████████| 50/50 [00:12<00:00,  3.89it/s]\n",
      "Epoch 3928/8000: 100%|██████████| 50/50 [00:12<00:00,  4.06it/s]\n"
     ]
    },
    {
     "name": "stdout",
     "output_type": "stream",
     "text": [
      "3928\n",
      "0.011885772459208965\n",
      "=========\n"
     ]
    },
    {
     "name": "stderr",
     "output_type": "stream",
     "text": [
      "Epoch 3929/8000: 100%|██████████| 50/50 [00:12<00:00,  4.04it/s]\n",
      "Epoch 3930/8000: 100%|██████████| 50/50 [00:12<00:00,  3.98it/s]\n"
     ]
    },
    {
     "name": "stdout",
     "output_type": "stream",
     "text": [
      "3930\n",
      "0.005602626595646143\n",
      "=========\n"
     ]
    },
    {
     "name": "stderr",
     "output_type": "stream",
     "text": [
      "Epoch 3931/8000: 100%|██████████| 50/50 [00:12<00:00,  4.01it/s]\n",
      "Epoch 3932/8000: 100%|██████████| 50/50 [00:12<00:00,  4.01it/s]\n"
     ]
    },
    {
     "name": "stdout",
     "output_type": "stream",
     "text": [
      "3932\n",
      "0.007734990678727627\n",
      "=========\n"
     ]
    },
    {
     "name": "stderr",
     "output_type": "stream",
     "text": [
      "Epoch 3933/8000: 100%|██████████| 50/50 [00:12<00:00,  3.91it/s]\n",
      "Epoch 3934/8000: 100%|██████████| 50/50 [00:12<00:00,  3.97it/s]\n"
     ]
    },
    {
     "name": "stdout",
     "output_type": "stream",
     "text": [
      "3934\n",
      "0.009578071534633636\n",
      "=========\n"
     ]
    },
    {
     "name": "stderr",
     "output_type": "stream",
     "text": [
      "Epoch 3935/8000: 100%|██████████| 50/50 [00:12<00:00,  4.03it/s]\n",
      "Epoch 3936/8000: 100%|██████████| 50/50 [00:12<00:00,  4.02it/s]\n"
     ]
    },
    {
     "name": "stdout",
     "output_type": "stream",
     "text": [
      "3936\n",
      "0.012597693130373955\n",
      "=========\n"
     ]
    },
    {
     "name": "stderr",
     "output_type": "stream",
     "text": [
      "Epoch 3937/8000: 100%|██████████| 50/50 [00:12<00:00,  3.99it/s]\n",
      "Epoch 3938/8000: 100%|██████████| 50/50 [00:12<00:00,  3.93it/s]\n"
     ]
    },
    {
     "name": "stdout",
     "output_type": "stream",
     "text": [
      "3938\n",
      "0.008404099382460117\n",
      "=========\n"
     ]
    },
    {
     "name": "stderr",
     "output_type": "stream",
     "text": [
      "Epoch 3939/8000: 100%|██████████| 50/50 [00:12<00:00,  3.90it/s]\n",
      "Epoch 3940/8000: 100%|██████████| 50/50 [00:12<00:00,  4.06it/s]\n"
     ]
    },
    {
     "name": "stdout",
     "output_type": "stream",
     "text": [
      "3940\n",
      "0.016848567873239517\n",
      "=========\n"
     ]
    },
    {
     "name": "stderr",
     "output_type": "stream",
     "text": [
      "Epoch 3941/8000: 100%|██████████| 50/50 [00:12<00:00,  4.05it/s]\n",
      "Epoch 3942/8000: 100%|██████████| 50/50 [00:12<00:00,  4.08it/s]\n"
     ]
    },
    {
     "name": "stdout",
     "output_type": "stream",
     "text": [
      "3942\n",
      "0.005917849484831095\n",
      "=========\n"
     ]
    },
    {
     "name": "stderr",
     "output_type": "stream",
     "text": [
      "Epoch 3943/8000: 100%|██████████| 50/50 [00:12<00:00,  3.95it/s]\n",
      "Epoch 3944/8000: 100%|██████████| 50/50 [00:12<00:00,  3.91it/s]\n"
     ]
    },
    {
     "name": "stdout",
     "output_type": "stream",
     "text": [
      "3944\n",
      "0.01322026178240776\n",
      "=========\n"
     ]
    },
    {
     "name": "stderr",
     "output_type": "stream",
     "text": [
      "Epoch 3945/8000: 100%|██████████| 50/50 [00:12<00:00,  4.11it/s]\n",
      "Epoch 3946/8000: 100%|██████████| 50/50 [00:12<00:00,  4.12it/s]\n"
     ]
    },
    {
     "name": "stdout",
     "output_type": "stream",
     "text": [
      "3946\n",
      "0.005173298995941877\n",
      "=========\n"
     ]
    },
    {
     "name": "stderr",
     "output_type": "stream",
     "text": [
      "Epoch 3947/8000: 100%|██████████| 50/50 [00:12<00:00,  3.95it/s]\n",
      "Epoch 3948/8000: 100%|██████████| 50/50 [00:12<00:00,  3.91it/s]\n"
     ]
    },
    {
     "name": "stdout",
     "output_type": "stream",
     "text": [
      "3948\n",
      "0.009931910783052444\n",
      "=========\n"
     ]
    },
    {
     "name": "stderr",
     "output_type": "stream",
     "text": [
      "Epoch 3949/8000: 100%|██████████| 50/50 [00:12<00:00,  4.08it/s]\n",
      "Epoch 3950/8000: 100%|██████████| 50/50 [00:12<00:00,  4.04it/s]\n"
     ]
    },
    {
     "name": "stdout",
     "output_type": "stream",
     "text": [
      "3950\n",
      "0.006605272646993399\n",
      "=========\n"
     ]
    },
    {
     "name": "stderr",
     "output_type": "stream",
     "text": [
      "Epoch 3951/8000: 100%|██████████| 50/50 [00:12<00:00,  3.88it/s]\n",
      "Epoch 3952/8000: 100%|██████████| 50/50 [00:12<00:00,  3.98it/s]\n"
     ]
    },
    {
     "name": "stdout",
     "output_type": "stream",
     "text": [
      "3952\n",
      "0.009808081202208996\n",
      "=========\n"
     ]
    },
    {
     "name": "stderr",
     "output_type": "stream",
     "text": [
      "Epoch 3953/8000: 100%|██████████| 50/50 [00:12<00:00,  3.96it/s]\n",
      "Epoch 3954/8000: 100%|██████████| 50/50 [00:12<00:00,  4.00it/s]\n"
     ]
    },
    {
     "name": "stdout",
     "output_type": "stream",
     "text": [
      "3954\n",
      "0.005682298447936773\n",
      "=========\n"
     ]
    },
    {
     "name": "stderr",
     "output_type": "stream",
     "text": [
      "Epoch 3955/8000: 100%|██████████| 50/50 [00:12<00:00,  4.09it/s]\n",
      "Epoch 3956/8000: 100%|██████████| 50/50 [00:12<00:00,  4.15it/s]\n"
     ]
    },
    {
     "name": "stdout",
     "output_type": "stream",
     "text": [
      "3956\n",
      "0.01833004504442215\n",
      "=========\n"
     ]
    },
    {
     "name": "stderr",
     "output_type": "stream",
     "text": [
      "Epoch 3957/8000: 100%|██████████| 50/50 [00:11<00:00,  4.19it/s]\n",
      "Epoch 3958/8000: 100%|██████████| 50/50 [00:12<00:00,  4.06it/s]\n"
     ]
    },
    {
     "name": "stdout",
     "output_type": "stream",
     "text": [
      "3958\n",
      "0.011172766797244549\n",
      "=========\n"
     ]
    },
    {
     "name": "stderr",
     "output_type": "stream",
     "text": [
      "Epoch 3959/8000: 100%|██████████| 50/50 [00:12<00:00,  3.99it/s]\n",
      "Epoch 3960/8000: 100%|██████████| 50/50 [00:12<00:00,  4.02it/s]\n"
     ]
    },
    {
     "name": "stdout",
     "output_type": "stream",
     "text": [
      "3960\n",
      "0.008657562546432018\n",
      "=========\n"
     ]
    },
    {
     "name": "stderr",
     "output_type": "stream",
     "text": [
      "Epoch 3961/8000: 100%|██████████| 50/50 [00:12<00:00,  4.12it/s]\n",
      "Epoch 3962/8000: 100%|██████████| 50/50 [00:12<00:00,  4.10it/s]\n"
     ]
    },
    {
     "name": "stdout",
     "output_type": "stream",
     "text": [
      "3962\n",
      "0.011063664220273495\n",
      "=========\n"
     ]
    },
    {
     "name": "stderr",
     "output_type": "stream",
     "text": [
      "Epoch 3963/8000: 100%|██████████| 50/50 [00:12<00:00,  3.99it/s]\n",
      "Epoch 3964/8000: 100%|██████████| 50/50 [00:11<00:00,  4.25it/s]\n"
     ]
    },
    {
     "name": "stdout",
     "output_type": "stream",
     "text": [
      "3964\n",
      "0.005359360482543707\n",
      "=========\n"
     ]
    },
    {
     "name": "stderr",
     "output_type": "stream",
     "text": [
      "Epoch 3965/8000: 100%|██████████| 50/50 [00:12<00:00,  4.03it/s]\n",
      "Epoch 3966/8000: 100%|██████████| 50/50 [00:12<00:00,  4.06it/s]\n"
     ]
    },
    {
     "name": "stdout",
     "output_type": "stream",
     "text": [
      "3966\n",
      "0.01300873328000307\n",
      "=========\n"
     ]
    },
    {
     "name": "stderr",
     "output_type": "stream",
     "text": [
      "Epoch 3967/8000: 100%|██████████| 50/50 [00:11<00:00,  4.19it/s]\n",
      "Epoch 3968/8000: 100%|██████████| 50/50 [00:12<00:00,  3.90it/s]\n"
     ]
    },
    {
     "name": "stdout",
     "output_type": "stream",
     "text": [
      "3968\n",
      "0.009488970041275024\n",
      "=========\n"
     ]
    },
    {
     "name": "stderr",
     "output_type": "stream",
     "text": [
      "Epoch 3969/8000: 100%|██████████| 50/50 [00:12<00:00,  3.88it/s]\n",
      "Epoch 3970/8000: 100%|██████████| 50/50 [00:12<00:00,  3.89it/s]\n"
     ]
    },
    {
     "name": "stdout",
     "output_type": "stream",
     "text": [
      "3970\n",
      "0.009113918989896774\n",
      "=========\n"
     ]
    },
    {
     "name": "stderr",
     "output_type": "stream",
     "text": [
      "Epoch 3971/8000: 100%|██████████| 50/50 [00:12<00:00,  4.16it/s]\n",
      "Epoch 3972/8000: 100%|██████████| 50/50 [00:12<00:00,  4.04it/s]\n"
     ]
    },
    {
     "name": "stdout",
     "output_type": "stream",
     "text": [
      "3972\n",
      "0.00773494690656662\n",
      "=========\n"
     ]
    },
    {
     "name": "stderr",
     "output_type": "stream",
     "text": [
      "Epoch 3973/8000: 100%|██████████| 50/50 [00:12<00:00,  4.16it/s]\n",
      "Epoch 3974/8000: 100%|██████████| 50/50 [00:12<00:00,  3.97it/s]\n"
     ]
    },
    {
     "name": "stdout",
     "output_type": "stream",
     "text": [
      "3974\n",
      "0.006588007789105177\n",
      "=========\n"
     ]
    },
    {
     "name": "stderr",
     "output_type": "stream",
     "text": [
      "Epoch 3975/8000: 100%|██████████| 50/50 [00:11<00:00,  4.25it/s]\n",
      "Epoch 3976/8000: 100%|██████████| 50/50 [00:11<00:00,  4.17it/s]\n"
     ]
    },
    {
     "name": "stdout",
     "output_type": "stream",
     "text": [
      "3976\n",
      "0.019516488537192345\n",
      "=========\n"
     ]
    },
    {
     "name": "stderr",
     "output_type": "stream",
     "text": [
      "Epoch 3977/8000: 100%|██████████| 50/50 [00:12<00:00,  3.94it/s]\n",
      "Epoch 3978/8000: 100%|██████████| 50/50 [00:12<00:00,  4.12it/s]\n"
     ]
    },
    {
     "name": "stdout",
     "output_type": "stream",
     "text": [
      "3978\n",
      "0.008609221316874027\n",
      "=========\n"
     ]
    },
    {
     "name": "stderr",
     "output_type": "stream",
     "text": [
      "Epoch 3979/8000: 100%|██████████| 50/50 [00:12<00:00,  4.04it/s]\n",
      "Epoch 3980/8000: 100%|██████████| 50/50 [00:12<00:00,  3.89it/s]\n"
     ]
    },
    {
     "name": "stdout",
     "output_type": "stream",
     "text": [
      "3980\n",
      "0.010158057324588299\n",
      "=========\n"
     ]
    },
    {
     "name": "stderr",
     "output_type": "stream",
     "text": [
      "Epoch 3981/8000: 100%|██████████| 50/50 [00:12<00:00,  3.96it/s]\n",
      "Epoch 3982/8000: 100%|██████████| 50/50 [00:11<00:00,  4.17it/s]\n"
     ]
    },
    {
     "name": "stdout",
     "output_type": "stream",
     "text": [
      "3982\n",
      "0.009030806832015514\n",
      "=========\n"
     ]
    },
    {
     "name": "stderr",
     "output_type": "stream",
     "text": [
      "Epoch 3983/8000: 100%|██████████| 50/50 [00:11<00:00,  4.38it/s]\n",
      "Epoch 3984/8000: 100%|██████████| 50/50 [00:12<00:00,  3.97it/s]\n"
     ]
    },
    {
     "name": "stdout",
     "output_type": "stream",
     "text": [
      "3984\n",
      "0.00754873501136899\n",
      "=========\n"
     ]
    },
    {
     "name": "stderr",
     "output_type": "stream",
     "text": [
      "Epoch 3985/8000: 100%|██████████| 50/50 [00:12<00:00,  3.97it/s]\n",
      "Epoch 3986/8000: 100%|██████████| 50/50 [00:12<00:00,  4.11it/s]\n"
     ]
    },
    {
     "name": "stdout",
     "output_type": "stream",
     "text": [
      "3986\n",
      "0.006991185713559389\n",
      "=========\n"
     ]
    },
    {
     "name": "stderr",
     "output_type": "stream",
     "text": [
      "Epoch 3987/8000: 100%|██████████| 50/50 [00:12<00:00,  3.93it/s]\n",
      "Epoch 3988/8000: 100%|██████████| 50/50 [00:11<00:00,  4.21it/s]\n"
     ]
    },
    {
     "name": "stdout",
     "output_type": "stream",
     "text": [
      "3988\n",
      "0.009379005059599876\n",
      "=========\n"
     ]
    },
    {
     "name": "stderr",
     "output_type": "stream",
     "text": [
      "Epoch 3989/8000: 100%|██████████| 50/50 [00:12<00:00,  4.05it/s]\n",
      "Epoch 3990/8000: 100%|██████████| 50/50 [00:12<00:00,  3.98it/s]\n"
     ]
    },
    {
     "name": "stdout",
     "output_type": "stream",
     "text": [
      "3990\n",
      "0.008219814859330654\n",
      "=========\n"
     ]
    },
    {
     "name": "stderr",
     "output_type": "stream",
     "text": [
      "Epoch 3991/8000: 100%|██████████| 50/50 [00:12<00:00,  3.98it/s]\n",
      "Epoch 3992/8000: 100%|██████████| 50/50 [00:12<00:00,  3.98it/s]\n"
     ]
    },
    {
     "name": "stdout",
     "output_type": "stream",
     "text": [
      "3992\n",
      "0.008599646389484406\n",
      "=========\n"
     ]
    },
    {
     "name": "stderr",
     "output_type": "stream",
     "text": [
      "Epoch 3993/8000: 100%|██████████| 50/50 [00:12<00:00,  4.04it/s]\n",
      "Epoch 3994/8000: 100%|██████████| 50/50 [00:12<00:00,  4.14it/s]\n"
     ]
    },
    {
     "name": "stdout",
     "output_type": "stream",
     "text": [
      "3994\n",
      "0.016211897134780884\n",
      "=========\n"
     ]
    },
    {
     "name": "stderr",
     "output_type": "stream",
     "text": [
      "Epoch 3995/8000: 100%|██████████| 50/50 [00:12<00:00,  4.04it/s]\n",
      "Epoch 3996/8000: 100%|██████████| 50/50 [00:12<00:00,  3.95it/s]\n"
     ]
    },
    {
     "name": "stdout",
     "output_type": "stream",
     "text": [
      "3996\n",
      "0.009221344254910946\n",
      "=========\n"
     ]
    },
    {
     "name": "stderr",
     "output_type": "stream",
     "text": [
      "Epoch 3997/8000: 100%|██████████| 50/50 [00:12<00:00,  4.09it/s]\n",
      "Epoch 3998/8000: 100%|██████████| 50/50 [00:12<00:00,  4.06it/s]\n"
     ]
    },
    {
     "name": "stdout",
     "output_type": "stream",
     "text": [
      "3998\n",
      "0.012347315438091755\n",
      "=========\n"
     ]
    },
    {
     "name": "stderr",
     "output_type": "stream",
     "text": [
      "Epoch 3999/8000: 100%|██████████| 50/50 [00:11<00:00,  4.26it/s]\n",
      "Epoch 4000/8000: 100%|██████████| 50/50 [00:12<00:00,  4.06it/s]\n"
     ]
    },
    {
     "name": "stdout",
     "output_type": "stream",
     "text": [
      "4000\n",
      "0.010063628666102886\n",
      "=========\n"
     ]
    },
    {
     "name": "stderr",
     "output_type": "stream",
     "text": [
      "Epoch 4001/8000: 100%|██████████| 50/50 [00:12<00:00,  4.06it/s]\n",
      "Epoch 4002/8000: 100%|██████████| 50/50 [00:12<00:00,  4.06it/s]\n"
     ]
    },
    {
     "name": "stdout",
     "output_type": "stream",
     "text": [
      "4002\n",
      "0.007154922466725111\n",
      "=========\n"
     ]
    },
    {
     "name": "stderr",
     "output_type": "stream",
     "text": [
      "Epoch 4003/8000: 100%|██████████| 50/50 [00:12<00:00,  4.01it/s]\n",
      "Epoch 4004/8000: 100%|██████████| 50/50 [00:12<00:00,  4.06it/s]\n"
     ]
    },
    {
     "name": "stdout",
     "output_type": "stream",
     "text": [
      "4004\n",
      "0.005629962310194969\n",
      "=========\n"
     ]
    },
    {
     "name": "stderr",
     "output_type": "stream",
     "text": [
      "Epoch 4005/8000: 100%|██████████| 50/50 [00:12<00:00,  4.03it/s]\n",
      "Epoch 4006/8000: 100%|██████████| 50/50 [00:12<00:00,  3.95it/s]\n"
     ]
    },
    {
     "name": "stdout",
     "output_type": "stream",
     "text": [
      "4006\n",
      "0.0062123616226017475\n",
      "=========\n"
     ]
    },
    {
     "name": "stderr",
     "output_type": "stream",
     "text": [
      "Epoch 4007/8000: 100%|██████████| 50/50 [00:12<00:00,  4.13it/s]\n",
      "Epoch 4008/8000: 100%|██████████| 50/50 [00:13<00:00,  3.84it/s]\n"
     ]
    },
    {
     "name": "stdout",
     "output_type": "stream",
     "text": [
      "4008\n",
      "0.009474794380366802\n",
      "=========\n"
     ]
    },
    {
     "name": "stderr",
     "output_type": "stream",
     "text": [
      "Epoch 4009/8000: 100%|██████████| 50/50 [00:12<00:00,  4.00it/s]\n",
      "Epoch 4010/8000: 100%|██████████| 50/50 [00:12<00:00,  4.10it/s]\n"
     ]
    },
    {
     "name": "stdout",
     "output_type": "stream",
     "text": [
      "4010\n",
      "0.012072982266545296\n",
      "=========\n"
     ]
    },
    {
     "name": "stderr",
     "output_type": "stream",
     "text": [
      "Epoch 4011/8000: 100%|██████████| 50/50 [00:12<00:00,  4.07it/s]\n",
      "Epoch 4012/8000: 100%|██████████| 50/50 [00:12<00:00,  4.11it/s]\n"
     ]
    },
    {
     "name": "stdout",
     "output_type": "stream",
     "text": [
      "4012\n",
      "0.009993555024266243\n",
      "=========\n"
     ]
    },
    {
     "name": "stderr",
     "output_type": "stream",
     "text": [
      "Epoch 4013/8000: 100%|██████████| 50/50 [00:12<00:00,  3.94it/s]\n",
      "Epoch 4014/8000: 100%|██████████| 50/50 [00:12<00:00,  3.99it/s]\n"
     ]
    },
    {
     "name": "stdout",
     "output_type": "stream",
     "text": [
      "4014\n",
      "0.007291426416486502\n",
      "=========\n"
     ]
    },
    {
     "name": "stderr",
     "output_type": "stream",
     "text": [
      "Epoch 4015/8000: 100%|██████████| 50/50 [00:12<00:00,  4.08it/s]\n",
      "Epoch 4016/8000: 100%|██████████| 50/50 [00:12<00:00,  3.95it/s]\n"
     ]
    },
    {
     "name": "stdout",
     "output_type": "stream",
     "text": [
      "4016\n",
      "0.007144431117922068\n",
      "=========\n"
     ]
    },
    {
     "name": "stderr",
     "output_type": "stream",
     "text": [
      "Epoch 4017/8000: 100%|██████████| 50/50 [00:12<00:00,  3.97it/s]\n",
      "Epoch 4018/8000: 100%|██████████| 50/50 [00:12<00:00,  4.09it/s]\n"
     ]
    },
    {
     "name": "stdout",
     "output_type": "stream",
     "text": [
      "4018\n",
      "0.005076888017356396\n",
      "=========\n"
     ]
    },
    {
     "name": "stderr",
     "output_type": "stream",
     "text": [
      "Epoch 4019/8000: 100%|██████████| 50/50 [00:12<00:00,  4.01it/s]\n",
      "Epoch 4020/8000: 100%|██████████| 50/50 [00:12<00:00,  4.08it/s]\n"
     ]
    },
    {
     "name": "stdout",
     "output_type": "stream",
     "text": [
      "4020\n",
      "0.006771355401724577\n",
      "=========\n"
     ]
    },
    {
     "name": "stderr",
     "output_type": "stream",
     "text": [
      "Epoch 4021/8000: 100%|██████████| 50/50 [00:12<00:00,  4.00it/s]\n",
      "Epoch 4022/8000: 100%|██████████| 50/50 [00:12<00:00,  4.00it/s]\n"
     ]
    },
    {
     "name": "stdout",
     "output_type": "stream",
     "text": [
      "4022\n",
      "0.005826735403388739\n",
      "=========\n"
     ]
    },
    {
     "name": "stderr",
     "output_type": "stream",
     "text": [
      "Epoch 4023/8000: 100%|██████████| 50/50 [00:12<00:00,  4.00it/s]\n",
      "Epoch 4024/8000: 100%|██████████| 50/50 [00:12<00:00,  4.09it/s]\n"
     ]
    },
    {
     "name": "stdout",
     "output_type": "stream",
     "text": [
      "4024\n",
      "0.005760210566222668\n",
      "=========\n"
     ]
    },
    {
     "name": "stderr",
     "output_type": "stream",
     "text": [
      "Epoch 4025/8000: 100%|██████████| 50/50 [00:12<00:00,  4.06it/s]\n",
      "Epoch 4026/8000: 100%|██████████| 50/50 [00:12<00:00,  4.11it/s]\n"
     ]
    },
    {
     "name": "stdout",
     "output_type": "stream",
     "text": [
      "4026\n",
      "0.0054657007567584515\n",
      "=========\n"
     ]
    },
    {
     "name": "stderr",
     "output_type": "stream",
     "text": [
      "Epoch 4027/8000: 100%|██████████| 50/50 [00:12<00:00,  3.90it/s]\n",
      "Epoch 4028/8000: 100%|██████████| 50/50 [00:12<00:00,  3.99it/s]\n"
     ]
    },
    {
     "name": "stdout",
     "output_type": "stream",
     "text": [
      "4028\n",
      "0.010228585451841354\n",
      "=========\n"
     ]
    },
    {
     "name": "stderr",
     "output_type": "stream",
     "text": [
      "Epoch 4029/8000: 100%|██████████| 50/50 [00:12<00:00,  3.98it/s]\n",
      "Epoch 4030/8000: 100%|██████████| 50/50 [00:12<00:00,  4.04it/s]\n"
     ]
    },
    {
     "name": "stdout",
     "output_type": "stream",
     "text": [
      "4030\n",
      "0.006797080859541893\n",
      "=========\n"
     ]
    },
    {
     "name": "stderr",
     "output_type": "stream",
     "text": [
      "Epoch 4031/8000: 100%|██████████| 50/50 [00:12<00:00,  4.11it/s]\n",
      "Epoch 4032/8000: 100%|██████████| 50/50 [00:12<00:00,  3.91it/s]\n"
     ]
    },
    {
     "name": "stdout",
     "output_type": "stream",
     "text": [
      "4032\n",
      "0.006368919741362333\n",
      "=========\n"
     ]
    },
    {
     "name": "stderr",
     "output_type": "stream",
     "text": [
      "Epoch 4033/8000: 100%|██████████| 50/50 [00:12<00:00,  3.86it/s]\n",
      "Epoch 4034/8000: 100%|██████████| 50/50 [00:12<00:00,  4.14it/s]\n"
     ]
    },
    {
     "name": "stdout",
     "output_type": "stream",
     "text": [
      "4034\n",
      "0.013137653470039368\n",
      "=========\n"
     ]
    },
    {
     "name": "stderr",
     "output_type": "stream",
     "text": [
      "Epoch 4035/8000: 100%|██████████| 50/50 [00:12<00:00,  4.05it/s]\n",
      "Epoch 4036/8000: 100%|██████████| 50/50 [00:12<00:00,  3.98it/s]\n"
     ]
    },
    {
     "name": "stdout",
     "output_type": "stream",
     "text": [
      "4036\n",
      "0.008867398835718632\n",
      "=========\n"
     ]
    },
    {
     "name": "stderr",
     "output_type": "stream",
     "text": [
      "Epoch 4037/8000: 100%|██████████| 50/50 [00:12<00:00,  4.02it/s]\n",
      "Epoch 4038/8000: 100%|██████████| 50/50 [00:12<00:00,  4.04it/s]\n"
     ]
    },
    {
     "name": "stdout",
     "output_type": "stream",
     "text": [
      "4038\n",
      "0.011028790846467018\n",
      "=========\n"
     ]
    },
    {
     "name": "stderr",
     "output_type": "stream",
     "text": [
      "Epoch 4039/8000: 100%|██████████| 50/50 [00:12<00:00,  4.06it/s]\n",
      "Epoch 4040/8000: 100%|██████████| 50/50 [00:12<00:00,  4.07it/s]\n"
     ]
    },
    {
     "name": "stdout",
     "output_type": "stream",
     "text": [
      "4040\n",
      "0.008390048518776894\n",
      "=========\n"
     ]
    },
    {
     "name": "stderr",
     "output_type": "stream",
     "text": [
      "Epoch 4041/8000: 100%|██████████| 50/50 [00:12<00:00,  3.99it/s]\n",
      "Epoch 4042/8000: 100%|██████████| 50/50 [00:12<00:00,  3.93it/s]\n"
     ]
    },
    {
     "name": "stdout",
     "output_type": "stream",
     "text": [
      "4042\n",
      "0.006970742251724005\n",
      "=========\n"
     ]
    },
    {
     "name": "stderr",
     "output_type": "stream",
     "text": [
      "Epoch 4043/8000: 100%|██████████| 50/50 [00:11<00:00,  4.28it/s]\n",
      "Epoch 4044/8000: 100%|██████████| 50/50 [00:12<00:00,  4.03it/s]\n"
     ]
    },
    {
     "name": "stdout",
     "output_type": "stream",
     "text": [
      "4044\n",
      "0.018354151397943497\n",
      "=========\n"
     ]
    },
    {
     "name": "stderr",
     "output_type": "stream",
     "text": [
      "Epoch 4045/8000: 100%|██████████| 50/50 [00:12<00:00,  4.14it/s]\n",
      "Epoch 4046/8000: 100%|██████████| 50/50 [00:12<00:00,  3.88it/s]\n"
     ]
    },
    {
     "name": "stdout",
     "output_type": "stream",
     "text": [
      "4046\n",
      "0.008756585419178009\n",
      "=========\n"
     ]
    },
    {
     "name": "stderr",
     "output_type": "stream",
     "text": [
      "Epoch 4047/8000: 100%|██████████| 50/50 [00:12<00:00,  3.98it/s]\n",
      "Epoch 4048/8000: 100%|██████████| 50/50 [00:12<00:00,  3.96it/s]\n"
     ]
    },
    {
     "name": "stdout",
     "output_type": "stream",
     "text": [
      "4048\n",
      "0.006533125881105661\n",
      "=========\n"
     ]
    },
    {
     "name": "stderr",
     "output_type": "stream",
     "text": [
      "Epoch 4049/8000: 100%|██████████| 50/50 [00:12<00:00,  4.14it/s]\n",
      "Epoch 4050/8000: 100%|██████████| 50/50 [00:12<00:00,  3.92it/s]\n"
     ]
    },
    {
     "name": "stdout",
     "output_type": "stream",
     "text": [
      "4050\n",
      "0.007560620550066233\n",
      "=========\n"
     ]
    },
    {
     "name": "stderr",
     "output_type": "stream",
     "text": [
      "Epoch 4051/8000: 100%|██████████| 50/50 [00:12<00:00,  3.98it/s]\n",
      "Epoch 4052/8000: 100%|██████████| 50/50 [00:12<00:00,  3.96it/s]\n"
     ]
    },
    {
     "name": "stdout",
     "output_type": "stream",
     "text": [
      "4052\n",
      "0.004740515723824501\n",
      "=========\n"
     ]
    },
    {
     "name": "stderr",
     "output_type": "stream",
     "text": [
      "Epoch 4053/8000: 100%|██████████| 50/50 [00:12<00:00,  3.97it/s]\n",
      "Epoch 4054/8000: 100%|██████████| 50/50 [00:12<00:00,  3.96it/s]\n"
     ]
    },
    {
     "name": "stdout",
     "output_type": "stream",
     "text": [
      "4054\n",
      "0.006797899957746267\n",
      "=========\n"
     ]
    },
    {
     "name": "stderr",
     "output_type": "stream",
     "text": [
      "Epoch 4055/8000: 100%|██████████| 50/50 [00:12<00:00,  4.07it/s]\n",
      "Epoch 4056/8000: 100%|██████████| 50/50 [00:12<00:00,  4.00it/s]\n"
     ]
    },
    {
     "name": "stdout",
     "output_type": "stream",
     "text": [
      "4056\n",
      "0.006497371941804886\n",
      "=========\n"
     ]
    },
    {
     "name": "stderr",
     "output_type": "stream",
     "text": [
      "Epoch 4057/8000: 100%|██████████| 50/50 [00:11<00:00,  4.17it/s]\n",
      "Epoch 4058/8000: 100%|██████████| 50/50 [00:12<00:00,  3.94it/s]\n"
     ]
    },
    {
     "name": "stdout",
     "output_type": "stream",
     "text": [
      "4058\n",
      "0.008385741151869297\n",
      "=========\n"
     ]
    },
    {
     "name": "stderr",
     "output_type": "stream",
     "text": [
      "Epoch 4059/8000: 100%|██████████| 50/50 [00:12<00:00,  4.08it/s]\n",
      "Epoch 4060/8000: 100%|██████████| 50/50 [00:12<00:00,  4.14it/s]\n"
     ]
    },
    {
     "name": "stdout",
     "output_type": "stream",
     "text": [
      "4060\n",
      "0.022603770717978477\n",
      "=========\n"
     ]
    },
    {
     "name": "stderr",
     "output_type": "stream",
     "text": [
      "Epoch 4061/8000: 100%|██████████| 50/50 [00:12<00:00,  4.12it/s]\n",
      "Epoch 4062/8000: 100%|██████████| 50/50 [00:12<00:00,  4.07it/s]\n"
     ]
    },
    {
     "name": "stdout",
     "output_type": "stream",
     "text": [
      "4062\n",
      "0.008565443567931652\n",
      "=========\n"
     ]
    },
    {
     "name": "stderr",
     "output_type": "stream",
     "text": [
      "Epoch 4063/8000: 100%|██████████| 50/50 [00:12<00:00,  4.01it/s]\n",
      "Epoch 4064/8000: 100%|██████████| 50/50 [00:12<00:00,  4.00it/s]\n"
     ]
    },
    {
     "name": "stdout",
     "output_type": "stream",
     "text": [
      "4064\n",
      "0.009659399278461933\n",
      "=========\n"
     ]
    },
    {
     "name": "stderr",
     "output_type": "stream",
     "text": [
      "Epoch 4065/8000: 100%|██████████| 50/50 [00:12<00:00,  3.96it/s]\n",
      "Epoch 4066/8000: 100%|██████████| 50/50 [00:12<00:00,  4.15it/s]\n"
     ]
    },
    {
     "name": "stdout",
     "output_type": "stream",
     "text": [
      "4066\n",
      "0.009622377343475819\n",
      "=========\n"
     ]
    },
    {
     "name": "stderr",
     "output_type": "stream",
     "text": [
      "Epoch 4067/8000: 100%|██████████| 50/50 [00:12<00:00,  4.03it/s]\n",
      "Epoch 4068/8000: 100%|██████████| 50/50 [00:11<00:00,  4.19it/s]\n"
     ]
    },
    {
     "name": "stdout",
     "output_type": "stream",
     "text": [
      "4068\n",
      "0.010571307502686977\n",
      "=========\n"
     ]
    },
    {
     "name": "stderr",
     "output_type": "stream",
     "text": [
      "Epoch 4069/8000: 100%|██████████| 50/50 [00:11<00:00,  4.22it/s]\n",
      "Epoch 4070/8000: 100%|██████████| 50/50 [00:11<00:00,  4.39it/s]\n"
     ]
    },
    {
     "name": "stdout",
     "output_type": "stream",
     "text": [
      "4070\n",
      "0.007596360519528389\n",
      "=========\n"
     ]
    },
    {
     "name": "stderr",
     "output_type": "stream",
     "text": [
      "Epoch 4071/8000: 100%|██████████| 50/50 [00:11<00:00,  4.40it/s]\n",
      "Epoch 4072/8000: 100%|██████████| 50/50 [00:11<00:00,  4.51it/s]\n"
     ]
    },
    {
     "name": "stdout",
     "output_type": "stream",
     "text": [
      "4072\n",
      "0.006510464008897543\n",
      "=========\n"
     ]
    },
    {
     "name": "stderr",
     "output_type": "stream",
     "text": [
      "Epoch 4073/8000: 100%|██████████| 50/50 [00:10<00:00,  4.56it/s]\n",
      "Epoch 4074/8000: 100%|██████████| 50/50 [00:12<00:00,  4.08it/s]\n"
     ]
    },
    {
     "name": "stdout",
     "output_type": "stream",
     "text": [
      "4074\n",
      "0.002766531193628907\n",
      "=========\n"
     ]
    },
    {
     "name": "stderr",
     "output_type": "stream",
     "text": [
      "Epoch 4075/8000:  98%|█████████▊| 49/50 [00:12<00:00,  4.07it/s]\n"
     ]
    },
    {
     "ename": "KeyboardInterrupt",
     "evalue": "",
     "output_type": "error",
     "traceback": [
      "\u001b[0;31m---------------------------------------------------------------------------\u001b[0m",
      "\u001b[0;31mKeyboardInterrupt\u001b[0m                         Traceback (most recent call last)",
      "Cell \u001b[0;32mIn[8], line 1\u001b[0m\n\u001b[0;32m----> 1\u001b[0m \u001b[43mtrain\u001b[49m\u001b[43m(\u001b[49m\u001b[43mGT_path\u001b[49m\u001b[38;5;241;43m=\u001b[39;49m\u001b[38;5;124;43m'\u001b[39;49m\u001b[38;5;124;43m/media/moose/Main Volume/DIV2K_Complete/DIV2K_train\u001b[39;49m\u001b[38;5;124;43m'\u001b[39;49m\u001b[43m,\u001b[49m\u001b[43mLR_path\u001b[49m\u001b[38;5;241;43m=\u001b[39;49m\u001b[38;5;124;43m'\u001b[39;49m\u001b[38;5;124;43m/media/moose/Main Volume/DIV2K_Complete/DIV2K_train_LR_bicubic/X4\u001b[39;49m\u001b[38;5;124;43m'\u001b[39;49m\u001b[43m)\u001b[49m\n",
      "Cell \u001b[0;32mIn[7], line 32\u001b[0m, in \u001b[0;36mtrain\u001b[0;34m(LR_path, GT_path, batch_size, res_num, num_workers, scale, L2_coeff, adv_coeff, tv_loss_coeff, pre_train_epoch, fine_train_epoch, patch_size, feat_layer, vgg_rescale_coeff, in_memory, generator_path, fine_tuning)\u001b[0m\n\u001b[1;32m     29\u001b[0m generator\u001b[38;5;241m.\u001b[39mload_state_dict(torch\u001b[38;5;241m.\u001b[39mload(\u001b[38;5;124m'\u001b[39m\u001b[38;5;124m./minisrgan_weights/pre_trained_model_latest.pt\u001b[39m\u001b[38;5;124m'\u001b[39m))\n\u001b[1;32m     31\u001b[0m \u001b[38;5;28;01mwhile\u001b[39;00m pre_epoch \u001b[38;5;241m<\u001b[39m pre_train_epoch:\n\u001b[0;32m---> 32\u001b[0m \u001b[43m    \u001b[49m\u001b[38;5;28;43;01mfor\u001b[39;49;00m\u001b[43m \u001b[49m\u001b[43mi\u001b[49m\u001b[43m,\u001b[49m\u001b[43m \u001b[49m\u001b[43mtr_data\u001b[49m\u001b[43m \u001b[49m\u001b[38;5;129;43;01min\u001b[39;49;00m\u001b[43m \u001b[49m\u001b[38;5;28;43menumerate\u001b[39;49m\u001b[43m(\u001b[49m\u001b[43mtqdm\u001b[49m\u001b[43m(\u001b[49m\u001b[43mloader\u001b[49m\u001b[43m,\u001b[49m\u001b[43m \u001b[49m\u001b[43mdesc\u001b[49m\u001b[38;5;241;43m=\u001b[39;49m\u001b[38;5;124;43mf\u001b[39;49m\u001b[38;5;124;43m\"\u001b[39;49m\u001b[38;5;124;43mEpoch \u001b[39;49m\u001b[38;5;132;43;01m{\u001b[39;49;00m\u001b[43mpre_epoch\u001b[49m\u001b[38;5;241;43m+\u001b[39;49m\u001b[38;5;241;43m1\u001b[39;49m\u001b[38;5;132;43;01m}\u001b[39;49;00m\u001b[38;5;124;43m/\u001b[39;49m\u001b[38;5;132;43;01m{\u001b[39;49;00m\u001b[43mpre_train_epoch\u001b[49m\u001b[38;5;132;43;01m}\u001b[39;49;00m\u001b[38;5;124;43m\"\u001b[39;49m\u001b[43m)\u001b[49m\u001b[43m)\u001b[49m\u001b[43m:\u001b[49m\n\u001b[1;32m     33\u001b[0m \u001b[43m        \u001b[49m\u001b[43mgt\u001b[49m\u001b[43m \u001b[49m\u001b[38;5;241;43m=\u001b[39;49m\u001b[43m \u001b[49m\u001b[43mtr_data\u001b[49m\u001b[43m[\u001b[49m\u001b[38;5;124;43m'\u001b[39;49m\u001b[38;5;124;43mGT\u001b[39;49m\u001b[38;5;124;43m'\u001b[39;49m\u001b[43m]\u001b[49m\u001b[38;5;241;43m.\u001b[39;49m\u001b[43mto\u001b[49m\u001b[43m(\u001b[49m\u001b[43mdevice\u001b[49m\u001b[43m)\u001b[49m\n\u001b[1;32m     34\u001b[0m \u001b[43m        \u001b[49m\u001b[43mlr\u001b[49m\u001b[43m \u001b[49m\u001b[38;5;241;43m=\u001b[39;49m\u001b[43m \u001b[49m\u001b[43mtr_data\u001b[49m\u001b[43m[\u001b[49m\u001b[38;5;124;43m'\u001b[39;49m\u001b[38;5;124;43mLR\u001b[39;49m\u001b[38;5;124;43m'\u001b[39;49m\u001b[43m]\u001b[49m\u001b[38;5;241;43m.\u001b[39;49m\u001b[43mto\u001b[49m\u001b[43m(\u001b[49m\u001b[43mdevice\u001b[49m\u001b[43m)\u001b[49m\n",
      "File \u001b[0;32m~/miniconda3/envs/torch/lib/python3.11/site-packages/tqdm/std.py:1182\u001b[0m, in \u001b[0;36mtqdm.__iter__\u001b[0;34m(self)\u001b[0m\n\u001b[1;32m   1179\u001b[0m time \u001b[38;5;241m=\u001b[39m \u001b[38;5;28mself\u001b[39m\u001b[38;5;241m.\u001b[39m_time\n\u001b[1;32m   1181\u001b[0m \u001b[38;5;28;01mtry\u001b[39;00m:\n\u001b[0;32m-> 1182\u001b[0m \u001b[43m    \u001b[49m\u001b[38;5;28;43;01mfor\u001b[39;49;00m\u001b[43m \u001b[49m\u001b[43mobj\u001b[49m\u001b[43m \u001b[49m\u001b[38;5;129;43;01min\u001b[39;49;00m\u001b[43m \u001b[49m\u001b[43miterable\u001b[49m\u001b[43m:\u001b[49m\n\u001b[1;32m   1183\u001b[0m \u001b[43m        \u001b[49m\u001b[38;5;28;43;01myield\u001b[39;49;00m\u001b[43m \u001b[49m\u001b[43mobj\u001b[49m\n\u001b[1;32m   1184\u001b[0m \u001b[43m        \u001b[49m\u001b[38;5;66;43;03m# Update and possibly print the progressbar.\u001b[39;49;00m\n\u001b[1;32m   1185\u001b[0m \u001b[43m        \u001b[49m\u001b[38;5;66;43;03m# Note: does not call self.update(1) for speed optimisation.\u001b[39;49;00m\n",
      "File \u001b[0;32m~/miniconda3/envs/torch/lib/python3.11/site-packages/torch/utils/data/dataloader.py:630\u001b[0m, in \u001b[0;36m_BaseDataLoaderIter.__next__\u001b[0;34m(self)\u001b[0m\n\u001b[1;32m    627\u001b[0m \u001b[38;5;28;01mif\u001b[39;00m \u001b[38;5;28mself\u001b[39m\u001b[38;5;241m.\u001b[39m_sampler_iter \u001b[38;5;129;01mis\u001b[39;00m \u001b[38;5;28;01mNone\u001b[39;00m:\n\u001b[1;32m    628\u001b[0m     \u001b[38;5;66;03m# TODO(https://github.com/pytorch/pytorch/issues/76750)\u001b[39;00m\n\u001b[1;32m    629\u001b[0m     \u001b[38;5;28mself\u001b[39m\u001b[38;5;241m.\u001b[39m_reset()  \u001b[38;5;66;03m# type: ignore[call-arg]\u001b[39;00m\n\u001b[0;32m--> 630\u001b[0m data \u001b[38;5;241m=\u001b[39m \u001b[38;5;28;43mself\u001b[39;49m\u001b[38;5;241;43m.\u001b[39;49m\u001b[43m_next_data\u001b[49m\u001b[43m(\u001b[49m\u001b[43m)\u001b[49m\n\u001b[1;32m    631\u001b[0m \u001b[38;5;28mself\u001b[39m\u001b[38;5;241m.\u001b[39m_num_yielded \u001b[38;5;241m+\u001b[39m\u001b[38;5;241m=\u001b[39m \u001b[38;5;241m1\u001b[39m\n\u001b[1;32m    632\u001b[0m \u001b[38;5;28;01mif\u001b[39;00m \u001b[38;5;28mself\u001b[39m\u001b[38;5;241m.\u001b[39m_dataset_kind \u001b[38;5;241m==\u001b[39m _DatasetKind\u001b[38;5;241m.\u001b[39mIterable \u001b[38;5;129;01mand\u001b[39;00m \\\n\u001b[1;32m    633\u001b[0m         \u001b[38;5;28mself\u001b[39m\u001b[38;5;241m.\u001b[39m_IterableDataset_len_called \u001b[38;5;129;01mis\u001b[39;00m \u001b[38;5;129;01mnot\u001b[39;00m \u001b[38;5;28;01mNone\u001b[39;00m \u001b[38;5;129;01mand\u001b[39;00m \\\n\u001b[1;32m    634\u001b[0m         \u001b[38;5;28mself\u001b[39m\u001b[38;5;241m.\u001b[39m_num_yielded \u001b[38;5;241m>\u001b[39m \u001b[38;5;28mself\u001b[39m\u001b[38;5;241m.\u001b[39m_IterableDataset_len_called:\n",
      "File \u001b[0;32m~/miniconda3/envs/torch/lib/python3.11/site-packages/torch/utils/data/dataloader.py:674\u001b[0m, in \u001b[0;36m_SingleProcessDataLoaderIter._next_data\u001b[0;34m(self)\u001b[0m\n\u001b[1;32m    672\u001b[0m \u001b[38;5;28;01mdef\u001b[39;00m \u001b[38;5;21m_next_data\u001b[39m(\u001b[38;5;28mself\u001b[39m):\n\u001b[1;32m    673\u001b[0m     index \u001b[38;5;241m=\u001b[39m \u001b[38;5;28mself\u001b[39m\u001b[38;5;241m.\u001b[39m_next_index()  \u001b[38;5;66;03m# may raise StopIteration\u001b[39;00m\n\u001b[0;32m--> 674\u001b[0m     data \u001b[38;5;241m=\u001b[39m \u001b[38;5;28;43mself\u001b[39;49m\u001b[38;5;241;43m.\u001b[39;49m\u001b[43m_dataset_fetcher\u001b[49m\u001b[38;5;241;43m.\u001b[39;49m\u001b[43mfetch\u001b[49m\u001b[43m(\u001b[49m\u001b[43mindex\u001b[49m\u001b[43m)\u001b[49m  \u001b[38;5;66;03m# may raise StopIteration\u001b[39;00m\n\u001b[1;32m    675\u001b[0m     \u001b[38;5;28;01mif\u001b[39;00m \u001b[38;5;28mself\u001b[39m\u001b[38;5;241m.\u001b[39m_pin_memory:\n\u001b[1;32m    676\u001b[0m         data \u001b[38;5;241m=\u001b[39m _utils\u001b[38;5;241m.\u001b[39mpin_memory\u001b[38;5;241m.\u001b[39mpin_memory(data, \u001b[38;5;28mself\u001b[39m\u001b[38;5;241m.\u001b[39m_pin_memory_device)\n",
      "File \u001b[0;32m~/miniconda3/envs/torch/lib/python3.11/site-packages/torch/utils/data/_utils/fetch.py:51\u001b[0m, in \u001b[0;36m_MapDatasetFetcher.fetch\u001b[0;34m(self, possibly_batched_index)\u001b[0m\n\u001b[1;32m     49\u001b[0m         data \u001b[38;5;241m=\u001b[39m \u001b[38;5;28mself\u001b[39m\u001b[38;5;241m.\u001b[39mdataset\u001b[38;5;241m.\u001b[39m__getitems__(possibly_batched_index)\n\u001b[1;32m     50\u001b[0m     \u001b[38;5;28;01melse\u001b[39;00m:\n\u001b[0;32m---> 51\u001b[0m         data \u001b[38;5;241m=\u001b[39m \u001b[43m[\u001b[49m\u001b[38;5;28;43mself\u001b[39;49m\u001b[38;5;241;43m.\u001b[39;49m\u001b[43mdataset\u001b[49m\u001b[43m[\u001b[49m\u001b[43midx\u001b[49m\u001b[43m]\u001b[49m\u001b[43m \u001b[49m\u001b[38;5;28;43;01mfor\u001b[39;49;00m\u001b[43m \u001b[49m\u001b[43midx\u001b[49m\u001b[43m \u001b[49m\u001b[38;5;129;43;01min\u001b[39;49;00m\u001b[43m \u001b[49m\u001b[43mpossibly_batched_index\u001b[49m\u001b[43m]\u001b[49m\n\u001b[1;32m     52\u001b[0m \u001b[38;5;28;01melse\u001b[39;00m:\n\u001b[1;32m     53\u001b[0m     data \u001b[38;5;241m=\u001b[39m \u001b[38;5;28mself\u001b[39m\u001b[38;5;241m.\u001b[39mdataset[possibly_batched_index]\n",
      "File \u001b[0;32m~/miniconda3/envs/torch/lib/python3.11/site-packages/torch/utils/data/_utils/fetch.py:51\u001b[0m, in \u001b[0;36m<listcomp>\u001b[0;34m(.0)\u001b[0m\n\u001b[1;32m     49\u001b[0m         data \u001b[38;5;241m=\u001b[39m \u001b[38;5;28mself\u001b[39m\u001b[38;5;241m.\u001b[39mdataset\u001b[38;5;241m.\u001b[39m__getitems__(possibly_batched_index)\n\u001b[1;32m     50\u001b[0m     \u001b[38;5;28;01melse\u001b[39;00m:\n\u001b[0;32m---> 51\u001b[0m         data \u001b[38;5;241m=\u001b[39m [\u001b[38;5;28;43mself\u001b[39;49m\u001b[38;5;241;43m.\u001b[39;49m\u001b[43mdataset\u001b[49m\u001b[43m[\u001b[49m\u001b[43midx\u001b[49m\u001b[43m]\u001b[49m \u001b[38;5;28;01mfor\u001b[39;00m idx \u001b[38;5;129;01min\u001b[39;00m possibly_batched_index]\n\u001b[1;32m     52\u001b[0m \u001b[38;5;28;01melse\u001b[39;00m:\n\u001b[1;32m     53\u001b[0m     data \u001b[38;5;241m=\u001b[39m \u001b[38;5;28mself\u001b[39m\u001b[38;5;241m.\u001b[39mdataset[possibly_batched_index]\n",
      "Cell \u001b[0;32mIn[2], line 36\u001b[0m, in \u001b[0;36mmydata.__getitem__\u001b[0;34m(self, i)\u001b[0m\n\u001b[1;32m     33\u001b[0m img_item[\u001b[38;5;124m'\u001b[39m\u001b[38;5;124mLR\u001b[39m\u001b[38;5;124m'\u001b[39m] \u001b[38;5;241m=\u001b[39m (LR \u001b[38;5;241m/\u001b[39m \u001b[38;5;241m127.5\u001b[39m) \u001b[38;5;241m-\u001b[39m \u001b[38;5;241m1.0\u001b[39m\n\u001b[1;32m     35\u001b[0m \u001b[38;5;28;01mif\u001b[39;00m \u001b[38;5;28mself\u001b[39m\u001b[38;5;241m.\u001b[39mtransform \u001b[38;5;129;01mis\u001b[39;00m \u001b[38;5;129;01mnot\u001b[39;00m \u001b[38;5;28;01mNone\u001b[39;00m:\n\u001b[0;32m---> 36\u001b[0m     img_item \u001b[38;5;241m=\u001b[39m \u001b[38;5;28;43mself\u001b[39;49m\u001b[38;5;241;43m.\u001b[39;49m\u001b[43mtransform\u001b[49m\u001b[43m(\u001b[49m\u001b[43mimg_item\u001b[49m\u001b[43m)\u001b[49m\n\u001b[1;32m     38\u001b[0m img_item[\u001b[38;5;124m'\u001b[39m\u001b[38;5;124mGT\u001b[39m\u001b[38;5;124m'\u001b[39m] \u001b[38;5;241m=\u001b[39m img_item[\u001b[38;5;124m'\u001b[39m\u001b[38;5;124mGT\u001b[39m\u001b[38;5;124m'\u001b[39m]\u001b[38;5;241m.\u001b[39mtranspose(\u001b[38;5;241m2\u001b[39m, \u001b[38;5;241m0\u001b[39m, \u001b[38;5;241m1\u001b[39m)\u001b[38;5;241m.\u001b[39mastype(np\u001b[38;5;241m.\u001b[39mfloat32)\n\u001b[1;32m     39\u001b[0m img_item[\u001b[38;5;124m'\u001b[39m\u001b[38;5;124mLR\u001b[39m\u001b[38;5;124m'\u001b[39m] \u001b[38;5;241m=\u001b[39m img_item[\u001b[38;5;124m'\u001b[39m\u001b[38;5;124mLR\u001b[39m\u001b[38;5;124m'\u001b[39m]\u001b[38;5;241m.\u001b[39mtranspose(\u001b[38;5;241m2\u001b[39m, \u001b[38;5;241m0\u001b[39m, \u001b[38;5;241m1\u001b[39m)\u001b[38;5;241m.\u001b[39mastype(np\u001b[38;5;241m.\u001b[39mfloat32)\n",
      "File \u001b[0;32m~/miniconda3/envs/torch/lib/python3.11/site-packages/torchvision/transforms/transforms.py:93\u001b[0m, in \u001b[0;36mCompose.__call__\u001b[0;34m(self, img)\u001b[0m\n\u001b[1;32m     90\u001b[0m         _log_api_usage_once(\u001b[38;5;28mself\u001b[39m)\n\u001b[1;32m     91\u001b[0m     \u001b[38;5;28mself\u001b[39m\u001b[38;5;241m.\u001b[39mtransforms \u001b[38;5;241m=\u001b[39m transforms\n\u001b[0;32m---> 93\u001b[0m \u001b[38;5;28;01mdef\u001b[39;00m \u001b[38;5;21m__call__\u001b[39m(\u001b[38;5;28mself\u001b[39m, img):\n\u001b[1;32m     94\u001b[0m     \u001b[38;5;28;01mfor\u001b[39;00m t \u001b[38;5;129;01min\u001b[39;00m \u001b[38;5;28mself\u001b[39m\u001b[38;5;241m.\u001b[39mtransforms:\n\u001b[1;32m     95\u001b[0m         img \u001b[38;5;241m=\u001b[39m t(img)\n",
      "\u001b[0;31mKeyboardInterrupt\u001b[0m: "
     ]
    }
   ],
   "source": [
    "train(GT_path='/media/moose/Main Volume/DIV2K_Complete/DIV2K_train',LR_path='/media/moose/Main Volume/DIV2K_Complete/DIV2K_train_LR_bicubic/X4')"
   ]
  },
  {
   "cell_type": "code",
   "execution_count": 11,
   "metadata": {},
   "outputs": [],
   "source": [
    "test(GT_path='../../../../Set5/image_SRF_4/HR/', LR_path='../../../../Set5/image_SRF_4/LR/', generator_path='./minisrgan_weights/pre_trained_model_4000.pt')"
   ]
  },
  {
   "cell_type": "code",
   "execution_count": null,
   "metadata": {},
   "outputs": [],
   "source": []
  }
 ],
 "metadata": {
  "kernelspec": {
   "display_name": "torch",
   "language": "python",
   "name": "python3"
  },
  "language_info": {
   "codemirror_mode": {
    "name": "ipython",
    "version": 3
   },
   "file_extension": ".py",
   "mimetype": "text/x-python",
   "name": "python",
   "nbconvert_exporter": "python",
   "pygments_lexer": "ipython3",
   "version": "3.11.5"
  }
 },
 "nbformat": 4,
 "nbformat_minor": 2
}
