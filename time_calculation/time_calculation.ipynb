{
 "cells": [
  {
   "cell_type": "code",
   "execution_count": 1,
   "id": "a588a32e-b9d0-4e04-b237-2d7decbc1a8b",
   "metadata": {},
   "outputs": [],
   "source": [
    "import time\n",
    "import torch\n",
    "from torchvision.models import mobilenet_v3_small\n",
    "from torch import nn\n",
    "import gc\n",
    "import numpy as np\n",
    "from super_image import EdsrModel, ImageLoader\n",
    "\n",
    "device = 'cuda' if torch.cuda.is_available() else 'cpu'\n",
    "\n",
    "import warnings\n",
    "warnings.filterwarnings(\"ignore\")"
   ]
  },
  {
   "cell_type": "code",
   "execution_count": 2,
   "id": "46675bda-24dd-47fb-8301-1aa2bade0cc0",
   "metadata": {},
   "outputs": [],
   "source": [
    "def calculate_time(model, ip, batch, cuda):\n",
    "    if cuda:\n",
    "        model = model.to('cuda')\n",
    "        ip = ip.to('cuda')\n",
    "        print(f'Using cuda\\n')\n",
    "\n",
    "    # Avoiding init time\n",
    "    '''\n",
    "    We run some dummy examples through the network to do a ‘GPU warm-up.’ \n",
    "    This will automatically initialize the GPU and prevent it from going into power-saving mode \n",
    "    when we measure time. (https://deci.ai/blog/measure-inference-time-deep-neural-networks/)\n",
    "    '''\n",
    "    \n",
    "    with torch.inference_mode():\n",
    "        _ = model(ip)  # GPU WARMUP\n",
    "    \n",
    "    # Use AMP for mixed precision inference\n",
    "    scaler = torch.cuda.amp.autocast(enabled=cuda)\n",
    "    \n",
    "    with torch.inference_mode(), scaler:\n",
    "        start_time = time.perf_counter()\n",
    "        with torch.cuda.amp.autocast(enabled=cuda):\n",
    "            _ = model(ip * 5)  # Multiplied by 5 to make sure old results aren't cached and just returned\n",
    "        if cuda:\n",
    "            torch.cuda.synchronize()\n",
    "        end_time = time.perf_counter()\n",
    "    \n",
    "    duration = end_time - start_time\n",
    "    \n",
    "    # Print the duration in seconds\n",
    "    print(f\"Duration: {duration} seconds\\nFPS: {batch / duration:.0f}\")\n",
    "\n",
    "    del ip\n",
    "    del model\n",
    "    del _\n",
    "    gc.collect()\n",
    "    if cuda:\n",
    "        torch.cuda.empty_cache()\n"
   ]
  },
  {
   "cell_type": "markdown",
   "id": "ab8611d6",
   "metadata": {},
   "source": [
    "### MobileSR"
   ]
  },
  {
   "cell_type": "code",
   "execution_count": 3,
   "id": "b9a1c17f-c341-4f92-ba56-f51fadc174cc",
   "metadata": {},
   "outputs": [],
   "source": [
    "def build_generator():\n",
    "    \n",
    "    class ResidualBlock(nn.Module):\n",
    "        def __init__(self, in_channels, out_channels, expansion=6, stride=1, alpha=1.0):\n",
    "            super(ResidualBlock, self).__init__()\n",
    "            self.expansion = expansion\n",
    "            self.stride = stride\n",
    "            self.in_channels = in_channels\n",
    "            self.out_channels = int(out_channels * alpha)\n",
    "            self.pointwise_conv_filters = self._make_divisible(self.out_channels, 8)\n",
    "            self.conv1 = nn.Conv2d(in_channels, in_channels * expansion, kernel_size=1, stride=1, padding=0, bias=True)\n",
    "            self.bn1 = nn.BatchNorm2d(in_channels * expansion)\n",
    "            self.conv2 = nn.Conv2d(in_channels * expansion, in_channels * expansion, kernel_size=3, stride=stride, padding=1, groups=in_channels * expansion, bias=True)\n",
    "            self.bn2 = nn.BatchNorm2d(in_channels * expansion)\n",
    "            self.conv3 = nn.Conv2d(in_channels * expansion, self.pointwise_conv_filters, kernel_size=1, stride=1, padding=0, bias=True)\n",
    "            self.bn3 = nn.BatchNorm2d(self.pointwise_conv_filters)\n",
    "            self.relu = nn.ReLU(inplace=True)\n",
    "            self.skip_add = (stride == 1 and in_channels == self.pointwise_conv_filters)\n",
    "\n",
    "        def forward(self, x):\n",
    "            identity = x\n",
    "\n",
    "            out = self.conv1(x)\n",
    "            out = self.bn1(out)\n",
    "            out = self.relu(out)\n",
    "\n",
    "            out = self.conv2(out)\n",
    "            out = self.bn2(out)\n",
    "            out = self.relu(out)\n",
    "\n",
    "            out = self.conv3(out)\n",
    "            out = self.bn3(out)\n",
    "\n",
    "            if self.skip_add:\n",
    "                out = out + identity\n",
    "\n",
    "            return out\n",
    "\n",
    "        @staticmethod\n",
    "        def _make_divisible(v, divisor, min_value=None):\n",
    "            if min_value is None:\n",
    "                min_value = divisor\n",
    "            new_v = max(min_value, int(v + divisor / 2) // divisor * divisor)\n",
    "            if new_v < 0.9 * v:\n",
    "                new_v += divisor\n",
    "            return new_v\n",
    "\n",
    "    class Generator(nn.Module):\n",
    "        def __init__(self, in_channels, num_residual_blocks, gf):\n",
    "            super(Generator, self).__init__()\n",
    "            self.num_residual_blocks = num_residual_blocks\n",
    "            self.gf = gf\n",
    "\n",
    "            self.conv1 = nn.Conv2d(in_channels, gf, kernel_size=3, stride=1, padding=1)\n",
    "            self.bn1 = nn.BatchNorm2d(gf)\n",
    "            self.prelu1 = nn.PReLU()\n",
    "\n",
    "            self.residual_blocks = self.make_layer(ResidualBlock, gf, num_residual_blocks)\n",
    "\n",
    "            self.conv2 = nn.Conv2d(gf, gf, kernel_size=3, stride=1, padding=1)\n",
    "            self.bn2 = nn.BatchNorm2d(gf)\n",
    "\n",
    "            self.upsample1 = nn.Sequential(\n",
    "                nn.Upsample(scale_factor=2, mode='bilinear', align_corners=True),\n",
    "                nn.Conv2d(gf, gf, kernel_size=3, stride=1, padding=1),\n",
    "                nn.PReLU()\n",
    "            )\n",
    "\n",
    "            self.upsample2 = nn.Sequential(\n",
    "                nn.Upsample(scale_factor=2, mode='bilinear', align_corners=True),\n",
    "                nn.Conv2d(gf, gf, kernel_size=3, stride=1, padding=1),\n",
    "                nn.PReLU()\n",
    "            )\n",
    "\n",
    "            self.conv3 = nn.Conv2d(gf, 3, kernel_size=3, stride=1, padding=1)\n",
    "            self.tanh = nn.Tanh()\n",
    "\n",
    "        def make_layer(self, block, out_channels, blocks):\n",
    "            layers = []\n",
    "            for _ in range(blocks):\n",
    "                layers.append(block(out_channels, out_channels))\n",
    "            return nn.Sequential(*layers)\n",
    "\n",
    "        def forward(self, x):\n",
    "            out1 = self.prelu1(self.bn1(self.conv1(x)))\n",
    "            out = self.residual_blocks(out1)\n",
    "            out = self.bn2(self.conv2(out))\n",
    "            out = out + out1\n",
    "            out = self.upsample1(out)\n",
    "            out = self.upsample2(out)\n",
    "            out = self.tanh(self.conv3(out))\n",
    "            return out\n",
    "\n",
    "    return Generator(3, 6, 32)\n",
    "\n"
   ]
  },
  {
   "cell_type": "markdown",
   "id": "236028b2",
   "metadata": {},
   "source": [
    "### MiniSRGAN"
   ]
  },
  {
   "cell_type": "code",
   "execution_count": 4,
   "id": "1cfc2d36",
   "metadata": {},
   "outputs": [],
   "source": [
    "class _conv(nn.Conv2d):\n",
    "    def __init__(self, in_channels, out_channels, kernel_size, stride, padding, bias):\n",
    "        super(_conv, self).__init__(in_channels = in_channels, out_channels = out_channels, \n",
    "                               kernel_size = kernel_size, stride = stride, padding = (kernel_size) // 2, bias = True)\n",
    "        \n",
    "        self.weight.data = torch.normal(torch.zeros((out_channels, in_channels, kernel_size, kernel_size)), 0.02)\n",
    "        self.bias.data = torch.zeros((out_channels))\n",
    "        \n",
    "        for p in self.parameters():\n",
    "            p.requires_grad = True\n",
    "        \n",
    "\n",
    "class conv(nn.Module):\n",
    "    def __init__(self, in_channel, out_channel, kernel_size, BN = False, act = None, stride = 1, bias = True):\n",
    "        super(conv, self).__init__()\n",
    "        m = []\n",
    "        m.append(_conv(in_channels = in_channel, out_channels = out_channel, \n",
    "                               kernel_size = kernel_size, stride = stride, padding = (kernel_size) // 2, bias = True))\n",
    "        \n",
    "        if BN:\n",
    "            m.append(nn.BatchNorm2d(num_features = out_channel))\n",
    "        \n",
    "        if act is not None:\n",
    "            m.append(act)\n",
    "        \n",
    "        self.body = nn.Sequential(*m)\n",
    "        \n",
    "    def forward(self, x):\n",
    "        out = self.body(x)\n",
    "        return out\n",
    "        \n",
    "class ResBlock(nn.Module):\n",
    "    def __init__(self, channels, kernel_size, act = nn.ReLU(inplace = True), bias = True):\n",
    "        super(ResBlock, self).__init__()\n",
    "        m = []\n",
    "        m.append(conv(channels, channels, kernel_size, BN = True, act = act))\n",
    "        m.append(conv(channels, channels, kernel_size, BN = True, act = None))\n",
    "        self.body = nn.Sequential(*m)\n",
    "        \n",
    "    def forward(self, x):\n",
    "        res = self.body(x)\n",
    "        res += x\n",
    "        return res\n",
    "    \n",
    "class BasicBlock(nn.Module):\n",
    "    def __init__(self, in_channels, out_channels, kernel_size, num_res_block, act = nn.ReLU(inplace = True)):\n",
    "        super(BasicBlock, self).__init__()\n",
    "        m = []\n",
    "        \n",
    "        self.conv = conv(in_channels, out_channels, kernel_size, BN = False, act = act)\n",
    "        for i in range(num_res_block):\n",
    "            m.append(ResBlock(out_channels, kernel_size, act))\n",
    "        \n",
    "        m.append(conv(out_channels, out_channels, kernel_size, BN = True, act = None))\n",
    "        \n",
    "        self.body = nn.Sequential(*m)\n",
    "        \n",
    "    def forward(self, x):\n",
    "        res = self.conv(x)\n",
    "        out = self.body(res)\n",
    "        out += res\n",
    "        \n",
    "        return out\n",
    "        \n",
    "class Upsampler(nn.Module):\n",
    "    def __init__(self, channel, kernel_size, scale, act = nn.ReLU(inplace = True)):\n",
    "        super(Upsampler, self).__init__()\n",
    "        m = []\n",
    "        m.append(conv(channel, channel * scale * scale, kernel_size))\n",
    "        m.append(nn.PixelShuffle(scale))\n",
    "    \n",
    "        if act is not None:\n",
    "            m.append(act)\n",
    "        \n",
    "        self.body = nn.Sequential(*m)\n",
    "    \n",
    "    def forward(self, x):\n",
    "        out = self.body(x)\n",
    "        return out\n",
    "\n",
    "class discrim_block(nn.Module):\n",
    "    def __init__(self, in_feats, out_feats, kernel_size, act = nn.LeakyReLU(inplace = True)):\n",
    "        super(discrim_block, self).__init__()\n",
    "        m = []\n",
    "        m.append(conv(in_feats, out_feats, kernel_size, BN = True, act = act))\n",
    "        m.append(conv(out_feats, out_feats, kernel_size, BN = True, act = act, stride = 2))\n",
    "        self.body = nn.Sequential(*m)\n",
    "        \n",
    "    def forward(self, x):\n",
    "        out = self.body(x)\n",
    "        return out\n",
    "\n",
    "class Generator(nn.Module):\n",
    "    \n",
    "    def __init__(self, img_feat = 3, n_feats = 64, kernel_size = 3, num_block = 8, act = nn.PReLU(), scale=4):\n",
    "        super(Generator, self).__init__()\n",
    "        \n",
    "        self.conv01 = conv(in_channel = img_feat, out_channel = n_feats, kernel_size = 9, BN = False, act = act)\n",
    "        \n",
    "        resblocks = [ResBlock(channels = n_feats, kernel_size = 3, act = act) for _ in range(num_block)]\n",
    "        self.body = nn.Sequential(*resblocks)\n",
    "        \n",
    "        self.conv02 = conv(in_channel = n_feats, out_channel = n_feats, kernel_size = 3, BN = True, act = None)\n",
    "        \n",
    "        if(scale == 4):\n",
    "            upsample_blocks = [Upsampler(channel = n_feats, kernel_size = 3, scale = 2, act = act) for _ in range(2)]\n",
    "        else:\n",
    "            upsample_blocks = [Upsampler(channel = n_feats, kernel_size = 3, scale = scale, act = act)]\n",
    "\n",
    "        self.tail = nn.Sequential(*upsample_blocks)\n",
    "        \n",
    "        self.last_conv = conv(in_channel = n_feats, out_channel = img_feat, kernel_size = 3, BN = False, act = nn.Tanh())\n",
    "        \n",
    "    def forward(self, x):\n",
    "        \n",
    "        x = self.conv01(x)\n",
    "        _skip_connection = x\n",
    "        \n",
    "        x = self.body(x)\n",
    "        x = self.conv02(x)\n",
    "        feat = x + _skip_connection\n",
    "        \n",
    "        x = self.tail(feat)\n",
    "        x = self.last_conv(x)\n",
    "        \n",
    "        return x, feat\n"
   ]
  },
  {
   "cell_type": "code",
   "execution_count": 5,
   "id": "28c576f2-1a06-4cf6-a5b6-ec8b963c7d3f",
   "metadata": {},
   "outputs": [],
   "source": [
    "model_d=mobilenet_v3_small()\n",
    "model_d.classifier[3]=nn.Linear(in_features=1024,out_features=2,bias=True)\n"
   ]
  },
  {
   "cell_type": "markdown",
   "id": "7cb841fd-f2d5-423a-987f-174a01c20656",
   "metadata": {},
   "source": [
    "#### Detection - method 1 (direct)"
   ]
  },
  {
   "cell_type": "code",
   "execution_count": 6,
   "id": "3834f986-6462-47a4-854f-19b5914935d2",
   "metadata": {},
   "outputs": [
    {
     "name": "stdout",
     "output_type": "stream",
     "text": [
      "Using cuda\n",
      "\n",
      "Duration: 0.28391041200029576 seconds\n",
      "FPS: 3522\n"
     ]
    }
   ],
   "source": [
    "model_d.load_state_dict(torch.load('../weights/method1(0.668).pt'))\n",
    "calculate_time(model_d,torch.rand((1000,3,224,224)),1000,True)"
   ]
  },
  {
   "cell_type": "markdown",
   "id": "00708db1-3859-4c49-ab4d-b1aa6b4a7e54",
   "metadata": {},
   "source": [
    "#### Detection - method 2 (edge detection)"
   ]
  },
  {
   "cell_type": "code",
   "execution_count": 7,
   "id": "5c2dfe91-9d74-493e-8aa4-98064edcc052",
   "metadata": {},
   "outputs": [
    {
     "name": "stdout",
     "output_type": "stream",
     "text": [
      "Using cuda\n",
      "\n",
      "Duration: 0.2852869200000896 seconds\n",
      "FPS: 3505\n"
     ]
    }
   ],
   "source": [
    "model_d.load_state_dict(torch.load('../weights/method2(0.960).pt'))\n",
    "calculate_time(model_d,torch.rand((1000,3,224,224)),1000,True)"
   ]
  },
  {
   "cell_type": "markdown",
   "id": "9c32dcd8-822e-44ea-9e65-48b65c67d97f",
   "metadata": {},
   "source": [
    "#### Generator (MobileSR)"
   ]
  },
  {
   "cell_type": "code",
   "execution_count": 8,
   "id": "5c86c26b-22e5-46ae-a612-68ce5ef660bc",
   "metadata": {},
   "outputs": [
    {
     "name": "stdout",
     "output_type": "stream",
     "text": [
      "Using cuda\n",
      "\n",
      "Duration: 0.1696143630001643 seconds\n",
      "FPS: 29\n"
     ]
    }
   ],
   "source": [
    "model_g = build_generator()\n",
    "model_g.load_state_dict(torch.load('../weights/mobile_sr.pt'))\n",
    "calculate_time(model_g,torch.rand((5,3,480,270)),5,True)\n",
    "\n",
    "del model_g"
   ]
  },
  {
   "cell_type": "markdown",
   "id": "8ba847a2",
   "metadata": {},
   "source": [
    "#### Generator (EDSR)"
   ]
  },
  {
   "cell_type": "code",
   "execution_count": 5,
   "id": "aedfcbf5",
   "metadata": {},
   "outputs": [
    {
     "name": "stdout",
     "output_type": "stream",
     "text": [
      "https://huggingface.co/eugenesiow/edsr-base/resolve/main/pytorch_model_4x.pt\n",
      "Using cuda\n",
      "\n",
      "Duration: 0.3104150280000795 seconds\n",
      "FPS: 16\n"
     ]
    }
   ],
   "source": [
    "model_g = EdsrModel.from_pretrained('eugenesiow/edsr-base', scale=4) \n",
    "calculate_time(model_g,torch.rand((5,3,270,480)),5,True)\n",
    "\n",
    "del model_g"
   ]
  },
  {
   "cell_type": "markdown",
   "id": "17e3f6b7",
   "metadata": {},
   "source": [
    "#### Generator (MiniSRGAN)"
   ]
  },
  {
   "cell_type": "code",
   "execution_count": 5,
   "id": "93416f4f",
   "metadata": {},
   "outputs": [
    {
     "name": "stdout",
     "output_type": "stream",
     "text": [
      "Using cuda\n",
      "\n",
      "Duration: 0.19155518299976393 seconds\n",
      "FPS: 21\n"
     ]
    }
   ],
   "source": [
    "model_g = Generator()\n",
    "model_g.load_state_dict(torch.load('../weights/miniSRGAN.pt'))\n",
    "calculate_time(model_g,torch.rand((4,3,480,270)),4,True)\n",
    "\n",
    "del model_g"
   ]
  }
 ],
 "metadata": {
  "kernelspec": {
   "display_name": "Python 3 (ipykernel)",
   "language": "python",
   "name": "python3"
  },
  "language_info": {
   "codemirror_mode": {
    "name": "ipython",
    "version": 3
   },
   "file_extension": ".py",
   "mimetype": "text/x-python",
   "name": "python",
   "nbconvert_exporter": "python",
   "pygments_lexer": "ipython3",
   "version": "3.11.5"
  }
 },
 "nbformat": 4,
 "nbformat_minor": 5
}
