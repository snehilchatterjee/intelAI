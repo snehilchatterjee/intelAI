{
 "cells": [
  {
   "cell_type": "code",
   "execution_count": 1,
   "metadata": {},
   "outputs": [
    {
     "name": "stdout",
     "output_type": "stream",
     "text": [
      "Using: cuda\n"
     ]
    }
   ],
   "source": [
    "import gradio as gr\n",
    "import torch\n",
    "from torchvision import transforms\n",
    "from PIL import Image\n",
    "import numpy as np\n",
    "from torch import nn\n",
    "\n",
    "from skimage.color import rgb2ycbcr\n",
    "from skimage.metrics import peak_signal_noise_ratio\n",
    "\n",
    "import cv2\n",
    "import numpy as np\n",
    "\n",
    "from skimage.metrics import structural_similarity as ssim\n",
    "\n",
    "import lpips\n",
    "import os\n",
    "\n",
    "\n",
    "device='cuda' if torch.cuda.is_available() else 'cpu'\n",
    "print(f'Using: {device}')\n",
    "\n",
    "import warnings\n",
    "\n",
    "warnings.filterwarnings(\"ignore\")"
   ]
  },
  {
   "cell_type": "code",
   "execution_count": 2,
   "metadata": {},
   "outputs": [],
   "source": [
    "def calculate_psnr(gt, sr):\n",
    "    scale=4\n",
    "    \n",
    "    y_output = rgb2ycbcr(sr)[:, :, 0] # https://in.mathworks.com/help/vision/ref/psnr.html\n",
    "    y_gt = rgb2ycbcr(gt)[:, :, 0]\n",
    "    \n",
    "    y_output = y_output[scale:-scale, scale:-scale]\n",
    "    y_gt = y_gt[scale:-scale, scale:-scale]\n",
    "    \n",
    "    \n",
    "    # Normalize to range [0, 1]\n",
    "    y_output_norm = y_output / 255.0\n",
    "    y_gt_norm = y_gt / 255.0\n",
    "    \n",
    "    \n",
    "    # Calculate PSNR\n",
    "    psnr_value = peak_signal_noise_ratio(y_output_norm, y_gt_norm, data_range=1.0)\n",
    "    \n",
    "    return psnr_value\n",
    "\n",
    "def calculate_ssim(img1, img2):\n",
    "    # Convert images to grayscale (if needed)\n",
    "    img1_gray = cv2.cvtColor(img1, cv2.COLOR_BGR2GRAY)\n",
    "    img2_gray = cv2.cvtColor(img2, cv2.COLOR_BGR2GRAY)\n",
    "    \n",
    "    # Compute SSIM\n",
    "    ssim_value, _ = ssim(img1_gray, img2_gray, full=True)\n",
    "    \n",
    "    return ssim_value\n",
    "\n",
    "def calculate_lpips(img1, img2):\n",
    "    # Create the LPIPS metric\n",
    "    loss_fn = lpips.LPIPS(net='alex', verbose=False)\n",
    "    \n",
    "    # Convert images to PyTorch tensors\n",
    "    img1_tensor = lpips.im2tensor(img1)\n",
    "    img2_tensor = lpips.im2tensor(img2)\n",
    "    \n",
    "    # Calculate LPIPS distance\n",
    "    lpips_value = loss_fn(img1_tensor, img2_tensor)\n",
    "    \n",
    "    return lpips_value.item()\n",
    "\n",
    "def compare_metrics(hr_img, comp_img):\n",
    "    # Calculate metrics for HR vs SR\n",
    "    psnr_hr_sr = calculate_psnr(hr_img, comp_img)\n",
    "    ssim_hr_sr = calculate_ssim(hr_img, comp_img)\n",
    "    lpips_hr_sr = calculate_lpips(hr_img, comp_img)\n",
    "    \n",
    "    return psnr_hr_sr, ssim_hr_sr, lpips_hr_sr\n",
    "    "
   ]
  },
  {
   "cell_type": "code",
   "execution_count": 3,
   "metadata": {},
   "outputs": [],
   "source": [
    "def obtainMetrics(ground_truth, to_compare):\n",
    "    images = os.listdir(ground_truth)\n",
    "    psnr_avg = 0\n",
    "    ssim_avg = 0\n",
    "    lpips_avg = 0\n",
    "    for image_name in images:\n",
    "        hr_image_path = os.path.join(ground_truth, image_name)\n",
    "        hr_image = cv2.imread(hr_image_path)\n",
    "        comp_image_path = os.path.join(to_compare, image_name)\n",
    "        comp_image = cv2.imread(comp_image_path)\n",
    "\n",
    "        if hr_image.shape != comp_image.shape:\n",
    "            comp_image = cv2.resize(comp_image, (hr_image.shape[1], hr_image.shape[0]))\n",
    "        \n",
    "        psnr, ssim, lpips = compare_metrics(hr_image, comp_image)\n",
    "        psnr_avg += psnr\n",
    "        ssim_avg += ssim\n",
    "        lpips_avg += lpips\n",
    "        \n",
    "    psnr_avg /= len(images)\n",
    "    ssim_avg /= len(images)\n",
    "    lpips_avg /= len(images)\n",
    "    \n",
    "    print(f'Average PSNR: {psnr_avg}')\n",
    "    print(f'Average SSIM: {ssim_avg}')\n",
    "    print(f'Average LPIPS: {lpips_avg}')\n",
    "\n",
    "# Example usage:\n",
    "# obtainMetrics('path_to_ground_truth_images', 'path_to_comparison_images')\n"
   ]
  },
  {
   "cell_type": "code",
   "execution_count": 4,
   "metadata": {},
   "outputs": [
    {
     "name": "stdout",
     "output_type": "stream",
     "text": [
      "Average PSNR: 27.761990236973322\n",
      "Average SSIM: 0.7805871299957905\n",
      "Average LPIPS: 0.3657795786857605\n"
     ]
    }
   ],
   "source": [
    "obtainMetrics('./Set5/image_SRF_4/HR','./Set5/image_SRF_4/LR')"
   ]
  },
  {
   "cell_type": "code",
   "execution_count": 5,
   "metadata": {},
   "outputs": [
    {
     "name": "stdout",
     "output_type": "stream",
     "text": [
      "Average PSNR: 27.17431224843056\n",
      "Average SSIM: 0.7650014058192347\n",
      "Average LPIPS: 0.20001975297927857\n"
     ]
    }
   ],
   "source": [
    "obtainMetrics('./Set5/image_SRF_4/HR','./super_resolved_Set5_images_mobileSR/')"
   ]
  },
  {
   "cell_type": "code",
   "execution_count": 6,
   "metadata": {},
   "outputs": [
    {
     "name": "stdout",
     "output_type": "stream",
     "text": [
      "Average PSNR: 30.134289434797903\n",
      "Average SSIM: 0.8339584226734275\n",
      "Average LPIPS: 0.12637634128332137\n"
     ]
    }
   ],
   "source": [
    "obtainMetrics('./Set5/image_SRF_4/HR','./super_resolved_Set5_images_miniSRGAN')"
   ]
  },
  {
   "cell_type": "code",
   "execution_count": 7,
   "metadata": {},
   "outputs": [
    {
     "name": "stdout",
     "output_type": "stream",
     "text": [
      "Average PSNR: 31.75703788461028\n",
      "Average SSIM: 0.8829294093304441\n",
      "Average LPIPS: 0.1928333267569542\n"
     ]
    }
   ],
   "source": [
    "obtainMetrics('./Set5/image_SRF_4/HR','./super_resolved_Set5_images_miniSRResNET')"
   ]
  },
  {
   "cell_type": "code",
   "execution_count": 8,
   "metadata": {},
   "outputs": [
    {
     "name": "stdout",
     "output_type": "stream",
     "text": [
      "Average PSNR: 31.778091546013663\n",
      "Average SSIM: 0.8895294533114282\n",
      "Average LPIPS: 0.1922380581498146\n"
     ]
    }
   ],
   "source": [
    "obtainMetrics('./Set5/image_SRF_4/HR','./super_resolved_Set5_images_EDSR')"
   ]
  },
  {
   "cell_type": "code",
   "execution_count": 9,
   "metadata": {},
   "outputs": [
    {
     "name": "stdout",
     "output_type": "stream",
     "text": [
      "Average PSNR: 30.52252834228102\n",
      "Average SSIM: 0.8548452295310783\n",
      "Average LPIPS: 0.2013215869665146\n"
     ]
    }
   ],
   "source": [
    "obtainMetrics('./Set5/image_SRF_4/HR','./super_resolved_Set5_images_FSRCNN')"
   ]
  }
 ],
 "metadata": {
  "kernelspec": {
   "display_name": "torch",
   "language": "python",
   "name": "python3"
  },
  "language_info": {
   "codemirror_mode": {
    "name": "ipython",
    "version": 3
   },
   "file_extension": ".py",
   "mimetype": "text/x-python",
   "name": "python",
   "nbconvert_exporter": "python",
   "pygments_lexer": "ipython3",
   "version": "3.11.5"
  }
 },
 "nbformat": 4,
 "nbformat_minor": 2
}
