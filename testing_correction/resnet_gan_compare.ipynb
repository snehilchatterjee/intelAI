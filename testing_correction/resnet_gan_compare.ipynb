{
 "cells": [
  {
   "cell_type": "code",
   "execution_count": 1,
   "metadata": {},
   "outputs": [
    {
     "name": "stdout",
     "output_type": "stream",
     "text": [
      "Using: cuda\n"
     ]
    }
   ],
   "source": [
    "import torch\n",
    "import torch.nn as nn\n",
    "import torch.optim as optim\n",
    "from torch.utils.data import DataLoader\n",
    "from torchvision import transforms\n",
    "import numpy as np\n",
    "from PIL import Image\n",
    "from skimage.color import rgb2ycbcr\n",
    "from skimage.metrics import peak_signal_noise_ratio\n",
    "from tqdm import tqdm\n",
    "import os\n",
    "\n",
    "device='cuda' if torch.cuda.is_available() else 'cpu'\n",
    "print(f'Using: {device}')\n",
    "\n",
    "import warnings\n",
    "warnings.filterwarnings(\"ignore\")"
   ]
  },
  {
   "cell_type": "code",
   "execution_count": 2,
   "metadata": {},
   "outputs": [],
   "source": [
    "class _conv(nn.Conv2d):\n",
    "    def __init__(self, in_channels, out_channels, kernel_size, stride, padding, bias):\n",
    "        super(_conv, self).__init__(in_channels = in_channels, out_channels = out_channels, \n",
    "                               kernel_size = kernel_size, stride = stride, padding = (kernel_size) // 2, bias = True)\n",
    "        \n",
    "        self.weight.data = torch.normal(torch.zeros((out_channels, in_channels, kernel_size, kernel_size)), 0.02)\n",
    "        self.bias.data = torch.zeros((out_channels))\n",
    "        \n",
    "        for p in self.parameters():\n",
    "            p.requires_grad = True\n",
    "        \n",
    "\n",
    "class conv(nn.Module):\n",
    "    def __init__(self, in_channel, out_channel, kernel_size, BN = False, act = None, stride = 1, bias = True):\n",
    "        super(conv, self).__init__()\n",
    "        m = []\n",
    "        m.append(_conv(in_channels = in_channel, out_channels = out_channel, \n",
    "                               kernel_size = kernel_size, stride = stride, padding = (kernel_size) // 2, bias = True))\n",
    "        \n",
    "        if BN:\n",
    "            m.append(nn.BatchNorm2d(num_features = out_channel))\n",
    "        \n",
    "        if act is not None:\n",
    "            m.append(act)\n",
    "        \n",
    "        self.body = nn.Sequential(*m)\n",
    "        \n",
    "    def forward(self, x):\n",
    "        out = self.body(x)\n",
    "        return out\n",
    "        \n",
    "class ResBlock(nn.Module):\n",
    "    def __init__(self, channels, kernel_size, act = nn.ReLU(inplace = True), bias = True):\n",
    "        super(ResBlock, self).__init__()\n",
    "        m = []\n",
    "        m.append(conv(channels, channels, kernel_size, BN = True, act = act))\n",
    "        m.append(conv(channels, channels, kernel_size, BN = True, act = None))\n",
    "        self.body = nn.Sequential(*m)\n",
    "        \n",
    "    def forward(self, x):\n",
    "        res = self.body(x)\n",
    "        res += x\n",
    "        return res\n",
    "    \n",
    "class BasicBlock(nn.Module):\n",
    "    def __init__(self, in_channels, out_channels, kernel_size, num_res_block, act = nn.ReLU(inplace = True)):\n",
    "        super(BasicBlock, self).__init__()\n",
    "        m = []\n",
    "        \n",
    "        self.conv = conv(in_channels, out_channels, kernel_size, BN = False, act = act)\n",
    "        for i in range(num_res_block):\n",
    "            m.append(ResBlock(out_channels, kernel_size, act))\n",
    "        \n",
    "        m.append(conv(out_channels, out_channels, kernel_size, BN = True, act = None))\n",
    "        \n",
    "        self.body = nn.Sequential(*m)\n",
    "        \n",
    "    def forward(self, x):\n",
    "        res = self.conv(x)\n",
    "        out = self.body(res)\n",
    "        out += res\n",
    "        \n",
    "        return out\n",
    "        \n",
    "class Upsampler(nn.Module):\n",
    "    def __init__(self, channel, kernel_size, scale, act = nn.ReLU(inplace = True)):\n",
    "        super(Upsampler, self).__init__()\n",
    "        m = []\n",
    "        m.append(conv(channel, channel * scale * scale, kernel_size))\n",
    "        m.append(nn.PixelShuffle(scale))\n",
    "    \n",
    "        if act is not None:\n",
    "            m.append(act)\n",
    "        \n",
    "        self.body = nn.Sequential(*m)\n",
    "    \n",
    "    def forward(self, x):\n",
    "        out = self.body(x)\n",
    "        return out\n",
    "\n",
    "class discrim_block(nn.Module):\n",
    "    def __init__(self, in_feats, out_feats, kernel_size, act = nn.LeakyReLU(inplace = True)):\n",
    "        super(discrim_block, self).__init__()\n",
    "        m = []\n",
    "        m.append(conv(in_feats, out_feats, kernel_size, BN = True, act = act))\n",
    "        m.append(conv(out_feats, out_feats, kernel_size, BN = True, act = act, stride = 2))\n",
    "        self.body = nn.Sequential(*m)\n",
    "        \n",
    "    def forward(self, x):\n",
    "        out = self.body(x)\n",
    "        return out\n",
    "\n",
    "class MiniSRGAN(nn.Module):\n",
    "    \n",
    "    def __init__(self, img_feat = 3, n_feats = 64, kernel_size = 3, num_block = 8, act = nn.PReLU(), scale=4):\n",
    "        super(MiniSRGAN, self).__init__()\n",
    "        \n",
    "        self.conv01 = conv(in_channel = img_feat, out_channel = n_feats, kernel_size = 9, BN = False, act = act)\n",
    "        \n",
    "        resblocks = [ResBlock(channels = n_feats, kernel_size = 3, act = act) for _ in range(num_block)]\n",
    "        self.body = nn.Sequential(*resblocks)\n",
    "        \n",
    "        self.conv02 = conv(in_channel = n_feats, out_channel = n_feats, kernel_size = 3, BN = True, act = None)\n",
    "        \n",
    "        if(scale == 4):\n",
    "            upsample_blocks = [Upsampler(channel = n_feats, kernel_size = 3, scale = 2, act = act) for _ in range(2)]\n",
    "        else:\n",
    "            upsample_blocks = [Upsampler(channel = n_feats, kernel_size = 3, scale = scale, act = act)]\n",
    "\n",
    "        self.tail = nn.Sequential(*upsample_blocks)\n",
    "        \n",
    "        self.last_conv = conv(in_channel = n_feats, out_channel = img_feat, kernel_size = 3, BN = False, act = nn.Tanh())\n",
    "        \n",
    "    def forward(self, x):\n",
    "        \n",
    "        x = self.conv01(x)\n",
    "        _skip_connection = x\n",
    "        \n",
    "        x = self.body(x)\n",
    "        x = self.conv02(x)\n",
    "        feat = x + _skip_connection\n",
    "        \n",
    "        x = self.tail(feat)\n",
    "        x = self.last_conv(x)\n",
    "        \n",
    "        return x, feat\n",
    "\n"
   ]
  },
  {
   "cell_type": "code",
   "execution_count": 3,
   "metadata": {},
   "outputs": [
    {
     "data": {
      "text/plain": [
       "<All keys matched successfully>"
      ]
     },
     "execution_count": 3,
     "metadata": {},
     "output_type": "execute_result"
    }
   ],
   "source": [
    "model1=MiniSRGAN().to(device)\n",
    "model1.load_state_dict(torch.load('../weights/miniSRResNET.pt', map_location=device))"
   ]
  },
  {
   "cell_type": "code",
   "execution_count": 4,
   "metadata": {},
   "outputs": [],
   "source": [
    "\n",
    "class mydata(torch.utils.data.Dataset):\n",
    "    def __init__(self, LR_path, GT_path, in_memory = True, transform = None):\n",
    "        \n",
    "        self.LR_path = LR_path\n",
    "        self.GT_path = GT_path\n",
    "        self.in_memory = in_memory\n",
    "        self.transform = transform\n",
    "        \n",
    "        self.LR_img = sorted(os.listdir(LR_path))\n",
    "        self.GT_img = sorted(os.listdir(GT_path))\n",
    "        \n",
    "        if in_memory:\n",
    "            self.LR_img = [np.array(Image.open(os.path.join(self.LR_path, lr)).convert(\"RGB\")).astype(np.uint8) for lr in self.LR_img]\n",
    "            self.GT_img = [np.array(Image.open(os.path.join(self.GT_path, gt)).convert(\"RGB\")).astype(np.uint8) for gt in self.GT_img]\n",
    "        \n",
    "    def __len__(self):\n",
    "        \n",
    "        return len(self.LR_img)\n",
    "        \n",
    "    def __getitem__(self, i):\n",
    "        \n",
    "        img_item = {}\n",
    "        \n",
    "        if self.in_memory:\n",
    "            GT = self.GT_img[i].astype(np.float32)\n",
    "            LR = self.LR_img[i].astype(np.float32)\n",
    "            \n",
    "        else:\n",
    "            GT = np.array(Image.open(os.path.join(self.GT_path, self.GT_img[i])).convert(\"RGB\"))\n",
    "            LR = np.array(Image.open(os.path.join(self.LR_path, self.LR_img[i])).convert(\"RGB\"))\n",
    "\n",
    "        img_item['GT'] = (GT / 127.5) - 1.0\n",
    "        img_item['LR'] = (LR / 127.5) - 1.0\n",
    "                \n",
    "        if self.transform is not None:\n",
    "            img_item = self.transform(img_item)\n",
    "            \n",
    "        img_item['GT'] = img_item['GT'].transpose(2, 0, 1).astype(np.float32)\n",
    "        img_item['LR'] = img_item['LR'].transpose(2, 0, 1).astype(np.float32)\n",
    "        \n",
    "        return img_item\n",
    "    "
   ]
  },
  {
   "cell_type": "code",
   "execution_count": 5,
   "metadata": {},
   "outputs": [],
   "source": [
    "def evaluate(model=model1,destination=\"./temp1/resnet/\"):\n",
    "    images=os.listdir('../../../../Set5/image_SRF_4/LR')\n",
    "    path_lr='../../../../Set5/image_SRF_4/LR/'\n",
    "    path_hr='../../../../Set5/image_SRF_4/HR/'\n",
    "    scale=4\n",
    "    psnr_list = []\n",
    "    \n",
    "    model.eval()\n",
    "        \n",
    "    for image_name in images:\n",
    "\n",
    "        with torch.no_grad():\n",
    "            GT = np.array(Image.open(os.path.join(path_hr,image_name)).convert(\"RGB\"))\n",
    "            LR = np.array(Image.open(os.path.join(path_lr, image_name)).convert(\"RGB\"))\n",
    "\n",
    "            GT = (GT / 127.5) - 1.0\n",
    "            LR = (LR / 127.5) - 1.0\n",
    "            \n",
    "            GT = torch.unsqueeze(torch.tensor(GT.transpose(2, 0, 1).astype(np.float32)),dim=0)\n",
    "            LR = torch.unsqueeze(torch.tensor(LR.transpose(2, 0, 1).astype(np.float32)),dim=0)   \n",
    "            \n",
    "            #print(GT.shape,LR.shape)     \n",
    "                    \n",
    "            gt = GT.to(device)\n",
    "            lr = LR.to(device)\n",
    "\n",
    "            bs, c, h, w = lr.size()\n",
    "            gt = gt[:, :, : h * scale, : w * scale]\n",
    "\n",
    "            #print(GT.shape,LR.shape) \n",
    "            output, _ = model(lr)\n",
    "            #print(output.shape,gt.shape)\n",
    "\n",
    "            output = output[0].cpu().numpy()\n",
    "            output = np.clip(output, -1.0, 1.0)\n",
    "            gt = gt[0].cpu().numpy()\n",
    "\n",
    "            output = (output + 1.0) / 2.0\n",
    "            gt = (gt + 1.0) / 2.0\n",
    "\n",
    "            output = output.transpose(1, 2, 0)\n",
    "            gt = gt.transpose(1, 2, 0)\n",
    "\n",
    "            y_output = rgb2ycbcr(output)[scale:-scale, scale:-scale, :1]\n",
    "            y_gt = rgb2ycbcr(gt)[scale:-scale, scale:-scale, :1]\n",
    "            \n",
    "            #print(y_output.shape,y_gt.shape)\n",
    "            \n",
    "            psnr_value = peak_signal_noise_ratio(y_output / 255.0, y_gt / 255.0, data_range=1.0)\n",
    "            psnr_list.append(psnr_value)\n",
    "    \n",
    "            result = Image.fromarray((output * 255.0).astype(np.uint8))\n",
    "            result.save(f'{destination}{image_name}')\n",
    "    print(psnr_list)\n",
    "    print(f\"Average PSNR: {np.mean(psnr_list):.4f}\")"
   ]
  },
  {
   "cell_type": "code",
   "execution_count": 6,
   "metadata": {},
   "outputs": [
    {
     "name": "stdout",
     "output_type": "stream",
     "text": [
      "[27.728578038204684, 34.155375788913, 30.236863583843693, 33.535564722953815, 32.83492609617359]\n",
      "Average PSNR: 31.6983\n"
     ]
    }
   ],
   "source": [
    "evaluate(model1,\"./temp1/resnet/\")"
   ]
  },
  {
   "cell_type": "code",
   "execution_count": 7,
   "metadata": {},
   "outputs": [
    {
     "data": {
      "text/plain": [
       "<All keys matched successfully>"
      ]
     },
     "execution_count": 7,
     "metadata": {},
     "output_type": "execute_result"
    }
   ],
   "source": [
    "model2=MiniSRGAN().to(device)\n",
    "model2.load_state_dict(torch.load('../weights/latest_trained_model.pt', map_location=device))"
   ]
  },
  {
   "cell_type": "code",
   "execution_count": 8,
   "metadata": {},
   "outputs": [
    {
     "name": "stdout",
     "output_type": "stream",
     "text": [
      "[26.444786851918145, 32.37612611199677, 28.548387518379037, 31.250048765643086, 31.45126989998471]\n",
      "Average PSNR: 30.0141\n"
     ]
    }
   ],
   "source": [
    "evaluate(model2,\"./temp1/gan/\")"
   ]
  }
 ],
 "metadata": {
  "kernelspec": {
   "display_name": "torch",
   "language": "python",
   "name": "python3"
  },
  "language_info": {
   "codemirror_mode": {
    "name": "ipython",
    "version": 3
   },
   "file_extension": ".py",
   "mimetype": "text/x-python",
   "name": "python",
   "nbconvert_exporter": "python",
   "pygments_lexer": "ipython3",
   "version": "3.11.5"
  }
 },
 "nbformat": 4,
 "nbformat_minor": 2
}
