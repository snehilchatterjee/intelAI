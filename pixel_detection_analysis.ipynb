{
 "cells": [
  {
   "cell_type": "code",
   "execution_count": 1,
   "id": "e1db2654-c977-4498-8eeb-0bcaeccabb3d",
   "metadata": {},
   "outputs": [],
   "source": [
    "import cv2\n",
    "from PIL import Image\n",
    "import numpy as np\n",
    "import matplotlib.pyplot as plt"
   ]
  },
  {
   "cell_type": "code",
   "execution_count": 2,
   "id": "e9c74132-9104-4322-a591-cd852b7370d8",
   "metadata": {},
   "outputs": [],
   "source": [
    "image=cv2.imread('./Sample.jpg')\n",
    "image=cv2.cvtColor(image, cv2.COLOR_BGR2RGB)\n",
    "\n",
    "original_height, original_width = image.shape[:2]"
   ]
  },
  {
   "cell_type": "code",
   "execution_count": 3,
   "id": "46727d8a-21ec-4dd4-bbac-ef77c702a081",
   "metadata": {},
   "outputs": [],
   "source": [
    "def degradeIt(n):\n",
    "    scale_factor = n\n",
    "    \n",
    "    new_width = int(original_width // scale_factor)\n",
    "    new_height = int(original_height // scale_factor)  \n",
    "    \n",
    "    downscaled_image = cv2.resize(image, (new_width, new_height), interpolation=cv2.INTER_NEAREST)\n",
    "    \n",
    "    upscaled_image = cv2.resize(downscaled_image, (original_width, original_height), interpolation=cv2.INTER_NEAREST)\n",
    "\n",
    "    return upscaled_image"
   ]
  },
  {
   "cell_type": "code",
   "execution_count": 4,
   "id": "f2466732-b16d-4685-8735-c81276323152",
   "metadata": {},
   "outputs": [],
   "source": [
    "for i in np.arange(1,3,0.1):\n",
    "    upscaled_image=degradeIt(i)\n",
    "    \n",
    "    scale_factor=i\n",
    "    \n",
    "    dpi = 100.0\n",
    "    figure_width = 2 * original_width / dpi  \n",
    "    figure_height = original_height / dpi \n",
    "    \n",
    "    plt.figure(figsize=(figure_width, figure_height))\n",
    "    \n",
    "    plt.subplot(1, 2, 1)\n",
    "    plt.imshow(image)\n",
    "    plt.xlabel('Original Image')\n",
    "    plt.xticks([])  \n",
    "    plt.yticks([])  \n",
    "    \n",
    "    plt.subplot(1, 2, 2)\n",
    "    plt.imshow(upscaled_image)\n",
    "    plt.xlabel(f'Upscaled Image {original_width // scale_factor}x{original_height // scale_factor}')\n",
    "    plt.xticks([]) \n",
    "    plt.yticks([])  \n",
    "    \n",
    "    plt.tight_layout()\n",
    "    plt.savefig(f'experiment_detection/comparision/{scale_factor:.1f}.png', dpi=dpi)\n",
    "    plt.close()\n",
    "\n",
    "    upscaled_image=cv2.cvtColor(upscaled_image, cv2.COLOR_RGB2BGR)\n",
    "    cv2.imwrite(f'experiment_detection/solo/Upscaled Image {int(original_width // scale_factor)}x{int(original_height // scale_factor)  }.png',upscaled_image)\n"
   ]
  }
 ],
 "metadata": {
  "kernelspec": {
   "display_name": "Python 3 (ipykernel)",
   "language": "python",
   "name": "python3"
  },
  "language_info": {
   "codemirror_mode": {
    "name": "ipython",
    "version": 3
   },
   "file_extension": ".py",
   "mimetype": "text/x-python",
   "name": "python",
   "nbconvert_exporter": "python",
   "pygments_lexer": "ipython3",
   "version": "3.11.5"
  }
 },
 "nbformat": 4,
 "nbformat_minor": 5
}
