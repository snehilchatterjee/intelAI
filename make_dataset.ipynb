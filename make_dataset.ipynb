{
 "cells": [
  {
   "cell_type": "code",
   "execution_count": 1,
   "id": "fbe72a30-982a-46a3-8598-07f94d6b67af",
   "metadata": {},
   "outputs": [
    {
     "name": "stdout",
     "output_type": "stream",
     "text": [
      "Using: cuda\n"
     ]
    }
   ],
   "source": [
    "import torch\n",
    "import torchvision\n",
    "import PIL\n",
    "import os\n",
    "from matplotlib import pyplot as plt\n",
    "import cv2\n",
    "import random\n",
    "import warnings\n",
    "import timm\n",
    "from torch import nn\n",
    "import numpy as np\n",
    "from tqdm import tqdm_notebook\n",
    "from torchvision.models import mobilenet_v3_small\n",
    "from torchsummary import summary\n",
    "import time\n",
    "\n",
    "warnings.filterwarnings('ignore')\n",
    "\n",
    "device='cuda' if torch.cuda.is_available() else 'cpu'\n",
    "\n",
    "print(f'Using: {device}')\n"
   ]
  },
  {
   "cell_type": "code",
   "execution_count": 2,
   "id": "9fc34273-c269-4a9c-8b7d-ce5e2da1483f",
   "metadata": {},
   "outputs": [],
   "source": [
    "class dataset():\n",
    "    def __init__(self,src,des):\n",
    "        self.des=des\n",
    "        self.src=src\n",
    "        self.images=os.listdir(src)\n",
    "        \n",
    "    def __len__(self):\n",
    "        return len(self.images)\n",
    "\n",
    "    def apply_mosaic(self,image, top_left_x, top_left_y, width, height, mosaic_size):\n",
    "\n",
    "        roi = image[top_left_y:top_left_y+height, top_left_x:top_left_x+width]\n",
    "    \n",
    "        roi_small = cv2.resize(roi, (mosaic_size, mosaic_size), interpolation=cv2.INTER_LINEAR)\n",
    "    \n",
    "        mosaic = cv2.resize(roi_small, (width, height), interpolation=cv2.INTER_NEAREST)\n",
    "        \n",
    "        image[top_left_y:top_left_y+height, top_left_x:top_left_x+width] = mosaic\n",
    "        return image\n",
    "\n",
    "\n",
    "    def make_ds(self):\n",
    "        count=0\n",
    "        for idx in range(len(self.images)):\n",
    "            \n",
    "            img=cv2.imread(self.src+\"/\"+self.images[idx])\n",
    "\n",
    "            original=np.copy(img)\n",
    "          \n",
    "            img_height, img_width = img.shape[:2]\n",
    "    \n",
    "            # Define the size of the mosaic area\n",
    "            mosaic_width = random.randint(50,150)\n",
    "            mosaic_height = random.randint(50,150)\n",
    "            mosaic_size = random.randint(5,10)  # Size of each mosaic block\n",
    "            \n",
    "            # Randomly pick a spot\n",
    "            top_left_x = random.randint(0, img_width - mosaic_width)\n",
    "            top_left_y = random.randint(0, img_height - mosaic_height)\n",
    "            \n",
    "            # Apply the mosaic effect\n",
    "            output_image = self.apply_mosaic(img, top_left_x, top_left_y, mosaic_width, mosaic_height, mosaic_size)\n",
    "\n",
    "            #output_image = self.transforms(output_image.permute(2,0,1)).permute(1,2,0)\n",
    "            #original=self.transforms(torch.from_numpy(original).permute(2,0,1)).permute(1,2,0)\n",
    "            \n",
    "            cv2.imwrite(f'{self.des}/train_A/{self.images[idx]}',original)\n",
    "\n",
    "            cv2.imwrite(f'{self.des}/train_B/{self.images[idx]}',output_image)\n",
    "            \n",
    "            count+=1\n",
    "            \n",
    "            if(count%100==0):\n",
    "                print(f'{count} conversions compelete')"
   ]
  },
  {
   "cell_type": "code",
   "execution_count": 3,
   "id": "5b460ecc-1ee1-43fa-a7c5-2d5383e4c26e",
   "metadata": {},
   "outputs": [],
   "source": [
    "ds=dataset('./temp/food-101/images/tuna_tartare/','./temp/food-101/images/tuna_ds/')"
   ]
  },
  {
   "cell_type": "code",
   "execution_count": 4,
   "id": "94f3042c-48c2-488a-9195-46671341a087",
   "metadata": {},
   "outputs": [
    {
     "name": "stdout",
     "output_type": "stream",
     "text": [
      "100 conversions compelete\n",
      "200 conversions compelete\n",
      "300 conversions compelete\n",
      "400 conversions compelete\n",
      "500 conversions compelete\n",
      "600 conversions compelete\n",
      "700 conversions compelete\n",
      "800 conversions compelete\n",
      "900 conversions compelete\n",
      "1000 conversions compelete\n"
     ]
    }
   ],
   "source": [
    "ds.make_ds()"
   ]
  }
 ],
 "metadata": {
  "kernelspec": {
   "display_name": "Python 3 (ipykernel)",
   "language": "python",
   "name": "python3"
  },
  "language_info": {
   "codemirror_mode": {
    "name": "ipython",
    "version": 3
   },
   "file_extension": ".py",
   "mimetype": "text/x-python",
   "name": "python",
   "nbconvert_exporter": "python",
   "pygments_lexer": "ipython3",
   "version": "3.11.5"
  }
 },
 "nbformat": 4,
 "nbformat_minor": 5
}
