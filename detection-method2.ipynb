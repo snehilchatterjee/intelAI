{
 "cells": [
  {
   "cell_type": "code",
   "execution_count": 1,
   "id": "88a1271c-ca1b-4251-bbb1-b7b85089ffb8",
   "metadata": {},
   "outputs": [
    {
     "name": "stdout",
     "output_type": "stream",
     "text": [
      "Using: cuda\n"
     ]
    }
   ],
   "source": [
    "import torch\n",
    "import torchvision\n",
    "import PIL\n",
    "import os\n",
    "from matplotlib import pyplot as plt\n",
    "import cv2\n",
    "import random\n",
    "import warnings\n",
    "import timm\n",
    "from torch import nn\n",
    "import numpy as np\n",
    "from tqdm import tqdm_notebook\n",
    "from torchvision.models import mobilenet_v3_small\n",
    "from torchsummary import summary\n",
    "\n",
    "\n",
    "warnings.filterwarnings('ignore')\n",
    "\n",
    "device='cuda' if torch.cuda.is_available() else 'cpu'\n",
    "\n",
    "print(f'Using: {device}')\n"
   ]
  },
  {
   "cell_type": "code",
   "execution_count": 2,
   "id": "f7568d1c-a79d-4e9f-b09b-372b69bbcea0",
   "metadata": {},
   "outputs": [],
   "source": [
    "model=mobilenet_v3_small(weights='DEFAULT')\n",
    "model.classifier[3]=nn.Linear(in_features=1024,out_features=3,bias=True)"
   ]
  },
  {
   "cell_type": "code",
   "execution_count": 3,
   "id": "ea3a508d-8aa7-4b2a-ab69-9ab294961737",
   "metadata": {
    "scrolled": true
   },
   "outputs": [
    {
     "data": {
      "text/plain": [
       "MobileNetV3(\n",
       "  (features): Sequential(\n",
       "    (0): Conv2dNormActivation(\n",
       "      (0): Conv2d(3, 16, kernel_size=(3, 3), stride=(2, 2), padding=(1, 1), bias=False)\n",
       "      (1): BatchNorm2d(16, eps=0.001, momentum=0.01, affine=True, track_running_stats=True)\n",
       "      (2): Hardswish()\n",
       "    )\n",
       "    (1): InvertedResidual(\n",
       "      (block): Sequential(\n",
       "        (0): Conv2dNormActivation(\n",
       "          (0): Conv2d(16, 16, kernel_size=(3, 3), stride=(2, 2), padding=(1, 1), groups=16, bias=False)\n",
       "          (1): BatchNorm2d(16, eps=0.001, momentum=0.01, affine=True, track_running_stats=True)\n",
       "          (2): ReLU(inplace=True)\n",
       "        )\n",
       "        (1): SqueezeExcitation(\n",
       "          (avgpool): AdaptiveAvgPool2d(output_size=1)\n",
       "          (fc1): Conv2d(16, 8, kernel_size=(1, 1), stride=(1, 1))\n",
       "          (fc2): Conv2d(8, 16, kernel_size=(1, 1), stride=(1, 1))\n",
       "          (activation): ReLU()\n",
       "          (scale_activation): Hardsigmoid()\n",
       "        )\n",
       "        (2): Conv2dNormActivation(\n",
       "          (0): Conv2d(16, 16, kernel_size=(1, 1), stride=(1, 1), bias=False)\n",
       "          (1): BatchNorm2d(16, eps=0.001, momentum=0.01, affine=True, track_running_stats=True)\n",
       "        )\n",
       "      )\n",
       "    )\n",
       "    (2): InvertedResidual(\n",
       "      (block): Sequential(\n",
       "        (0): Conv2dNormActivation(\n",
       "          (0): Conv2d(16, 72, kernel_size=(1, 1), stride=(1, 1), bias=False)\n",
       "          (1): BatchNorm2d(72, eps=0.001, momentum=0.01, affine=True, track_running_stats=True)\n",
       "          (2): ReLU(inplace=True)\n",
       "        )\n",
       "        (1): Conv2dNormActivation(\n",
       "          (0): Conv2d(72, 72, kernel_size=(3, 3), stride=(2, 2), padding=(1, 1), groups=72, bias=False)\n",
       "          (1): BatchNorm2d(72, eps=0.001, momentum=0.01, affine=True, track_running_stats=True)\n",
       "          (2): ReLU(inplace=True)\n",
       "        )\n",
       "        (2): Conv2dNormActivation(\n",
       "          (0): Conv2d(72, 24, kernel_size=(1, 1), stride=(1, 1), bias=False)\n",
       "          (1): BatchNorm2d(24, eps=0.001, momentum=0.01, affine=True, track_running_stats=True)\n",
       "        )\n",
       "      )\n",
       "    )\n",
       "    (3): InvertedResidual(\n",
       "      (block): Sequential(\n",
       "        (0): Conv2dNormActivation(\n",
       "          (0): Conv2d(24, 88, kernel_size=(1, 1), stride=(1, 1), bias=False)\n",
       "          (1): BatchNorm2d(88, eps=0.001, momentum=0.01, affine=True, track_running_stats=True)\n",
       "          (2): ReLU(inplace=True)\n",
       "        )\n",
       "        (1): Conv2dNormActivation(\n",
       "          (0): Conv2d(88, 88, kernel_size=(3, 3), stride=(1, 1), padding=(1, 1), groups=88, bias=False)\n",
       "          (1): BatchNorm2d(88, eps=0.001, momentum=0.01, affine=True, track_running_stats=True)\n",
       "          (2): ReLU(inplace=True)\n",
       "        )\n",
       "        (2): Conv2dNormActivation(\n",
       "          (0): Conv2d(88, 24, kernel_size=(1, 1), stride=(1, 1), bias=False)\n",
       "          (1): BatchNorm2d(24, eps=0.001, momentum=0.01, affine=True, track_running_stats=True)\n",
       "        )\n",
       "      )\n",
       "    )\n",
       "    (4): InvertedResidual(\n",
       "      (block): Sequential(\n",
       "        (0): Conv2dNormActivation(\n",
       "          (0): Conv2d(24, 96, kernel_size=(1, 1), stride=(1, 1), bias=False)\n",
       "          (1): BatchNorm2d(96, eps=0.001, momentum=0.01, affine=True, track_running_stats=True)\n",
       "          (2): Hardswish()\n",
       "        )\n",
       "        (1): Conv2dNormActivation(\n",
       "          (0): Conv2d(96, 96, kernel_size=(5, 5), stride=(2, 2), padding=(2, 2), groups=96, bias=False)\n",
       "          (1): BatchNorm2d(96, eps=0.001, momentum=0.01, affine=True, track_running_stats=True)\n",
       "          (2): Hardswish()\n",
       "        )\n",
       "        (2): SqueezeExcitation(\n",
       "          (avgpool): AdaptiveAvgPool2d(output_size=1)\n",
       "          (fc1): Conv2d(96, 24, kernel_size=(1, 1), stride=(1, 1))\n",
       "          (fc2): Conv2d(24, 96, kernel_size=(1, 1), stride=(1, 1))\n",
       "          (activation): ReLU()\n",
       "          (scale_activation): Hardsigmoid()\n",
       "        )\n",
       "        (3): Conv2dNormActivation(\n",
       "          (0): Conv2d(96, 40, kernel_size=(1, 1), stride=(1, 1), bias=False)\n",
       "          (1): BatchNorm2d(40, eps=0.001, momentum=0.01, affine=True, track_running_stats=True)\n",
       "        )\n",
       "      )\n",
       "    )\n",
       "    (5): InvertedResidual(\n",
       "      (block): Sequential(\n",
       "        (0): Conv2dNormActivation(\n",
       "          (0): Conv2d(40, 240, kernel_size=(1, 1), stride=(1, 1), bias=False)\n",
       "          (1): BatchNorm2d(240, eps=0.001, momentum=0.01, affine=True, track_running_stats=True)\n",
       "          (2): Hardswish()\n",
       "        )\n",
       "        (1): Conv2dNormActivation(\n",
       "          (0): Conv2d(240, 240, kernel_size=(5, 5), stride=(1, 1), padding=(2, 2), groups=240, bias=False)\n",
       "          (1): BatchNorm2d(240, eps=0.001, momentum=0.01, affine=True, track_running_stats=True)\n",
       "          (2): Hardswish()\n",
       "        )\n",
       "        (2): SqueezeExcitation(\n",
       "          (avgpool): AdaptiveAvgPool2d(output_size=1)\n",
       "          (fc1): Conv2d(240, 64, kernel_size=(1, 1), stride=(1, 1))\n",
       "          (fc2): Conv2d(64, 240, kernel_size=(1, 1), stride=(1, 1))\n",
       "          (activation): ReLU()\n",
       "          (scale_activation): Hardsigmoid()\n",
       "        )\n",
       "        (3): Conv2dNormActivation(\n",
       "          (0): Conv2d(240, 40, kernel_size=(1, 1), stride=(1, 1), bias=False)\n",
       "          (1): BatchNorm2d(40, eps=0.001, momentum=0.01, affine=True, track_running_stats=True)\n",
       "        )\n",
       "      )\n",
       "    )\n",
       "    (6): InvertedResidual(\n",
       "      (block): Sequential(\n",
       "        (0): Conv2dNormActivation(\n",
       "          (0): Conv2d(40, 240, kernel_size=(1, 1), stride=(1, 1), bias=False)\n",
       "          (1): BatchNorm2d(240, eps=0.001, momentum=0.01, affine=True, track_running_stats=True)\n",
       "          (2): Hardswish()\n",
       "        )\n",
       "        (1): Conv2dNormActivation(\n",
       "          (0): Conv2d(240, 240, kernel_size=(5, 5), stride=(1, 1), padding=(2, 2), groups=240, bias=False)\n",
       "          (1): BatchNorm2d(240, eps=0.001, momentum=0.01, affine=True, track_running_stats=True)\n",
       "          (2): Hardswish()\n",
       "        )\n",
       "        (2): SqueezeExcitation(\n",
       "          (avgpool): AdaptiveAvgPool2d(output_size=1)\n",
       "          (fc1): Conv2d(240, 64, kernel_size=(1, 1), stride=(1, 1))\n",
       "          (fc2): Conv2d(64, 240, kernel_size=(1, 1), stride=(1, 1))\n",
       "          (activation): ReLU()\n",
       "          (scale_activation): Hardsigmoid()\n",
       "        )\n",
       "        (3): Conv2dNormActivation(\n",
       "          (0): Conv2d(240, 40, kernel_size=(1, 1), stride=(1, 1), bias=False)\n",
       "          (1): BatchNorm2d(40, eps=0.001, momentum=0.01, affine=True, track_running_stats=True)\n",
       "        )\n",
       "      )\n",
       "    )\n",
       "    (7): InvertedResidual(\n",
       "      (block): Sequential(\n",
       "        (0): Conv2dNormActivation(\n",
       "          (0): Conv2d(40, 120, kernel_size=(1, 1), stride=(1, 1), bias=False)\n",
       "          (1): BatchNorm2d(120, eps=0.001, momentum=0.01, affine=True, track_running_stats=True)\n",
       "          (2): Hardswish()\n",
       "        )\n",
       "        (1): Conv2dNormActivation(\n",
       "          (0): Conv2d(120, 120, kernel_size=(5, 5), stride=(1, 1), padding=(2, 2), groups=120, bias=False)\n",
       "          (1): BatchNorm2d(120, eps=0.001, momentum=0.01, affine=True, track_running_stats=True)\n",
       "          (2): Hardswish()\n",
       "        )\n",
       "        (2): SqueezeExcitation(\n",
       "          (avgpool): AdaptiveAvgPool2d(output_size=1)\n",
       "          (fc1): Conv2d(120, 32, kernel_size=(1, 1), stride=(1, 1))\n",
       "          (fc2): Conv2d(32, 120, kernel_size=(1, 1), stride=(1, 1))\n",
       "          (activation): ReLU()\n",
       "          (scale_activation): Hardsigmoid()\n",
       "        )\n",
       "        (3): Conv2dNormActivation(\n",
       "          (0): Conv2d(120, 48, kernel_size=(1, 1), stride=(1, 1), bias=False)\n",
       "          (1): BatchNorm2d(48, eps=0.001, momentum=0.01, affine=True, track_running_stats=True)\n",
       "        )\n",
       "      )\n",
       "    )\n",
       "    (8): InvertedResidual(\n",
       "      (block): Sequential(\n",
       "        (0): Conv2dNormActivation(\n",
       "          (0): Conv2d(48, 144, kernel_size=(1, 1), stride=(1, 1), bias=False)\n",
       "          (1): BatchNorm2d(144, eps=0.001, momentum=0.01, affine=True, track_running_stats=True)\n",
       "          (2): Hardswish()\n",
       "        )\n",
       "        (1): Conv2dNormActivation(\n",
       "          (0): Conv2d(144, 144, kernel_size=(5, 5), stride=(1, 1), padding=(2, 2), groups=144, bias=False)\n",
       "          (1): BatchNorm2d(144, eps=0.001, momentum=0.01, affine=True, track_running_stats=True)\n",
       "          (2): Hardswish()\n",
       "        )\n",
       "        (2): SqueezeExcitation(\n",
       "          (avgpool): AdaptiveAvgPool2d(output_size=1)\n",
       "          (fc1): Conv2d(144, 40, kernel_size=(1, 1), stride=(1, 1))\n",
       "          (fc2): Conv2d(40, 144, kernel_size=(1, 1), stride=(1, 1))\n",
       "          (activation): ReLU()\n",
       "          (scale_activation): Hardsigmoid()\n",
       "        )\n",
       "        (3): Conv2dNormActivation(\n",
       "          (0): Conv2d(144, 48, kernel_size=(1, 1), stride=(1, 1), bias=False)\n",
       "          (1): BatchNorm2d(48, eps=0.001, momentum=0.01, affine=True, track_running_stats=True)\n",
       "        )\n",
       "      )\n",
       "    )\n",
       "    (9): InvertedResidual(\n",
       "      (block): Sequential(\n",
       "        (0): Conv2dNormActivation(\n",
       "          (0): Conv2d(48, 288, kernel_size=(1, 1), stride=(1, 1), bias=False)\n",
       "          (1): BatchNorm2d(288, eps=0.001, momentum=0.01, affine=True, track_running_stats=True)\n",
       "          (2): Hardswish()\n",
       "        )\n",
       "        (1): Conv2dNormActivation(\n",
       "          (0): Conv2d(288, 288, kernel_size=(5, 5), stride=(2, 2), padding=(2, 2), groups=288, bias=False)\n",
       "          (1): BatchNorm2d(288, eps=0.001, momentum=0.01, affine=True, track_running_stats=True)\n",
       "          (2): Hardswish()\n",
       "        )\n",
       "        (2): SqueezeExcitation(\n",
       "          (avgpool): AdaptiveAvgPool2d(output_size=1)\n",
       "          (fc1): Conv2d(288, 72, kernel_size=(1, 1), stride=(1, 1))\n",
       "          (fc2): Conv2d(72, 288, kernel_size=(1, 1), stride=(1, 1))\n",
       "          (activation): ReLU()\n",
       "          (scale_activation): Hardsigmoid()\n",
       "        )\n",
       "        (3): Conv2dNormActivation(\n",
       "          (0): Conv2d(288, 96, kernel_size=(1, 1), stride=(1, 1), bias=False)\n",
       "          (1): BatchNorm2d(96, eps=0.001, momentum=0.01, affine=True, track_running_stats=True)\n",
       "        )\n",
       "      )\n",
       "    )\n",
       "    (10): InvertedResidual(\n",
       "      (block): Sequential(\n",
       "        (0): Conv2dNormActivation(\n",
       "          (0): Conv2d(96, 576, kernel_size=(1, 1), stride=(1, 1), bias=False)\n",
       "          (1): BatchNorm2d(576, eps=0.001, momentum=0.01, affine=True, track_running_stats=True)\n",
       "          (2): Hardswish()\n",
       "        )\n",
       "        (1): Conv2dNormActivation(\n",
       "          (0): Conv2d(576, 576, kernel_size=(5, 5), stride=(1, 1), padding=(2, 2), groups=576, bias=False)\n",
       "          (1): BatchNorm2d(576, eps=0.001, momentum=0.01, affine=True, track_running_stats=True)\n",
       "          (2): Hardswish()\n",
       "        )\n",
       "        (2): SqueezeExcitation(\n",
       "          (avgpool): AdaptiveAvgPool2d(output_size=1)\n",
       "          (fc1): Conv2d(576, 144, kernel_size=(1, 1), stride=(1, 1))\n",
       "          (fc2): Conv2d(144, 576, kernel_size=(1, 1), stride=(1, 1))\n",
       "          (activation): ReLU()\n",
       "          (scale_activation): Hardsigmoid()\n",
       "        )\n",
       "        (3): Conv2dNormActivation(\n",
       "          (0): Conv2d(576, 96, kernel_size=(1, 1), stride=(1, 1), bias=False)\n",
       "          (1): BatchNorm2d(96, eps=0.001, momentum=0.01, affine=True, track_running_stats=True)\n",
       "        )\n",
       "      )\n",
       "    )\n",
       "    (11): InvertedResidual(\n",
       "      (block): Sequential(\n",
       "        (0): Conv2dNormActivation(\n",
       "          (0): Conv2d(96, 576, kernel_size=(1, 1), stride=(1, 1), bias=False)\n",
       "          (1): BatchNorm2d(576, eps=0.001, momentum=0.01, affine=True, track_running_stats=True)\n",
       "          (2): Hardswish()\n",
       "        )\n",
       "        (1): Conv2dNormActivation(\n",
       "          (0): Conv2d(576, 576, kernel_size=(5, 5), stride=(1, 1), padding=(2, 2), groups=576, bias=False)\n",
       "          (1): BatchNorm2d(576, eps=0.001, momentum=0.01, affine=True, track_running_stats=True)\n",
       "          (2): Hardswish()\n",
       "        )\n",
       "        (2): SqueezeExcitation(\n",
       "          (avgpool): AdaptiveAvgPool2d(output_size=1)\n",
       "          (fc1): Conv2d(576, 144, kernel_size=(1, 1), stride=(1, 1))\n",
       "          (fc2): Conv2d(144, 576, kernel_size=(1, 1), stride=(1, 1))\n",
       "          (activation): ReLU()\n",
       "          (scale_activation): Hardsigmoid()\n",
       "        )\n",
       "        (3): Conv2dNormActivation(\n",
       "          (0): Conv2d(576, 96, kernel_size=(1, 1), stride=(1, 1), bias=False)\n",
       "          (1): BatchNorm2d(96, eps=0.001, momentum=0.01, affine=True, track_running_stats=True)\n",
       "        )\n",
       "      )\n",
       "    )\n",
       "    (12): Conv2dNormActivation(\n",
       "      (0): Conv2d(96, 576, kernel_size=(1, 1), stride=(1, 1), bias=False)\n",
       "      (1): BatchNorm2d(576, eps=0.001, momentum=0.01, affine=True, track_running_stats=True)\n",
       "      (2): Hardswish()\n",
       "    )\n",
       "  )\n",
       "  (avgpool): AdaptiveAvgPool2d(output_size=1)\n",
       "  (classifier): Sequential(\n",
       "    (0): Linear(in_features=576, out_features=1024, bias=True)\n",
       "    (1): Hardswish()\n",
       "    (2): Dropout(p=0.2, inplace=True)\n",
       "    (3): Linear(in_features=1024, out_features=3, bias=True)\n",
       "  )\n",
       ")"
      ]
     },
     "execution_count": 3,
     "metadata": {},
     "output_type": "execute_result"
    }
   ],
   "source": [
    "model"
   ]
  },
  {
   "cell_type": "code",
   "execution_count": 4,
   "id": "3201886e-3b74-4721-8277-1510b9e9d26e",
   "metadata": {},
   "outputs": [],
   "source": [
    "class dataset(torch.utils.data.Dataset):\n",
    "    def __init__(self,src):\n",
    "        self.src=src\n",
    "        self.images=os.listdir(src)\n",
    "        #self.transforms=torchvision.models.MobileNet_V3_Small_Weights.IMAGENET1K_V1.transforms()\n",
    "        self.transforms=torchvision.transforms.Compose([torchvision.transforms.Resize((256,256)),\n",
    "                                                       torchvision.transforms.CenterCrop((224,224))])\n",
    "    \n",
    "    def __len__(self):\n",
    "        return len(self.images)\n",
    "\n",
    "    def apply_mosaic(self,image, top_left_x, top_left_y, width, height, mosaic_size):\n",
    "        \"\"\"\n",
    "        Apply a mosaic effect to a specific area of the image.\n",
    "    \n",
    "        :param image: The original image.\n",
    "        :param top_left_x: Top left x-coordinate of the mosaic area.\n",
    "        :param top_left_y: Top left y-coordinate of the mosaic area.\n",
    "        :param width: Width of the mosaic area.\n",
    "        :param height: Height of the mosaic area.\n",
    "        :param mosaic_size: Size of the mosaic blocks.\n",
    "        \"\"\"\n",
    "        # Extract the region of interest\n",
    "        roi = image[top_left_y:top_left_y+height, top_left_x:top_left_x+width]\n",
    "    \n",
    "        #plt.imshow(roi)\n",
    "        \n",
    "        # Resize to mosaic size (downscale)\n",
    "        roi_small = cv2.resize(roi, (mosaic_size, mosaic_size), interpolation=cv2.INTER_LINEAR)\n",
    "    \n",
    "        # Resize back to original size (upscale)\n",
    "        mosaic = cv2.resize(roi_small, (width, height), interpolation=cv2.INTER_NEAREST)\n",
    "        \n",
    "        # Place the mosaic back into the original image\n",
    "        image[top_left_y:top_left_y+height, top_left_x:top_left_x+width] = mosaic\n",
    "        return image\n",
    "\n",
    "\n",
    "    def __getitem__(self,idx):\n",
    "        img=cv2.imread(self.src+\"/\"+self.images[idx])\n",
    "          \n",
    "        pixelize=random.randint(0,1)\n",
    "\n",
    "        \n",
    "        t_lower = 50  # Lower Threshold \n",
    "        t_upper = 150  # Upper threshold \n",
    "        '''\n",
    "        edge = cv2.Canny(img, t_lower, t_upper) \n",
    "        '''\n",
    "        \n",
    "        if(pixelize):\n",
    "\n",
    "            downsize=random.randint(0,1)\n",
    "\n",
    "            if(downsize):\n",
    "                image=img\n",
    "                \n",
    "                original_height, original_width = image.shape[:2]\n",
    "\n",
    "                # Choose the scale factor (5 or 6)\n",
    "                scale_factor = 6\n",
    "                \n",
    "                # Calculate the new dimensions\n",
    "                new_width = original_width // scale_factor\n",
    "                new_height = original_height // scale_factor\n",
    "                \n",
    "                # Resize the image down by the scale factor\n",
    "                downscaled_image = cv2.resize(image, (new_width, new_height), interpolation=cv2.INTER_LINEAR)\n",
    "                \n",
    "                # Resize the image back to the original size\n",
    "                upscaled_image = (cv2.resize(downscaled_image, (original_width, original_height), interpolation=cv2.INTER_LINEAR))\n",
    "\n",
    "                upscaled_image=torch.from_numpy(cv2.Canny(upscaled_image,t_lower,t_upper)[np.newaxis,...])\n",
    "\n",
    "                upscaled_image=torch.vstack((upscaled_image,upscaled_image,upscaled_image))\n",
    "                return self.transforms(upscaled_image.type(torch.float32)), torch.tensor([0,0,1]).type(torch.float32)\n",
    "                                \n",
    "            else:\n",
    "                img_height, img_width = img.shape[:2]\n",
    "        \n",
    "                # Define the size of the mosaic area\n",
    "                mosaic_width = random.randint(50,200)\n",
    "                mosaic_height = random.randint(50,200)\n",
    "                mosaic_size = random.randint(5,10)  # Size of each mosaic block\n",
    "                \n",
    "                # Randomly pick a spot\n",
    "                top_left_x = random.randint(0, img_width - mosaic_width)\n",
    "                top_left_y = random.randint(0, img_height - mosaic_height)\n",
    "                \n",
    "                # Apply the mosaic effect\n",
    "                output_image = self.apply_mosaic(img, top_left_x, top_left_y, mosaic_width, mosaic_height, mosaic_size)\n",
    "\n",
    "                output_image = torch.from_numpy(cv2.Canny(output_image,t_lower,t_upper)[np.newaxis,...])\n",
    "\n",
    "                output_image=torch.vstack((output_image,output_image,output_image))\n",
    "                \n",
    "                #print(output_image.type(torch.float32).permute(1,2,0).shape)\n",
    "                #return self.transforms(output_image.type(torch.float32).permute(1,2,0)), pixelize\n",
    "                return self.transforms(output_image.type(torch.float32)), torch.tensor([0,1,0]).type(torch.float32)\n",
    "\n",
    "        else:\n",
    "            #print(torch.from_numpy(img).type(torch.float32).shape)\n",
    "            #return self.transforms(torch.from_numpy(img).type(torch.float32)), pixelize\n",
    "\n",
    "            \n",
    "            img = torch.from_numpy(cv2.Canny(img,t_lower,t_upper)[np.newaxis,...])\n",
    "            img = torch.vstack((img,img,img))\n",
    "            \n",
    "            return self.transforms(img.type(torch.float32)),torch.tensor([1,0,0]).type(torch.float32)\n",
    "        "
   ]
  },
  {
   "cell_type": "code",
   "execution_count": 5,
   "id": "89559b78-34f8-4468-983a-541c9d0ac057",
   "metadata": {},
   "outputs": [],
   "source": [
    "train_ds=dataset(\"./temp/images/apple_pie/\")\n",
    "test_ds=dataset(\"./temp/images/baby_back_ribs/\")"
   ]
  },
  {
   "cell_type": "code",
   "execution_count": 6,
   "id": "79c2fd07-62e6-4531-a6ef-ad01c2b11921",
   "metadata": {},
   "outputs": [
    {
     "name": "stderr",
     "output_type": "stream",
     "text": [
      "Clipping input data to the valid range for imshow with RGB data ([0..1] for floats or [0..255] for integers).\n"
     ]
    },
    {
     "name": "stdout",
     "output_type": "stream",
     "text": [
      "torch.Size([3, 224, 224])\n",
      "tensor([0., 0., 1.])\n"
     ]
    },
    {
     "data": {
      "image/png": "[encoded data removed]",
      "text/plain": [
       "<Figure size 640x480 with 1 Axes>"
      ]
     },
     "metadata": {},
     "output_type": "display_data"
    }
   ],
   "source": [
    "plt.axis(False)\n",
    "t=train_ds.__getitem__(torch.randint(0,1000,(1,)))\n",
    "print(t[0].shape)\n",
    "plt.imshow(t[0].permute(1,2,0))\n",
    "print(t[1])"
   ]
  },
  {
   "cell_type": "code",
   "execution_count": 7,
   "id": "ecdd4ebe-2a6a-4d88-aa36-d07e2e3f53d0",
   "metadata": {},
   "outputs": [
    {
     "data": {
      "text/plain": [
       "ImageClassification(\n",
       "    crop_size=[224]\n",
       "    resize_size=[256]\n",
       "    mean=[0.485, 0.456, 0.406]\n",
       "    std=[0.229, 0.224, 0.225]\n",
       "    interpolation=InterpolationMode.BILINEAR\n",
       ")"
      ]
     },
     "execution_count": 7,
     "metadata": {},
     "output_type": "execute_result"
    }
   ],
   "source": [
    "torchvision.models.MobileNet_V3_Small_Weights.IMAGENET1K_V1.transforms()"
   ]
  },
  {
   "cell_type": "code",
   "execution_count": 8,
   "id": "464a77e7-82dc-4009-8c5c-d14fff8283f4",
   "metadata": {},
   "outputs": [],
   "source": [
    "train_loader=torch.utils.data.DataLoader(train_ds,16,shuffle=True)\n",
    "val_loader=torch.utils.data.DataLoader(test_ds,16,shuffle=True)"
   ]
  },
  {
   "cell_type": "code",
   "execution_count": 9,
   "id": "368f41a7-41c2-4539-8e97-2ae95d8ac628",
   "metadata": {},
   "outputs": [
    {
     "name": "stdout",
     "output_type": "stream",
     "text": [
      "torch.Size([16, 3, 224, 224])\n"
     ]
    },
    {
     "data": {
      "text/plain": [
       "tensor([2, 2, 0, 1, 1, 1, 2, 2, 1, 0, 0, 2, 2, 2, 1, 2])"
      ]
     },
     "execution_count": 9,
     "metadata": {},
     "output_type": "execute_result"
    }
   ],
   "source": [
    "x,y=next(iter(train_loader))\n",
    "print(x.shape)\n",
    "output=torch.argmax(torch.softmax(model(x),dim=1),dim=1)\n",
    "output"
   ]
  },
  {
   "cell_type": "code",
   "execution_count": 10,
   "id": "38616302-e36b-454b-be35-1fdcc2381f74",
   "metadata": {},
   "outputs": [
    {
     "data": {
      "text/plain": [
       "tensor([[0., 0., 1.],\n",
       "        [0., 1., 0.],\n",
       "        [1., 0., 0.],\n",
       "        [0., 0., 1.],\n",
       "        [0., 1., 0.],\n",
       "        [1., 0., 0.],\n",
       "        [1., 0., 0.],\n",
       "        [0., 1., 0.],\n",
       "        [0., 0., 1.],\n",
       "        [1., 0., 0.],\n",
       "        [0., 1., 0.],\n",
       "        [0., 1., 0.],\n",
       "        [0., 0., 1.],\n",
       "        [1., 0., 0.],\n",
       "        [1., 0., 0.],\n",
       "        [1., 0., 0.]])"
      ]
     },
     "execution_count": 10,
     "metadata": {},
     "output_type": "execute_result"
    }
   ],
   "source": [
    "y"
   ]
  },
  {
   "cell_type": "code",
   "execution_count": 11,
   "id": "c5594dc1-f705-4678-a61c-e966e23df2fb",
   "metadata": {},
   "outputs": [],
   "source": [
    "loss_fn=nn.CrossEntropyLoss()"
   ]
  },
  {
   "cell_type": "code",
   "execution_count": 12,
   "id": "868938d8-6971-48e2-abeb-54b71a964b76",
   "metadata": {},
   "outputs": [
    {
     "name": "stdout",
     "output_type": "stream",
     "text": [
      "tensor(1.1594)\n"
     ]
    }
   ],
   "source": [
    "with torch.inference_mode():\n",
    "    logits=model(x)\n",
    "    torch.eq(torch.argmax(torch.softmax(logits,dim=1),dim=1).squeeze(),torch.argmax(y,dim=1)).sum().item()/len(logits)\n",
    "    print(loss_fn(torch.squeeze(logits,dim=1),y))"
   ]
  },
  {
   "cell_type": "code",
   "execution_count": 13,
   "id": "1a41c7ed-2918-4f3f-98d9-64335e589a95",
   "metadata": {},
   "outputs": [],
   "source": [
    "model=model.to(device)"
   ]
  },
  {
   "cell_type": "code",
   "execution_count": 14,
   "id": "fd7cbb6c-9f8f-48b2-847f-9c01f392bf80",
   "metadata": {},
   "outputs": [],
   "source": [
    "def accuracy_fn(logits,true):\n",
    "    return torch.eq(torch.argmax(torch.softmax(logits,dim=1),dim=1).squeeze(),true).sum().item()/len(logits)\n",
    "\n",
    "def train_model(model,epochs):\n",
    "    optimizer=torch.optim.Adam(params=model.parameters())\n",
    "    loss_fn=nn.BCEWithLogitsLoss()\n",
    "    \n",
    "    for i in tqdm_notebook(range(epochs)):\n",
    "        train_preds=torch.tensor([])\n",
    "        val_preds=torch.tensor([])\n",
    "        train_actual=torch.tensor([])\n",
    "        val_actual=torch.tensor([])\n",
    "        \n",
    "        print(\"\\nTraining:\")\n",
    "        model.train()\n",
    "        \n",
    "        #Defining accuracy and loss for train and val data\n",
    "        temp_train_accuracy=[]\n",
    "        temp_val_accuracy=[]\n",
    "        temp_train_loss=[]\n",
    "        temp_val_loss=[]\n",
    "        #temp_train_f1=[]\n",
    "        #temp_val_f1=[]\n",
    "    \n",
    "        net_train_accuracy=0\n",
    "        net_val_accuracy=0\n",
    "        net_train_loss=0\n",
    "        net_val_loss=0\n",
    "        #net_train_f1=0\n",
    "        #net_val_f1=0\n",
    "        \n",
    "        with tqdm_notebook(total=len(train_loader)) as pbar:\n",
    "            for x,y in train_loader:\n",
    "                    x=x.to(device)\n",
    "                    y=y.to(device)\n",
    "        \n",
    "                    #Calculating model output\n",
    "                    logits=model(x)\n",
    "        \n",
    "                    #Reseting any old gradient values\n",
    "                    optimizer.zero_grad()\n",
    "                    loss=loss_fn(torch.squeeze(logits,dim=1),y)\n",
    "                \n",
    "                    #Track of metrics\n",
    "                    preds=torch.argmax(torch.softmax(logits,dim=1),dim=1).squeeze()\n",
    "                    #train_preds=torch.hstack((train_preds,preds.to(\"cpu\")))\n",
    "                    #train_actual=torch.hstack((train_actual,y.to(\"cpu\")))\n",
    "                    accuracy_train=accuracy_fn(logits.type(torch.float32),torch.argmax(y,dim=1))\n",
    "                    #f1_train=f1_fn(preds,y)\n",
    "                    temp_train_accuracy.append(accuracy_train)\n",
    "                    temp_train_loss.append(loss.item())\n",
    "                    #temp_train_f1.append(f1_train.item())\n",
    "                \n",
    "                    #Back Propogation\n",
    "                    loss.backward()\n",
    "                \n",
    "                    #Update Parameters\n",
    "                    optimizer.step()\n",
    "                \n",
    "                    #Progress Bar Update\n",
    "                    pbar.update(1)\n",
    "            pbar.close()\n",
    "        #Tensorboard & Metrics for the dataset\n",
    "        net_train_accuracy=sum(temp_train_accuracy)/len(temp_train_accuracy)\n",
    "        net_train_loss=sum(temp_train_loss)/len(temp_train_loss)\n",
    "        #net_train_f1=sum(temp_train_f1)/len(temp_train_f1)\n",
    "        #writer.add_scalar(\"Train Accuracy\",net_train_accuracy,i)\n",
    "        #writer.add_scalar(\"Train Loss\",net_train_loss,i)\n",
    "        #writer.add_scalar(\"Train F1 Score\",net_train_f1,i)\n",
    "    \n",
    "        #Evaluation\n",
    "        print(\"Testing:\")\n",
    "        model.eval()\n",
    "    \n",
    "        with tqdm_notebook(total=len(val_loader)) as pbar2:\n",
    "            for x,y in val_loader:\n",
    "                x=x.to(device)\n",
    "                y=y.to(device)\n",
    "                \n",
    "                #Setting inference mode\n",
    "                with torch.inference_mode():\n",
    "                    logits=model(x)\n",
    "                    loss=loss_fn(torch.squeeze(logits,dim=1),y.type(torch.float32))\n",
    "                    \n",
    "                    #Track of metrics\n",
    "                    preds=torch.argmax(torch.softmax(logits,dim=1),dim=1).squeeze()\n",
    "                    #val_preds=torch.hstack((val_preds,preds.to(\"cpu\")))\n",
    "                    #val_actual=torch.hstack((val_actual,y.to(\"cpu\")))\n",
    "                    accuracy_val=accuracy_fn(logits,torch.argmax(y,dim=1))\n",
    "                    #f1_val=f1_fn(preds,y)\n",
    "                    temp_val_accuracy.append(accuracy_val)\n",
    "                    temp_val_loss.append(loss.item())\n",
    "                    #temp_val_f1.append(f1_val.item())\n",
    "    \n",
    "                    #Progress Bar Update\n",
    "                    pbar2.update(1)\n",
    "            pbar2.close()\n",
    "    \n",
    "        #Tensorboard & Metrics for the dataset\n",
    "        net_val_accuracy=sum(temp_val_accuracy)/len(temp_val_accuracy)\n",
    "        net_val_loss=sum(temp_val_loss)/len(temp_val_loss)\n",
    "        #net_val_f1=sum(temp_val_f1)/len(temp_val_f1)\n",
    "        #writer.add_scalar(\"Val Accuracy\",net_val_accuracy,i)\n",
    "        #writer.add_scalar(\"Val Loss\",net_val_loss,i)\n",
    "        #writer.add_scalar(\"Val F1 Score\",net_val_f1,i)\n",
    "\n",
    "        \n",
    "        print(f\"\\nEpoch {i+1}:\\n\\nTrain Accuracy: {net_train_accuracy}\\n\\nTrain Loss: {net_train_loss}\\n\\nVal Accuracy: {net_val_accuracy}\\n\\nVal Loss: {net_val_loss}\")\n",
    "\n"
   ]
  },
  {
   "cell_type": "code",
   "execution_count": 15,
   "id": "1e9502ff-3f3c-48a4-92f4-b3649eb57612",
   "metadata": {},
   "outputs": [
    {
     "data": {
      "application/vnd.jupyter.widget-view+json": {
       "model_id": "d4ae3d1b399d488097b16931d8077248",
       "version_major": 2,
       "version_minor": 0
      },
      "text/plain": [
       "  0%|          | 0/10 [00:00<?, ?it/s]"
      ]
     },
     "metadata": {},
     "output_type": "display_data"
    },
    {
     "name": "stdout",
     "output_type": "stream",
     "text": [
      "\n",
      "Training:\n"
     ]
    },
    {
     "data": {
      "application/vnd.jupyter.widget-view+json": {
       "model_id": "2fc3465052284f6596bdacee1fb827c1",
       "version_major": 2,
       "version_minor": 0
      },
      "text/plain": [
       "  0%|          | 0/63 [00:00<?, ?it/s]"
      ]
     },
     "metadata": {},
     "output_type": "display_data"
    },
    {
     "name": "stdout",
     "output_type": "stream",
     "text": [
      "Testing:\n"
     ]
    },
    {
     "data": {
      "application/vnd.jupyter.widget-view+json": {
       "model_id": "fb6adab69f574e59acd5ed6c0d0b8795",
       "version_major": 2,
       "version_minor": 0
      },
      "text/plain": [
       "  0%|          | 0/63 [00:00<?, ?it/s]"
      ]
     },
     "metadata": {},
     "output_type": "display_data"
    },
    {
     "name": "stdout",
     "output_type": "stream",
     "text": [
      "\n",
      "Epoch 1:\n",
      "\n",
      "Train Accuracy: 0.8571428571428571\n",
      "\n",
      "Train Loss: 0.23640413029444596\n",
      "\n",
      "Val Accuracy: 0.8561507936507936\n",
      "\n",
      "Val Loss: 0.386452031262692\n",
      "\n",
      "Training:\n"
     ]
    },
    {
     "data": {
      "application/vnd.jupyter.widget-view+json": {
       "model_id": "0976d85c91144c508dc8a43fb745b959",
       "version_major": 2,
       "version_minor": 0
      },
      "text/plain": [
       "  0%|          | 0/63 [00:00<?, ?it/s]"
      ]
     },
     "metadata": {},
     "output_type": "display_data"
    },
    {
     "name": "stdout",
     "output_type": "stream",
     "text": [
      "Testing:\n"
     ]
    },
    {
     "data": {
      "application/vnd.jupyter.widget-view+json": {
       "model_id": "5397cf02822e4ce0a2554c007f2227f1",
       "version_major": 2,
       "version_minor": 0
      },
      "text/plain": [
       "  0%|          | 0/63 [00:00<?, ?it/s]"
      ]
     },
     "metadata": {},
     "output_type": "display_data"
    },
    {
     "name": "stdout",
     "output_type": "stream",
     "text": [
      "\n",
      "Epoch 2:\n",
      "\n",
      "Train Accuracy: 0.9632936507936508\n",
      "\n",
      "Train Loss: 0.07746026350096577\n",
      "\n",
      "Val Accuracy: 0.9781746031746031\n",
      "\n",
      "Val Loss: 0.07873021143799026\n",
      "\n",
      "Training:\n"
     ]
    },
    {
     "data": {
      "application/vnd.jupyter.widget-view+json": {
       "model_id": "e3ca430010504b5085f97941b8cc522a",
       "version_major": 2,
       "version_minor": 0
      },
      "text/plain": [
       "  0%|          | 0/63 [00:00<?, ?it/s]"
      ]
     },
     "metadata": {},
     "output_type": "display_data"
    },
    {
     "name": "stdout",
     "output_type": "stream",
     "text": [
      "Testing:\n"
     ]
    },
    {
     "data": {
      "application/vnd.jupyter.widget-view+json": {
       "model_id": "360159d441194ad1a429e378f1f73570",
       "version_major": 2,
       "version_minor": 0
      },
      "text/plain": [
       "  0%|          | 0/63 [00:00<?, ?it/s]"
      ]
     },
     "metadata": {},
     "output_type": "display_data"
    },
    {
     "name": "stdout",
     "output_type": "stream",
     "text": [
      "\n",
      "Epoch 3:\n",
      "\n",
      "Train Accuracy: 0.9543650793650794\n",
      "\n",
      "Train Loss: 0.10306981516565891\n",
      "\n",
      "Val Accuracy: 0.9375\n",
      "\n",
      "Val Loss: 0.1255808025746355\n",
      "\n",
      "Training:\n"
     ]
    },
    {
     "data": {
      "application/vnd.jupyter.widget-view+json": {
       "model_id": "797424a6a98c4896b8a2632badcff016",
       "version_major": 2,
       "version_minor": 0
      },
      "text/plain": [
       "  0%|          | 0/63 [00:00<?, ?it/s]"
      ]
     },
     "metadata": {},
     "output_type": "display_data"
    },
    {
     "name": "stdout",
     "output_type": "stream",
     "text": [
      "Testing:\n"
     ]
    },
    {
     "data": {
      "application/vnd.jupyter.widget-view+json": {
       "model_id": "5c2516d910eb4a5198a8e749c8ddee36",
       "version_major": 2,
       "version_minor": 0
      },
      "text/plain": [
       "  0%|          | 0/63 [00:00<?, ?it/s]"
      ]
     },
     "metadata": {},
     "output_type": "display_data"
    },
    {
     "name": "stdout",
     "output_type": "stream",
     "text": [
      "\n",
      "Epoch 4:\n",
      "\n",
      "Train Accuracy: 0.9742063492063492\n",
      "\n",
      "Train Loss: 0.05447440288059177\n",
      "\n",
      "Val Accuracy: 0.8630952380952381\n",
      "\n",
      "Val Loss: 0.3139295973297622\n",
      "\n",
      "Training:\n"
     ]
    },
    {
     "data": {
      "application/vnd.jupyter.widget-view+json": {
       "model_id": "b11321174bf9429cb53b2b436deb8d66",
       "version_major": 2,
       "version_minor": 0
      },
      "text/plain": [
       "  0%|          | 0/63 [00:00<?, ?it/s]"
      ]
     },
     "metadata": {},
     "output_type": "display_data"
    },
    {
     "name": "stdout",
     "output_type": "stream",
     "text": [
      "Testing:\n"
     ]
    },
    {
     "data": {
      "application/vnd.jupyter.widget-view+json": {
       "model_id": "dd377f3fca9e41f989fcdb81b6bafa46",
       "version_major": 2,
       "version_minor": 0
      },
      "text/plain": [
       "  0%|          | 0/63 [00:00<?, ?it/s]"
      ]
     },
     "metadata": {},
     "output_type": "display_data"
    },
    {
     "name": "stdout",
     "output_type": "stream",
     "text": [
      "\n",
      "Epoch 5:\n",
      "\n",
      "Train Accuracy: 0.9821428571428571\n",
      "\n",
      "Train Loss: 0.04883957158456305\n",
      "\n",
      "Val Accuracy: 0.9851190476190477\n",
      "\n",
      "Val Loss: 0.046681663719937205\n",
      "\n",
      "Training:\n"
     ]
    },
    {
     "data": {
      "application/vnd.jupyter.widget-view+json": {
       "model_id": "87072c570721486fbc73c59b97d8e13c",
       "version_major": 2,
       "version_minor": 0
      },
      "text/plain": [
       "  0%|          | 0/63 [00:00<?, ?it/s]"
      ]
     },
     "metadata": {},
     "output_type": "display_data"
    },
    {
     "name": "stdout",
     "output_type": "stream",
     "text": [
      "Testing:\n"
     ]
    },
    {
     "data": {
      "application/vnd.jupyter.widget-view+json": {
       "model_id": "3d298a3d78ea4b37b73d413df9b0c691",
       "version_major": 2,
       "version_minor": 0
      },
      "text/plain": [
       "  0%|          | 0/63 [00:00<?, ?it/s]"
      ]
     },
     "metadata": {},
     "output_type": "display_data"
    },
    {
     "name": "stdout",
     "output_type": "stream",
     "text": [
      "\n",
      "Epoch 6:\n",
      "\n",
      "Train Accuracy: 0.9761904761904762\n",
      "\n",
      "Train Loss: 0.05534308774041988\n",
      "\n",
      "Val Accuracy: 0.9811507936507936\n",
      "\n",
      "Val Loss: 0.04773591137269423\n",
      "\n",
      "Training:\n"
     ]
    },
    {
     "data": {
      "application/vnd.jupyter.widget-view+json": {
       "model_id": "d28d10e68c1841a6bf0e3ea75765a4fc",
       "version_major": 2,
       "version_minor": 0
      },
      "text/plain": [
       "  0%|          | 0/63 [00:00<?, ?it/s]"
      ]
     },
     "metadata": {},
     "output_type": "display_data"
    },
    {
     "name": "stdout",
     "output_type": "stream",
     "text": [
      "Testing:\n"
     ]
    },
    {
     "data": {
      "application/vnd.jupyter.widget-view+json": {
       "model_id": "1226a7ccc49b4fbcaf74ee6ba47bd53d",
       "version_major": 2,
       "version_minor": 0
      },
      "text/plain": [
       "  0%|          | 0/63 [00:00<?, ?it/s]"
      ]
     },
     "metadata": {},
     "output_type": "display_data"
    },
    {
     "name": "stdout",
     "output_type": "stream",
     "text": [
      "\n",
      "Epoch 7:\n",
      "\n",
      "Train Accuracy: 0.9623015873015873\n",
      "\n",
      "Train Loss: 0.10443071023901067\n",
      "\n",
      "Val Accuracy: 0.9464285714285714\n",
      "\n",
      "Val Loss: 0.0984080219197841\n",
      "\n",
      "Training:\n"
     ]
    },
    {
     "data": {
      "application/vnd.jupyter.widget-view+json": {
       "model_id": "e3bfac8020d34f799005f5076190ce8b",
       "version_major": 2,
       "version_minor": 0
      },
      "text/plain": [
       "  0%|          | 0/63 [00:00<?, ?it/s]"
      ]
     },
     "metadata": {},
     "output_type": "display_data"
    },
    {
     "name": "stdout",
     "output_type": "stream",
     "text": [
      "Testing:\n"
     ]
    },
    {
     "data": {
      "application/vnd.jupyter.widget-view+json": {
       "model_id": "8cde2c897b844a258983831b63dbfa03",
       "version_major": 2,
       "version_minor": 0
      },
      "text/plain": [
       "  0%|          | 0/63 [00:00<?, ?it/s]"
      ]
     },
     "metadata": {},
     "output_type": "display_data"
    },
    {
     "name": "stdout",
     "output_type": "stream",
     "text": [
      "\n",
      "Epoch 8:\n",
      "\n",
      "Train Accuracy: 0.9781746031746031\n",
      "\n",
      "Train Loss: 0.048131861018076066\n",
      "\n",
      "Val Accuracy: 0.9890873015873016\n",
      "\n",
      "Val Loss: 0.03145656391741738\n",
      "\n",
      "Training:\n"
     ]
    },
    {
     "data": {
      "application/vnd.jupyter.widget-view+json": {
       "model_id": "de96652e069b45e787217da9acab7e45",
       "version_major": 2,
       "version_minor": 0
      },
      "text/plain": [
       "  0%|          | 0/63 [00:00<?, ?it/s]"
      ]
     },
     "metadata": {},
     "output_type": "display_data"
    },
    {
     "name": "stdout",
     "output_type": "stream",
     "text": [
      "Testing:\n"
     ]
    },
    {
     "data": {
      "application/vnd.jupyter.widget-view+json": {
       "model_id": "5ecf0805c11e41869e81f28da9e18f5d",
       "version_major": 2,
       "version_minor": 0
      },
      "text/plain": [
       "  0%|          | 0/63 [00:00<?, ?it/s]"
      ]
     },
     "metadata": {},
     "output_type": "display_data"
    },
    {
     "name": "stdout",
     "output_type": "stream",
     "text": [
      "\n",
      "Epoch 9:\n",
      "\n",
      "Train Accuracy: 0.9821428571428571\n",
      "\n",
      "Train Loss: 0.052024760961695206\n",
      "\n",
      "Val Accuracy: 0.9851190476190477\n",
      "\n",
      "Val Loss: 0.0465735240473545\n",
      "\n",
      "Training:\n"
     ]
    },
    {
     "data": {
      "application/vnd.jupyter.widget-view+json": {
       "model_id": "338920ebb5e34292860bbcea0ef8cc72",
       "version_major": 2,
       "version_minor": 0
      },
      "text/plain": [
       "  0%|          | 0/63 [00:00<?, ?it/s]"
      ]
     },
     "metadata": {},
     "output_type": "display_data"
    },
    {
     "name": "stdout",
     "output_type": "stream",
     "text": [
      "Testing:\n"
     ]
    },
    {
     "data": {
      "application/vnd.jupyter.widget-view+json": {
       "model_id": "0559c9aba7b14babba78bcccd3fdfa93",
       "version_major": 2,
       "version_minor": 0
      },
      "text/plain": [
       "  0%|          | 0/63 [00:00<?, ?it/s]"
      ]
     },
     "metadata": {},
     "output_type": "display_data"
    },
    {
     "name": "stdout",
     "output_type": "stream",
     "text": [
      "\n",
      "Epoch 10:\n",
      "\n",
      "Train Accuracy: 0.9811507936507936\n",
      "\n",
      "Train Loss: 0.05120103285160093\n",
      "\n",
      "Val Accuracy: 0.9880952380952381\n",
      "\n",
      "Val Loss: 0.0364500444478518\n"
     ]
    }
   ],
   "source": [
    "train_model(model,10)"
   ]
  },
  {
   "cell_type": "code",
   "execution_count": 16,
   "id": "cd00509c-7642-4a4f-93c6-40a4780dcea7",
   "metadata": {},
   "outputs": [],
   "source": [
    "x,y=next(iter(val_loader))\n",
    "x=x.to(device)\n",
    "y=y.to(device)"
   ]
  },
  {
   "cell_type": "code",
   "execution_count": 17,
   "id": "1c2bc5a4-6529-40c1-b482-d27817cc902c",
   "metadata": {},
   "outputs": [
    {
     "name": "stdout",
     "output_type": "stream",
     "text": [
      "tensor([0, 0, 1, 0, 0, 2, 0, 0, 0, 2, 2, 2, 1, 0, 2, 2], device='cuda:0')\n"
     ]
    }
   ],
   "source": [
    "with torch.inference_mode():\n",
    "    output=torch.argmax(torch.softmax(model(x),dim=1),dim=1)\n",
    "    print(output)"
   ]
  },
  {
   "cell_type": "code",
   "execution_count": 18,
   "id": "26afe067-547a-47ef-9ff0-5e0e6e1200b6",
   "metadata": {},
   "outputs": [
    {
     "data": {
      "text/plain": [
       "tensor([0, 0, 1, 0, 0, 2, 0, 0, 0, 2, 2, 2, 1, 0, 2, 2], device='cuda:0')"
      ]
     },
     "execution_count": 18,
     "metadata": {},
     "output_type": "execute_result"
    }
   ],
   "source": [
    "torch.argmax(y,dim=1)"
   ]
  },
  {
   "cell_type": "code",
   "execution_count": 25,
   "id": "4ff6cd31-ec3e-4b53-bacc-ef1941a108eb",
   "metadata": {},
   "outputs": [
    {
     "name": "stdout",
     "output_type": "stream",
     "text": [
      "model size: 5.848MB\n"
     ]
    }
   ],
   "source": [
    "param_size = 0\n",
    "for param in model.parameters():\n",
    "    param_size += param.nelement() * param.element_size()\n",
    "buffer_size = 0\n",
    "for buffer in model.buffers():\n",
    "    buffer_size += buffer.nelement() * buffer.element_size()\n",
    "\n",
    "size_all_mb = (param_size + buffer_size) / 1024**2\n",
    "print('model size: {:.3f}MB'.format(size_all_mb))"
   ]
  },
  {
   "cell_type": "code",
   "execution_count": 26,
   "id": "c1db73df-2c16-47bb-922d-7459a6390b78",
   "metadata": {},
   "outputs": [
    {
     "name": "stdout",
     "output_type": "stream",
     "text": [
      "model size: 48669792 / bit | 6.08 / MB\n"
     ]
    }
   ],
   "source": [
    "size_model = 0\n",
    "for param in model.parameters():\n",
    "    if param.data.is_floating_point():\n",
    "        size_model += param.numel() * torch.finfo(param.data.dtype).bits\n",
    "    else:\n",
    "        size_model += param.numel() * torch.iinfo(param.data.dtype).bits\n",
    "print(f\"model size: {size_model} / bit | {size_model / 8e6:.2f} / MB\")"
   ]
  },
  {
   "cell_type": "code",
   "execution_count": null,
   "id": "93a8dade-4472-4606-85db-29919beb0240",
   "metadata": {},
   "outputs": [],
   "source": []
  }
 ],
 "metadata": {
  "kernelspec": {
   "display_name": "Python 3 (ipykernel)",
   "language": "python",
   "name": "python3"
  },
  "language_info": {
   "codemirror_mode": {
    "name": "ipython",
    "version": 3
   },
   "file_extension": ".py",
   "mimetype": "text/x-python",
   "name": "python",
   "nbconvert_exporter": "python",
   "pygments_lexer": "ipython3",
   "version": "3.11.5"
  }
 },
 "nbformat": 4,
 "nbformat_minor": 5
}
