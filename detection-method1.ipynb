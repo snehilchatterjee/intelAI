{
 "cells": [
  {
   "cell_type": "code",
   "execution_count": 1,
   "id": "88a1271c-ca1b-4251-bbb1-b7b85089ffb8",
   "metadata": {},
   "outputs": [
    {
     "name": "stdout",
     "output_type": "stream",
     "text": [
      "Using: cuda\n"
     ]
    }
   ],
   "source": [
    "import torch\n",
    "import torchvision\n",
    "import PIL\n",
    "import os\n",
    "from matplotlib import pyplot as plt\n",
    "import cv2\n",
    "import random\n",
    "import warnings\n",
    "import timm\n",
    "from torch import nn\n",
    "from tqdm import tqdm_notebook\n",
    "from torchvision.models import mobilenet_v3_small\n",
    "\n",
    "warnings.filterwarnings('ignore')\n",
    "\n",
    "device='cuda' if torch.cuda.is_available() else 'cpu'\n",
    "\n",
    "print(f'Using: {device}')\n"
   ]
  },
  {
   "cell_type": "code",
   "execution_count": 2,
   "id": "f7568d1c-a79d-4e9f-b09b-372b69bbcea0",
   "metadata": {},
   "outputs": [],
   "source": [
    "model=mobilenet_v3_small(weights='DEFAULT')\n",
    "model.classifier[3]=nn.Linear(in_features=1024,out_features=3,bias=True)"
   ]
  },
  {
   "cell_type": "code",
   "execution_count": 3,
   "id": "ea3a508d-8aa7-4b2a-ab69-9ab294961737",
   "metadata": {
    "scrolled": true
   },
   "outputs": [
    {
     "data": {
      "text/plain": [
       "MobileNetV3(\n",
       "  (features): Sequential(\n",
       "    (0): Conv2dNormActivation(\n",
       "      (0): Conv2d(3, 16, kernel_size=(3, 3), stride=(2, 2), padding=(1, 1), bias=False)\n",
       "      (1): BatchNorm2d(16, eps=0.001, momentum=0.01, affine=True, track_running_stats=True)\n",
       "      (2): Hardswish()\n",
       "    )\n",
       "    (1): InvertedResidual(\n",
       "      (block): Sequential(\n",
       "        (0): Conv2dNormActivation(\n",
       "          (0): Conv2d(16, 16, kernel_size=(3, 3), stride=(2, 2), padding=(1, 1), groups=16, bias=False)\n",
       "          (1): BatchNorm2d(16, eps=0.001, momentum=0.01, affine=True, track_running_stats=True)\n",
       "          (2): ReLU(inplace=True)\n",
       "        )\n",
       "        (1): SqueezeExcitation(\n",
       "          (avgpool): AdaptiveAvgPool2d(output_size=1)\n",
       "          (fc1): Conv2d(16, 8, kernel_size=(1, 1), stride=(1, 1))\n",
       "          (fc2): Conv2d(8, 16, kernel_size=(1, 1), stride=(1, 1))\n",
       "          (activation): ReLU()\n",
       "          (scale_activation): Hardsigmoid()\n",
       "        )\n",
       "        (2): Conv2dNormActivation(\n",
       "          (0): Conv2d(16, 16, kernel_size=(1, 1), stride=(1, 1), bias=False)\n",
       "          (1): BatchNorm2d(16, eps=0.001, momentum=0.01, affine=True, track_running_stats=True)\n",
       "        )\n",
       "      )\n",
       "    )\n",
       "    (2): InvertedResidual(\n",
       "      (block): Sequential(\n",
       "        (0): Conv2dNormActivation(\n",
       "          (0): Conv2d(16, 72, kernel_size=(1, 1), stride=(1, 1), bias=False)\n",
       "          (1): BatchNorm2d(72, eps=0.001, momentum=0.01, affine=True, track_running_stats=True)\n",
       "          (2): ReLU(inplace=True)\n",
       "        )\n",
       "        (1): Conv2dNormActivation(\n",
       "          (0): Conv2d(72, 72, kernel_size=(3, 3), stride=(2, 2), padding=(1, 1), groups=72, bias=False)\n",
       "          (1): BatchNorm2d(72, eps=0.001, momentum=0.01, affine=True, track_running_stats=True)\n",
       "          (2): ReLU(inplace=True)\n",
       "        )\n",
       "        (2): Conv2dNormActivation(\n",
       "          (0): Conv2d(72, 24, kernel_size=(1, 1), stride=(1, 1), bias=False)\n",
       "          (1): BatchNorm2d(24, eps=0.001, momentum=0.01, affine=True, track_running_stats=True)\n",
       "        )\n",
       "      )\n",
       "    )\n",
       "    (3): InvertedResidual(\n",
       "      (block): Sequential(\n",
       "        (0): Conv2dNormActivation(\n",
       "          (0): Conv2d(24, 88, kernel_size=(1, 1), stride=(1, 1), bias=False)\n",
       "          (1): BatchNorm2d(88, eps=0.001, momentum=0.01, affine=True, track_running_stats=True)\n",
       "          (2): ReLU(inplace=True)\n",
       "        )\n",
       "        (1): Conv2dNormActivation(\n",
       "          (0): Conv2d(88, 88, kernel_size=(3, 3), stride=(1, 1), padding=(1, 1), groups=88, bias=False)\n",
       "          (1): BatchNorm2d(88, eps=0.001, momentum=0.01, affine=True, track_running_stats=True)\n",
       "          (2): ReLU(inplace=True)\n",
       "        )\n",
       "        (2): Conv2dNormActivation(\n",
       "          (0): Conv2d(88, 24, kernel_size=(1, 1), stride=(1, 1), bias=False)\n",
       "          (1): BatchNorm2d(24, eps=0.001, momentum=0.01, affine=True, track_running_stats=True)\n",
       "        )\n",
       "      )\n",
       "    )\n",
       "    (4): InvertedResidual(\n",
       "      (block): Sequential(\n",
       "        (0): Conv2dNormActivation(\n",
       "          (0): Conv2d(24, 96, kernel_size=(1, 1), stride=(1, 1), bias=False)\n",
       "          (1): BatchNorm2d(96, eps=0.001, momentum=0.01, affine=True, track_running_stats=True)\n",
       "          (2): Hardswish()\n",
       "        )\n",
       "        (1): Conv2dNormActivation(\n",
       "          (0): Conv2d(96, 96, kernel_size=(5, 5), stride=(2, 2), padding=(2, 2), groups=96, bias=False)\n",
       "          (1): BatchNorm2d(96, eps=0.001, momentum=0.01, affine=True, track_running_stats=True)\n",
       "          (2): Hardswish()\n",
       "        )\n",
       "        (2): SqueezeExcitation(\n",
       "          (avgpool): AdaptiveAvgPool2d(output_size=1)\n",
       "          (fc1): Conv2d(96, 24, kernel_size=(1, 1), stride=(1, 1))\n",
       "          (fc2): Conv2d(24, 96, kernel_size=(1, 1), stride=(1, 1))\n",
       "          (activation): ReLU()\n",
       "          (scale_activation): Hardsigmoid()\n",
       "        )\n",
       "        (3): Conv2dNormActivation(\n",
       "          (0): Conv2d(96, 40, kernel_size=(1, 1), stride=(1, 1), bias=False)\n",
       "          (1): BatchNorm2d(40, eps=0.001, momentum=0.01, affine=True, track_running_stats=True)\n",
       "        )\n",
       "      )\n",
       "    )\n",
       "    (5): InvertedResidual(\n",
       "      (block): Sequential(\n",
       "        (0): Conv2dNormActivation(\n",
       "          (0): Conv2d(40, 240, kernel_size=(1, 1), stride=(1, 1), bias=False)\n",
       "          (1): BatchNorm2d(240, eps=0.001, momentum=0.01, affine=True, track_running_stats=True)\n",
       "          (2): Hardswish()\n",
       "        )\n",
       "        (1): Conv2dNormActivation(\n",
       "          (0): Conv2d(240, 240, kernel_size=(5, 5), stride=(1, 1), padding=(2, 2), groups=240, bias=False)\n",
       "          (1): BatchNorm2d(240, eps=0.001, momentum=0.01, affine=True, track_running_stats=True)\n",
       "          (2): Hardswish()\n",
       "        )\n",
       "        (2): SqueezeExcitation(\n",
       "          (avgpool): AdaptiveAvgPool2d(output_size=1)\n",
       "          (fc1): Conv2d(240, 64, kernel_size=(1, 1), stride=(1, 1))\n",
       "          (fc2): Conv2d(64, 240, kernel_size=(1, 1), stride=(1, 1))\n",
       "          (activation): ReLU()\n",
       "          (scale_activation): Hardsigmoid()\n",
       "        )\n",
       "        (3): Conv2dNormActivation(\n",
       "          (0): Conv2d(240, 40, kernel_size=(1, 1), stride=(1, 1), bias=False)\n",
       "          (1): BatchNorm2d(40, eps=0.001, momentum=0.01, affine=True, track_running_stats=True)\n",
       "        )\n",
       "      )\n",
       "    )\n",
       "    (6): InvertedResidual(\n",
       "      (block): Sequential(\n",
       "        (0): Conv2dNormActivation(\n",
       "          (0): Conv2d(40, 240, kernel_size=(1, 1), stride=(1, 1), bias=False)\n",
       "          (1): BatchNorm2d(240, eps=0.001, momentum=0.01, affine=True, track_running_stats=True)\n",
       "          (2): Hardswish()\n",
       "        )\n",
       "        (1): Conv2dNormActivation(\n",
       "          (0): Conv2d(240, 240, kernel_size=(5, 5), stride=(1, 1), padding=(2, 2), groups=240, bias=False)\n",
       "          (1): BatchNorm2d(240, eps=0.001, momentum=0.01, affine=True, track_running_stats=True)\n",
       "          (2): Hardswish()\n",
       "        )\n",
       "        (2): SqueezeExcitation(\n",
       "          (avgpool): AdaptiveAvgPool2d(output_size=1)\n",
       "          (fc1): Conv2d(240, 64, kernel_size=(1, 1), stride=(1, 1))\n",
       "          (fc2): Conv2d(64, 240, kernel_size=(1, 1), stride=(1, 1))\n",
       "          (activation): ReLU()\n",
       "          (scale_activation): Hardsigmoid()\n",
       "        )\n",
       "        (3): Conv2dNormActivation(\n",
       "          (0): Conv2d(240, 40, kernel_size=(1, 1), stride=(1, 1), bias=False)\n",
       "          (1): BatchNorm2d(40, eps=0.001, momentum=0.01, affine=True, track_running_stats=True)\n",
       "        )\n",
       "      )\n",
       "    )\n",
       "    (7): InvertedResidual(\n",
       "      (block): Sequential(\n",
       "        (0): Conv2dNormActivation(\n",
       "          (0): Conv2d(40, 120, kernel_size=(1, 1), stride=(1, 1), bias=False)\n",
       "          (1): BatchNorm2d(120, eps=0.001, momentum=0.01, affine=True, track_running_stats=True)\n",
       "          (2): Hardswish()\n",
       "        )\n",
       "        (1): Conv2dNormActivation(\n",
       "          (0): Conv2d(120, 120, kernel_size=(5, 5), stride=(1, 1), padding=(2, 2), groups=120, bias=False)\n",
       "          (1): BatchNorm2d(120, eps=0.001, momentum=0.01, affine=True, track_running_stats=True)\n",
       "          (2): Hardswish()\n",
       "        )\n",
       "        (2): SqueezeExcitation(\n",
       "          (avgpool): AdaptiveAvgPool2d(output_size=1)\n",
       "          (fc1): Conv2d(120, 32, kernel_size=(1, 1), stride=(1, 1))\n",
       "          (fc2): Conv2d(32, 120, kernel_size=(1, 1), stride=(1, 1))\n",
       "          (activation): ReLU()\n",
       "          (scale_activation): Hardsigmoid()\n",
       "        )\n",
       "        (3): Conv2dNormActivation(\n",
       "          (0): Conv2d(120, 48, kernel_size=(1, 1), stride=(1, 1), bias=False)\n",
       "          (1): BatchNorm2d(48, eps=0.001, momentum=0.01, affine=True, track_running_stats=True)\n",
       "        )\n",
       "      )\n",
       "    )\n",
       "    (8): InvertedResidual(\n",
       "      (block): Sequential(\n",
       "        (0): Conv2dNormActivation(\n",
       "          (0): Conv2d(48, 144, kernel_size=(1, 1), stride=(1, 1), bias=False)\n",
       "          (1): BatchNorm2d(144, eps=0.001, momentum=0.01, affine=True, track_running_stats=True)\n",
       "          (2): Hardswish()\n",
       "        )\n",
       "        (1): Conv2dNormActivation(\n",
       "          (0): Conv2d(144, 144, kernel_size=(5, 5), stride=(1, 1), padding=(2, 2), groups=144, bias=False)\n",
       "          (1): BatchNorm2d(144, eps=0.001, momentum=0.01, affine=True, track_running_stats=True)\n",
       "          (2): Hardswish()\n",
       "        )\n",
       "        (2): SqueezeExcitation(\n",
       "          (avgpool): AdaptiveAvgPool2d(output_size=1)\n",
       "          (fc1): Conv2d(144, 40, kernel_size=(1, 1), stride=(1, 1))\n",
       "          (fc2): Conv2d(40, 144, kernel_size=(1, 1), stride=(1, 1))\n",
       "          (activation): ReLU()\n",
       "          (scale_activation): Hardsigmoid()\n",
       "        )\n",
       "        (3): Conv2dNormActivation(\n",
       "          (0): Conv2d(144, 48, kernel_size=(1, 1), stride=(1, 1), bias=False)\n",
       "          (1): BatchNorm2d(48, eps=0.001, momentum=0.01, affine=True, track_running_stats=True)\n",
       "        )\n",
       "      )\n",
       "    )\n",
       "    (9): InvertedResidual(\n",
       "      (block): Sequential(\n",
       "        (0): Conv2dNormActivation(\n",
       "          (0): Conv2d(48, 288, kernel_size=(1, 1), stride=(1, 1), bias=False)\n",
       "          (1): BatchNorm2d(288, eps=0.001, momentum=0.01, affine=True, track_running_stats=True)\n",
       "          (2): Hardswish()\n",
       "        )\n",
       "        (1): Conv2dNormActivation(\n",
       "          (0): Conv2d(288, 288, kernel_size=(5, 5), stride=(2, 2), padding=(2, 2), groups=288, bias=False)\n",
       "          (1): BatchNorm2d(288, eps=0.001, momentum=0.01, affine=True, track_running_stats=True)\n",
       "          (2): Hardswish()\n",
       "        )\n",
       "        (2): SqueezeExcitation(\n",
       "          (avgpool): AdaptiveAvgPool2d(output_size=1)\n",
       "          (fc1): Conv2d(288, 72, kernel_size=(1, 1), stride=(1, 1))\n",
       "          (fc2): Conv2d(72, 288, kernel_size=(1, 1), stride=(1, 1))\n",
       "          (activation): ReLU()\n",
       "          (scale_activation): Hardsigmoid()\n",
       "        )\n",
       "        (3): Conv2dNormActivation(\n",
       "          (0): Conv2d(288, 96, kernel_size=(1, 1), stride=(1, 1), bias=False)\n",
       "          (1): BatchNorm2d(96, eps=0.001, momentum=0.01, affine=True, track_running_stats=True)\n",
       "        )\n",
       "      )\n",
       "    )\n",
       "    (10): InvertedResidual(\n",
       "      (block): Sequential(\n",
       "        (0): Conv2dNormActivation(\n",
       "          (0): Conv2d(96, 576, kernel_size=(1, 1), stride=(1, 1), bias=False)\n",
       "          (1): BatchNorm2d(576, eps=0.001, momentum=0.01, affine=True, track_running_stats=True)\n",
       "          (2): Hardswish()\n",
       "        )\n",
       "        (1): Conv2dNormActivation(\n",
       "          (0): Conv2d(576, 576, kernel_size=(5, 5), stride=(1, 1), padding=(2, 2), groups=576, bias=False)\n",
       "          (1): BatchNorm2d(576, eps=0.001, momentum=0.01, affine=True, track_running_stats=True)\n",
       "          (2): Hardswish()\n",
       "        )\n",
       "        (2): SqueezeExcitation(\n",
       "          (avgpool): AdaptiveAvgPool2d(output_size=1)\n",
       "          (fc1): Conv2d(576, 144, kernel_size=(1, 1), stride=(1, 1))\n",
       "          (fc2): Conv2d(144, 576, kernel_size=(1, 1), stride=(1, 1))\n",
       "          (activation): ReLU()\n",
       "          (scale_activation): Hardsigmoid()\n",
       "        )\n",
       "        (3): Conv2dNormActivation(\n",
       "          (0): Conv2d(576, 96, kernel_size=(1, 1), stride=(1, 1), bias=False)\n",
       "          (1): BatchNorm2d(96, eps=0.001, momentum=0.01, affine=True, track_running_stats=True)\n",
       "        )\n",
       "      )\n",
       "    )\n",
       "    (11): InvertedResidual(\n",
       "      (block): Sequential(\n",
       "        (0): Conv2dNormActivation(\n",
       "          (0): Conv2d(96, 576, kernel_size=(1, 1), stride=(1, 1), bias=False)\n",
       "          (1): BatchNorm2d(576, eps=0.001, momentum=0.01, affine=True, track_running_stats=True)\n",
       "          (2): Hardswish()\n",
       "        )\n",
       "        (1): Conv2dNormActivation(\n",
       "          (0): Conv2d(576, 576, kernel_size=(5, 5), stride=(1, 1), padding=(2, 2), groups=576, bias=False)\n",
       "          (1): BatchNorm2d(576, eps=0.001, momentum=0.01, affine=True, track_running_stats=True)\n",
       "          (2): Hardswish()\n",
       "        )\n",
       "        (2): SqueezeExcitation(\n",
       "          (avgpool): AdaptiveAvgPool2d(output_size=1)\n",
       "          (fc1): Conv2d(576, 144, kernel_size=(1, 1), stride=(1, 1))\n",
       "          (fc2): Conv2d(144, 576, kernel_size=(1, 1), stride=(1, 1))\n",
       "          (activation): ReLU()\n",
       "          (scale_activation): Hardsigmoid()\n",
       "        )\n",
       "        (3): Conv2dNormActivation(\n",
       "          (0): Conv2d(576, 96, kernel_size=(1, 1), stride=(1, 1), bias=False)\n",
       "          (1): BatchNorm2d(96, eps=0.001, momentum=0.01, affine=True, track_running_stats=True)\n",
       "        )\n",
       "      )\n",
       "    )\n",
       "    (12): Conv2dNormActivation(\n",
       "      (0): Conv2d(96, 576, kernel_size=(1, 1), stride=(1, 1), bias=False)\n",
       "      (1): BatchNorm2d(576, eps=0.001, momentum=0.01, affine=True, track_running_stats=True)\n",
       "      (2): Hardswish()\n",
       "    )\n",
       "  )\n",
       "  (avgpool): AdaptiveAvgPool2d(output_size=1)\n",
       "  (classifier): Sequential(\n",
       "    (0): Linear(in_features=576, out_features=1024, bias=True)\n",
       "    (1): Hardswish()\n",
       "    (2): Dropout(p=0.2, inplace=True)\n",
       "    (3): Linear(in_features=1024, out_features=3, bias=True)\n",
       "  )\n",
       ")"
      ]
     },
     "execution_count": 3,
     "metadata": {},
     "output_type": "execute_result"
    }
   ],
   "source": [
    "model"
   ]
  },
  {
   "cell_type": "code",
   "execution_count": 4,
   "id": "3201886e-3b74-4721-8277-1510b9e9d26e",
   "metadata": {},
   "outputs": [],
   "source": [
    "class dataset(torch.utils.data.Dataset):\n",
    "    def __init__(self,src):\n",
    "        self.src=src\n",
    "        self.images=os.listdir(src)\n",
    "        self.transforms=torchvision.models.MobileNet_V3_Small_Weights.IMAGENET1K_V1.transforms()\n",
    "    \n",
    "    def __len__(self):\n",
    "        return len(self.images)\n",
    "\n",
    "    def apply_mosaic(self,image, top_left_x, top_left_y, width, height, mosaic_size):\n",
    "        \"\"\"\n",
    "        Apply a mosaic effect to a specific area of the image.\n",
    "    \n",
    "        :param image: The original image.\n",
    "        :param top_left_x: Top left x-coordinate of the mosaic area.\n",
    "        :param top_left_y: Top left y-coordinate of the mosaic area.\n",
    "        :param width: Width of the mosaic area.\n",
    "        :param height: Height of the mosaic area.\n",
    "        :param mosaic_size: Size of the mosaic blocks.\n",
    "        \"\"\"\n",
    "        # Extract the region of interest\n",
    "        roi = image[top_left_y:top_left_y+height, top_left_x:top_left_x+width]\n",
    "    \n",
    "        #plt.imshow(roi)\n",
    "        \n",
    "        # Resize to mosaic size (downscale)\n",
    "        roi_small = cv2.resize(roi, (mosaic_size, mosaic_size), interpolation=cv2.INTER_LINEAR)\n",
    "    \n",
    "        # Resize back to original size (upscale)\n",
    "        mosaic = cv2.resize(roi_small, (width, height), interpolation=cv2.INTER_NEAREST)\n",
    "        \n",
    "        # Place the mosaic back into the original image\n",
    "        image[top_left_y:top_left_y+height, top_left_x:top_left_x+width] = mosaic\n",
    "        return image\n",
    "\n",
    "\n",
    "    def __getitem__(self,idx):\n",
    "        img=cv2.imread(self.src+\"/\"+self.images[idx])\n",
    "\n",
    "        pixelize=random.randint(0,1)\n",
    "        \n",
    "        if(pixelize):\n",
    "\n",
    "            downsize=random.randint(0,1)\n",
    "\n",
    "            if(downsize):\n",
    "                image=img\n",
    "                \n",
    "                original_height, original_width = image.shape[:2]\n",
    "\n",
    "                # Choose the scale factor (5 or 6)\n",
    "                scale_factor = 6\n",
    "                \n",
    "                # Calculate the new dimensions\n",
    "                new_width = original_width // scale_factor\n",
    "                new_height = original_height // scale_factor\n",
    "                \n",
    "                # Resize the image down by the scale factor\n",
    "                downscaled_image = cv2.resize(image, (new_width, new_height), interpolation=cv2.INTER_LINEAR)\n",
    "                \n",
    "                # Resize the image back to the original size\n",
    "                upscaled_image = torch.from_numpy(cv2.resize(downscaled_image, (original_width, original_height), interpolation=cv2.INTER_LINEAR)).permute(2,0,1)\n",
    "\n",
    "                return self.transforms(upscaled_image), torch.tensor([0,0,1]).type(torch.float32)\n",
    "                                \n",
    "            else:\n",
    "                img_height, img_width = img.shape[:2]\n",
    "        \n",
    "                # Define the size of the mosaic area\n",
    "                mosaic_width = random.randint(50,200)\n",
    "                mosaic_height = random.randint(50,200)\n",
    "                mosaic_size = random.randint(5,10)  # Size of each mosaic block\n",
    "                \n",
    "                # Randomly pick a spot\n",
    "                top_left_x = random.randint(0, img_width - mosaic_width)\n",
    "                top_left_y = random.randint(0, img_height - mosaic_height)\n",
    "                \n",
    "                # Apply the mosaic effect\n",
    "                output_image = torch.from_numpy(self.apply_mosaic(img, top_left_x, top_left_y, mosaic_width, mosaic_height, mosaic_size)).permute(2,0,1)\n",
    "    \n",
    "                #print(output_image.type(torch.float32).permute(1,2,0).shape)\n",
    "                #return self.transforms(output_image.type(torch.float32).permute(1,2,0)), pixelize\n",
    "                return self.transforms(output_image), torch.tensor([0,1,0]).type(torch.float32)\n",
    "\n",
    "        else:\n",
    "            #print(torch.from_numpy(img).type(torch.float32).shape)\n",
    "            #return self.transforms(torch.from_numpy(img).type(torch.float32)), pixelize\n",
    "            return self.transforms(torch.from_numpy(img).permute(2,0,1)),torch.tensor([1,0,0]).type(torch.float32)\n",
    "        "
   ]
  },
  {
   "cell_type": "code",
   "execution_count": 5,
   "id": "89559b78-34f8-4468-983a-541c9d0ac057",
   "metadata": {},
   "outputs": [],
   "source": [
    "train_ds=dataset(\"./temp/food-101/images/tuna_tartare/\")\n",
    "test_ds=dataset(\"./temp/food-101/images/waffles/\")"
   ]
  },
  {
   "cell_type": "code",
   "execution_count": 6,
   "id": "79c2fd07-62e6-4531-a6ef-ad01c2b11921",
   "metadata": {},
   "outputs": [
    {
     "name": "stderr",
     "output_type": "stream",
     "text": [
      "Clipping input data to the valid range for imshow with RGB data ([0..1] for floats or [0..255] for integers).\n"
     ]
    },
    {
     "name": "stdout",
     "output_type": "stream",
     "text": [
      "torch.Size([3, 224, 224])\n",
      "tensor([1., 0., 0.])\n"
     ]
    },
    {
     "data": {
      "image/png": "[encoded data removed]",
      "text/plain": [
       "<Figure size 640x480 with 1 Axes>"
      ]
     },
     "metadata": {},
     "output_type": "display_data"
    }
   ],
   "source": [
    "plt.axis(False)\n",
    "t=train_ds.__getitem__(torch.randint(0,1000,(1,)))\n",
    "print(t[0].shape)\n",
    "plt.imshow(t[0].permute(1,2,0))\n",
    "print(t[1])"
   ]
  },
  {
   "cell_type": "code",
   "execution_count": 7,
   "id": "ecdd4ebe-2a6a-4d88-aa36-d07e2e3f53d0",
   "metadata": {},
   "outputs": [
    {
     "data": {
      "text/plain": [
       "ImageClassification(\n",
       "    crop_size=[224]\n",
       "    resize_size=[256]\n",
       "    mean=[0.485, 0.456, 0.406]\n",
       "    std=[0.229, 0.224, 0.225]\n",
       "    interpolation=InterpolationMode.BILINEAR\n",
       ")"
      ]
     },
     "execution_count": 7,
     "metadata": {},
     "output_type": "execute_result"
    }
   ],
   "source": [
    "torchvision.models.MobileNet_V3_Small_Weights.IMAGENET1K_V1.transforms()"
   ]
  },
  {
   "cell_type": "code",
   "execution_count": 8,
   "id": "464a77e7-82dc-4009-8c5c-d14fff8283f4",
   "metadata": {},
   "outputs": [],
   "source": [
    "train_loader=torch.utils.data.DataLoader(train_ds,16,shuffle=True)\n",
    "val_loader=torch.utils.data.DataLoader(test_ds,16,shuffle=True)"
   ]
  },
  {
   "cell_type": "code",
   "execution_count": 9,
   "id": "368f41a7-41c2-4539-8e97-2ae95d8ac628",
   "metadata": {},
   "outputs": [
    {
     "name": "stdout",
     "output_type": "stream",
     "text": [
      "torch.Size([16, 3, 224, 224])\n"
     ]
    },
    {
     "data": {
      "text/plain": [
       "tensor([1, 0, 0, 1, 0, 2, 0, 0, 0, 0, 2, 2, 2, 0, 1, 0])"
      ]
     },
     "execution_count": 9,
     "metadata": {},
     "output_type": "execute_result"
    }
   ],
   "source": [
    "x,y=next(iter(train_loader))\n",
    "print(x.shape)\n",
    "output=torch.argmax(torch.softmax(model(x),dim=1),dim=1)\n",
    "output"
   ]
  },
  {
   "cell_type": "code",
   "execution_count": 10,
   "id": "38616302-e36b-454b-be35-1fdcc2381f74",
   "metadata": {},
   "outputs": [
    {
     "data": {
      "text/plain": [
       "tensor([[0., 1., 0.],\n",
       "        [0., 0., 1.],\n",
       "        [0., 1., 0.],\n",
       "        [0., 1., 0.],\n",
       "        [0., 1., 0.],\n",
       "        [0., 1., 0.],\n",
       "        [0., 0., 1.],\n",
       "        [0., 1., 0.],\n",
       "        [0., 0., 1.],\n",
       "        [0., 1., 0.],\n",
       "        [1., 0., 0.],\n",
       "        [1., 0., 0.],\n",
       "        [1., 0., 0.],\n",
       "        [0., 0., 1.],\n",
       "        [0., 1., 0.],\n",
       "        [0., 1., 0.]])"
      ]
     },
     "execution_count": 10,
     "metadata": {},
     "output_type": "execute_result"
    }
   ],
   "source": [
    "y"
   ]
  },
  {
   "cell_type": "code",
   "execution_count": 11,
   "id": "c5594dc1-f705-4678-a61c-e966e23df2fb",
   "metadata": {},
   "outputs": [],
   "source": [
    "loss_fn=nn.CrossEntropyLoss()"
   ]
  },
  {
   "cell_type": "code",
   "execution_count": 12,
   "id": "868938d8-6971-48e2-abeb-54b71a964b76",
   "metadata": {},
   "outputs": [
    {
     "name": "stdout",
     "output_type": "stream",
     "text": [
      "tensor(1.2911)\n"
     ]
    }
   ],
   "source": [
    "with torch.inference_mode():\n",
    "    logits=model(x)\n",
    "    torch.eq(torch.argmax(torch.softmax(logits,dim=1),dim=1).squeeze(),torch.argmax(y,dim=1)).sum().item()/len(logits)\n",
    "    print(loss_fn(torch.squeeze(logits,dim=1),y))"
   ]
  },
  {
   "cell_type": "code",
   "execution_count": 13,
   "id": "1a41c7ed-2918-4f3f-98d9-64335e589a95",
   "metadata": {},
   "outputs": [],
   "source": [
    "model=model.to(device)"
   ]
  },
  {
   "cell_type": "code",
   "execution_count": 14,
   "id": "fd7cbb6c-9f8f-48b2-847f-9c01f392bf80",
   "metadata": {},
   "outputs": [],
   "source": [
    "def accuracy_fn(logits,true):\n",
    "    return torch.eq(torch.argmax(torch.softmax(logits,dim=1),dim=1).squeeze(),true).sum().item()/len(logits)\n",
    "\n",
    "def train_model(model,epochs):\n",
    "    optimizer=torch.optim.Adam(params=model.parameters())\n",
    "    loss_fn=nn.CrossEntropyLoss()\n",
    "\n",
    "    max_acc=0\n",
    "    for i in tqdm_notebook(range(epochs)):\n",
    "        train_preds=torch.tensor([])\n",
    "        val_preds=torch.tensor([])\n",
    "        train_actual=torch.tensor([])\n",
    "        val_actual=torch.tensor([])\n",
    "        \n",
    "        print(\"\\nTraining:\")\n",
    "        model.train()\n",
    "        \n",
    "        #Defining accuracy and loss for train and val data\n",
    "        temp_train_accuracy=[]\n",
    "        temp_val_accuracy=[]\n",
    "        temp_train_loss=[]\n",
    "        temp_val_loss=[]\n",
    "        #temp_train_f1=[]\n",
    "        #temp_val_f1=[]\n",
    "    \n",
    "        net_train_accuracy=0\n",
    "        net_val_accuracy=0\n",
    "        net_train_loss=0\n",
    "        net_val_loss=0\n",
    "        #net_train_f1=0\n",
    "        #net_val_f1=0\n",
    "        \n",
    "        with tqdm_notebook(total=len(train_loader)) as pbar:\n",
    "            for x,y in train_loader:\n",
    "                    x=x.to(device)\n",
    "                    y=y.to(device)\n",
    "        \n",
    "                    #Calculating model output\n",
    "                    logits=model(x)\n",
    "        \n",
    "                    #Reseting any old gradient values\n",
    "                    optimizer.zero_grad()\n",
    "                    loss=loss_fn(torch.squeeze(logits,dim=1),y)\n",
    "                \n",
    "                    #Track of metrics\n",
    "                    preds=torch.argmax(torch.softmax(logits,dim=1),dim=1).squeeze()\n",
    "                    #train_preds=torch.hstack((train_preds,preds.to(\"cpu\")))\n",
    "                    #train_actual=torch.hstack((train_actual,y.to(\"cpu\")))\n",
    "                    accuracy_train=accuracy_fn(logits.type(torch.float32),torch.argmax(y,dim=1))\n",
    "                    #f1_train=f1_fn(preds,y)\n",
    "                    temp_train_accuracy.append(accuracy_train)\n",
    "                    temp_train_loss.append(loss.item())\n",
    "                    #temp_train_f1.append(f1_train.item())\n",
    "                \n",
    "                    #Back Propogation\n",
    "                    loss.backward()\n",
    "                \n",
    "                    #Update Parameters\n",
    "                    optimizer.step()\n",
    "                \n",
    "                    #Progress Bar Update\n",
    "                    pbar.update(1)\n",
    "            pbar.close()\n",
    "        #Tensorboard & Metrics for the dataset\n",
    "        net_train_accuracy=sum(temp_train_accuracy)/len(temp_train_accuracy)\n",
    "        net_train_loss=sum(temp_train_loss)/len(temp_train_loss)\n",
    "        #net_train_f1=sum(temp_train_f1)/len(temp_train_f1)\n",
    "        #writer.add_scalar(\"Train Accuracy\",net_train_accuracy,i)\n",
    "        #writer.add_scalar(\"Train Loss\",net_train_loss,i)\n",
    "        #writer.add_scalar(\"Train F1 Score\",net_train_f1,i)\n",
    "    \n",
    "        #Evaluation\n",
    "        print(\"Testing:\")\n",
    "        model.eval()\n",
    "\n",
    "        \n",
    "    \n",
    "        with tqdm_notebook(total=len(val_loader)) as pbar2:\n",
    "            for x,y in val_loader:\n",
    "                x=x.to(device)\n",
    "                y=y.to(device)\n",
    "                \n",
    "                #Setting inference mode\n",
    "                with torch.inference_mode():\n",
    "                    logits=model(x)\n",
    "                    loss=loss_fn(torch.squeeze(logits,dim=1),y.type(torch.float32))\n",
    "                    \n",
    "                    #Track of metrics\n",
    "                    preds=torch.argmax(torch.softmax(logits,dim=1),dim=1).squeeze()\n",
    "                    #val_preds=torch.hstack((val_preds,preds.to(\"cpu\")))\n",
    "                    #val_actual=torch.hstack((val_actual,y.to(\"cpu\")))\n",
    "                    accuracy_val=accuracy_fn(logits,torch.argmax(y,dim=1))\n",
    "                    #f1_val=f1_fn(preds,y)\n",
    "                    temp_val_accuracy.append(accuracy_val)\n",
    "                    temp_val_loss.append(loss.item())\n",
    "                    #temp_val_f1.append(f1_val.item())\n",
    "    \n",
    "                    #Progress Bar Update\n",
    "                    pbar2.update(1)\n",
    "            pbar2.close()\n",
    "    \n",
    "        #Tensorboard & Metrics for the dataset\n",
    "        net_val_accuracy=sum(temp_val_accuracy)/len(temp_val_accuracy)\n",
    "        net_val_loss=sum(temp_val_loss)/len(temp_val_loss)\n",
    "        #net_val_f1=sum(temp_val_f1)/len(temp_val_f1)\n",
    "        #writer.add_scalar(\"Val Accuracy\",net_val_accuracy,i)\n",
    "        #writer.add_scalar(\"Val Loss\",net_val_loss,i)\n",
    "        #writer.add_scalar(\"Val F1 Score\",net_val_f1,i)\n",
    "\n",
    "        if(net_val_accuracy>max_acc):\n",
    "            max_acc=net_val_accuracy\n",
    "            print(f'Saving model')\n",
    "            torch.save(model.state_dict(),f'method1.pt')\n",
    "        \n",
    "        print(f\"\\nEpoch {i+1}:\\n\\nTrain Accuracy: {net_train_accuracy}\\n\\nTrain Loss: {net_train_loss}\\n\\nVal Accuracy: {net_val_accuracy}\\n\\nVal Loss: {net_val_loss}\")\n",
    "\n"
   ]
  },
  {
   "cell_type": "code",
   "execution_count": 15,
   "id": "1e9502ff-3f3c-48a4-92f4-b3649eb57612",
   "metadata": {},
   "outputs": [
    {
     "data": {
      "application/vnd.jupyter.widget-view+json": {
       "model_id": "ddcf3b009f2b41769302f00820727a7c",
       "version_major": 2,
       "version_minor": 0
      },
      "text/plain": [
       "  0%|          | 0/20 [00:00<?, ?it/s]"
      ]
     },
     "metadata": {},
     "output_type": "display_data"
    },
    {
     "name": "stdout",
     "output_type": "stream",
     "text": [
      "\n",
      "Training:\n"
     ]
    },
    {
     "data": {
      "application/vnd.jupyter.widget-view+json": {
       "model_id": "4b059cdca5224dbf855dc1ecd6b916bd",
       "version_major": 2,
       "version_minor": 0
      },
      "text/plain": [
       "  0%|          | 0/63 [00:00<?, ?it/s]"
      ]
     },
     "metadata": {},
     "output_type": "display_data"
    },
    {
     "name": "stdout",
     "output_type": "stream",
     "text": [
      "Testing:\n"
     ]
    },
    {
     "data": {
      "application/vnd.jupyter.widget-view+json": {
       "model_id": "1c95f29acff245a4b88371c012b8d124",
       "version_major": 2,
       "version_minor": 0
      },
      "text/plain": [
       "  0%|          | 0/63 [00:00<?, ?it/s]"
      ]
     },
     "metadata": {},
     "output_type": "display_data"
    },
    {
     "name": "stdout",
     "output_type": "stream",
     "text": [
      "Saving model\n",
      "\n",
      "Epoch 1:\n",
      "\n",
      "Train Accuracy: 0.816468253968254\n",
      "\n",
      "Train Loss: 0.46243928168855963\n",
      "\n",
      "Val Accuracy: 0.8799603174603174\n",
      "\n",
      "Val Loss: 0.3566776752353661\n",
      "\n",
      "Training:\n"
     ]
    },
    {
     "data": {
      "application/vnd.jupyter.widget-view+json": {
       "model_id": "5a102c3fe91644b2a8d25ffd2ab53376",
       "version_major": 2,
       "version_minor": 0
      },
      "text/plain": [
       "  0%|          | 0/63 [00:00<?, ?it/s]"
      ]
     },
     "metadata": {},
     "output_type": "display_data"
    },
    {
     "name": "stdout",
     "output_type": "stream",
     "text": [
      "Testing:\n"
     ]
    },
    {
     "data": {
      "application/vnd.jupyter.widget-view+json": {
       "model_id": "738abd9fa22a472796cf7e5b1ab26231",
       "version_major": 2,
       "version_minor": 0
      },
      "text/plain": [
       "  0%|          | 0/63 [00:00<?, ?it/s]"
      ]
     },
     "metadata": {},
     "output_type": "display_data"
    },
    {
     "name": "stdout",
     "output_type": "stream",
     "text": [
      "Saving model\n",
      "\n",
      "Epoch 2:\n",
      "\n",
      "Train Accuracy: 0.9384920634920635\n",
      "\n",
      "Train Loss: 0.21072456984233762\n",
      "\n",
      "Val Accuracy: 0.9503968253968254\n",
      "\n",
      "Val Loss: 0.17110945717505519\n",
      "\n",
      "Training:\n"
     ]
    },
    {
     "data": {
      "application/vnd.jupyter.widget-view+json": {
       "model_id": "d12a9ef1621f44e6bf0db005ea5ae855",
       "version_major": 2,
       "version_minor": 0
      },
      "text/plain": [
       "  0%|          | 0/63 [00:00<?, ?it/s]"
      ]
     },
     "metadata": {},
     "output_type": "display_data"
    },
    {
     "name": "stdout",
     "output_type": "stream",
     "text": [
      "Testing:\n"
     ]
    },
    {
     "data": {
      "application/vnd.jupyter.widget-view+json": {
       "model_id": "0bc5673906634c1eb0f2bc02313538f3",
       "version_major": 2,
       "version_minor": 0
      },
      "text/plain": [
       "  0%|          | 0/63 [00:00<?, ?it/s]"
      ]
     },
     "metadata": {},
     "output_type": "display_data"
    },
    {
     "name": "stdout",
     "output_type": "stream",
     "text": [
      "Saving model\n",
      "\n",
      "Epoch 3:\n",
      "\n",
      "Train Accuracy: 0.9583333333333334\n",
      "\n",
      "Train Loss: 0.15339627421446264\n",
      "\n",
      "Val Accuracy: 0.9662698412698413\n",
      "\n",
      "Val Loss: 0.12505582975600624\n",
      "\n",
      "Training:\n"
     ]
    },
    {
     "data": {
      "application/vnd.jupyter.widget-view+json": {
       "model_id": "a4a6e3620a2a4b50b82c5a9674edc821",
       "version_major": 2,
       "version_minor": 0
      },
      "text/plain": [
       "  0%|          | 0/63 [00:00<?, ?it/s]"
      ]
     },
     "metadata": {},
     "output_type": "display_data"
    },
    {
     "name": "stdout",
     "output_type": "stream",
     "text": [
      "Testing:\n"
     ]
    },
    {
     "data": {
      "application/vnd.jupyter.widget-view+json": {
       "model_id": "a135d5e3a37b48da8d0de96199887fd0",
       "version_major": 2,
       "version_minor": 0
      },
      "text/plain": [
       "  0%|          | 0/63 [00:00<?, ?it/s]"
      ]
     },
     "metadata": {},
     "output_type": "display_data"
    },
    {
     "name": "stdout",
     "output_type": "stream",
     "text": [
      "\n",
      "Epoch 4:\n",
      "\n",
      "Train Accuracy: 0.9573412698412699\n",
      "\n",
      "Train Loss: 0.14293690744994414\n",
      "\n",
      "Val Accuracy: 0.9563492063492064\n",
      "\n",
      "Val Loss: 0.16399135526328806\n",
      "\n",
      "Training:\n"
     ]
    },
    {
     "data": {
      "application/vnd.jupyter.widget-view+json": {
       "model_id": "7566883a8ded4c6f99b08df2229b163f",
       "version_major": 2,
       "version_minor": 0
      },
      "text/plain": [
       "  0%|          | 0/63 [00:00<?, ?it/s]"
      ]
     },
     "metadata": {},
     "output_type": "display_data"
    },
    {
     "name": "stdout",
     "output_type": "stream",
     "text": [
      "Testing:\n"
     ]
    },
    {
     "data": {
      "application/vnd.jupyter.widget-view+json": {
       "model_id": "9fc4b2ade4334b6faec01516deeee156",
       "version_major": 2,
       "version_minor": 0
      },
      "text/plain": [
       "  0%|          | 0/63 [00:00<?, ?it/s]"
      ]
     },
     "metadata": {},
     "output_type": "display_data"
    },
    {
     "name": "stdout",
     "output_type": "stream",
     "text": [
      "Saving model\n",
      "\n",
      "Epoch 5:\n",
      "\n",
      "Train Accuracy: 0.9632936507936508\n",
      "\n",
      "Train Loss: 0.1494971503511012\n",
      "\n",
      "Val Accuracy: 0.9732142857142857\n",
      "\n",
      "Val Loss: 0.18270887860230037\n",
      "\n",
      "Training:\n"
     ]
    },
    {
     "data": {
      "application/vnd.jupyter.widget-view+json": {
       "model_id": "c2b2e96433c04c76801110856e0d08de",
       "version_major": 2,
       "version_minor": 0
      },
      "text/plain": [
       "  0%|          | 0/63 [00:00<?, ?it/s]"
      ]
     },
     "metadata": {},
     "output_type": "display_data"
    },
    {
     "name": "stdout",
     "output_type": "stream",
     "text": [
      "Testing:\n"
     ]
    },
    {
     "data": {
      "application/vnd.jupyter.widget-view+json": {
       "model_id": "82efe7f3bca840bdacdb96a346d2bf1b",
       "version_major": 2,
       "version_minor": 0
      },
      "text/plain": [
       "  0%|          | 0/63 [00:00<?, ?it/s]"
      ]
     },
     "metadata": {},
     "output_type": "display_data"
    },
    {
     "name": "stdout",
     "output_type": "stream",
     "text": [
      "Saving model\n",
      "\n",
      "Epoch 6:\n",
      "\n",
      "Train Accuracy: 0.9761904761904762\n",
      "\n",
      "Train Loss: 0.09634878429480725\n",
      "\n",
      "Val Accuracy: 0.9781746031746031\n",
      "\n",
      "Val Loss: 0.0881416614625662\n",
      "\n",
      "Training:\n"
     ]
    },
    {
     "data": {
      "application/vnd.jupyter.widget-view+json": {
       "model_id": "e74cfee047eb40a8954e218516e6688f",
       "version_major": 2,
       "version_minor": 0
      },
      "text/plain": [
       "  0%|          | 0/63 [00:00<?, ?it/s]"
      ]
     },
     "metadata": {},
     "output_type": "display_data"
    },
    {
     "name": "stdout",
     "output_type": "stream",
     "text": [
      "Testing:\n"
     ]
    },
    {
     "data": {
      "application/vnd.jupyter.widget-view+json": {
       "model_id": "d8bafbec0ed14d77a1ce4f99e30768d4",
       "version_major": 2,
       "version_minor": 0
      },
      "text/plain": [
       "  0%|          | 0/63 [00:00<?, ?it/s]"
      ]
     },
     "metadata": {},
     "output_type": "display_data"
    },
    {
     "name": "stdout",
     "output_type": "stream",
     "text": [
      "\n",
      "Epoch 7:\n",
      "\n",
      "Train Accuracy: 0.9662698412698413\n",
      "\n",
      "Train Loss: 0.12557373362194216\n",
      "\n",
      "Val Accuracy: 0.9583333333333334\n",
      "\n",
      "Val Loss: 0.1393877990425579\n",
      "\n",
      "Training:\n"
     ]
    },
    {
     "data": {
      "application/vnd.jupyter.widget-view+json": {
       "model_id": "2fa175b70dc04e07be2c7caeef2770d8",
       "version_major": 2,
       "version_minor": 0
      },
      "text/plain": [
       "  0%|          | 0/63 [00:00<?, ?it/s]"
      ]
     },
     "metadata": {},
     "output_type": "display_data"
    },
    {
     "name": "stdout",
     "output_type": "stream",
     "text": [
      "Testing:\n"
     ]
    },
    {
     "data": {
      "application/vnd.jupyter.widget-view+json": {
       "model_id": "4aaf46cbb9b5430189cb8f77ed4a639f",
       "version_major": 2,
       "version_minor": 0
      },
      "text/plain": [
       "  0%|          | 0/63 [00:00<?, ?it/s]"
      ]
     },
     "metadata": {},
     "output_type": "display_data"
    },
    {
     "name": "stdout",
     "output_type": "stream",
     "text": [
      "Saving model\n",
      "\n",
      "Epoch 8:\n",
      "\n",
      "Train Accuracy: 0.9662698412698413\n",
      "\n",
      "Train Loss: 0.12543458506346694\n",
      "\n",
      "Val Accuracy: 0.9791666666666666\n",
      "\n",
      "Val Loss: 0.09838507118420528\n",
      "\n",
      "Training:\n"
     ]
    },
    {
     "data": {
      "application/vnd.jupyter.widget-view+json": {
       "model_id": "5f815e3fd1e2492385dc67667ce76cf9",
       "version_major": 2,
       "version_minor": 0
      },
      "text/plain": [
       "  0%|          | 0/63 [00:00<?, ?it/s]"
      ]
     },
     "metadata": {},
     "output_type": "display_data"
    },
    {
     "name": "stdout",
     "output_type": "stream",
     "text": [
      "Testing:\n"
     ]
    },
    {
     "data": {
      "application/vnd.jupyter.widget-view+json": {
       "model_id": "584e57c9fe1846f683c07ceccef8dfcf",
       "version_major": 2,
       "version_minor": 0
      },
      "text/plain": [
       "  0%|          | 0/63 [00:00<?, ?it/s]"
      ]
     },
     "metadata": {},
     "output_type": "display_data"
    },
    {
     "name": "stdout",
     "output_type": "stream",
     "text": [
      "\n",
      "Epoch 9:\n",
      "\n",
      "Train Accuracy: 0.9771825396825397\n",
      "\n",
      "Train Loss: 0.08291891149599992\n",
      "\n",
      "Val Accuracy: 0.9523809523809523\n",
      "\n",
      "Val Loss: 0.14512845216363313\n",
      "\n",
      "Training:\n"
     ]
    },
    {
     "data": {
      "application/vnd.jupyter.widget-view+json": {
       "model_id": "e65f2312d40a41deac9d97b05ff2abb2",
       "version_major": 2,
       "version_minor": 0
      },
      "text/plain": [
       "  0%|          | 0/63 [00:00<?, ?it/s]"
      ]
     },
     "metadata": {},
     "output_type": "display_data"
    },
    {
     "name": "stdout",
     "output_type": "stream",
     "text": [
      "Testing:\n"
     ]
    },
    {
     "data": {
      "application/vnd.jupyter.widget-view+json": {
       "model_id": "11b9eb0dc59442109748dd3e5c3c7c0f",
       "version_major": 2,
       "version_minor": 0
      },
      "text/plain": [
       "  0%|          | 0/63 [00:00<?, ?it/s]"
      ]
     },
     "metadata": {},
     "output_type": "display_data"
    },
    {
     "name": "stdout",
     "output_type": "stream",
     "text": [
      "\n",
      "Epoch 10:\n",
      "\n",
      "Train Accuracy: 0.9603174603174603\n",
      "\n",
      "Train Loss: 0.13510437360003827\n",
      "\n",
      "Val Accuracy: 0.9494047619047619\n",
      "\n",
      "Val Loss: 0.13854488715647706\n",
      "\n",
      "Training:\n"
     ]
    },
    {
     "data": {
      "application/vnd.jupyter.widget-view+json": {
       "model_id": "4dd158dd0dea4796b1ab8ee356a218f6",
       "version_major": 2,
       "version_minor": 0
      },
      "text/plain": [
       "  0%|          | 0/63 [00:00<?, ?it/s]"
      ]
     },
     "metadata": {},
     "output_type": "display_data"
    },
    {
     "name": "stdout",
     "output_type": "stream",
     "text": [
      "Testing:\n"
     ]
    },
    {
     "data": {
      "application/vnd.jupyter.widget-view+json": {
       "model_id": "06a8689ac5af4024b46c998999c55eb8",
       "version_major": 2,
       "version_minor": 0
      },
      "text/plain": [
       "  0%|          | 0/63 [00:00<?, ?it/s]"
      ]
     },
     "metadata": {},
     "output_type": "display_data"
    },
    {
     "name": "stdout",
     "output_type": "stream",
     "text": [
      "\n",
      "Epoch 11:\n",
      "\n",
      "Train Accuracy: 0.9791666666666666\n",
      "\n",
      "Train Loss: 0.07453159547765695\n",
      "\n",
      "Val Accuracy: 0.9751984126984127\n",
      "\n",
      "Val Loss: 0.10665120648119474\n",
      "\n",
      "Training:\n"
     ]
    },
    {
     "data": {
      "application/vnd.jupyter.widget-view+json": {
       "model_id": "d6db239d6e77411cbfff5ca931c68d3b",
       "version_major": 2,
       "version_minor": 0
      },
      "text/plain": [
       "  0%|          | 0/63 [00:00<?, ?it/s]"
      ]
     },
     "metadata": {},
     "output_type": "display_data"
    },
    {
     "name": "stdout",
     "output_type": "stream",
     "text": [
      "Testing:\n"
     ]
    },
    {
     "data": {
      "application/vnd.jupyter.widget-view+json": {
       "model_id": "f634e586c9e740ae953d34d79d015178",
       "version_major": 2,
       "version_minor": 0
      },
      "text/plain": [
       "  0%|          | 0/63 [00:00<?, ?it/s]"
      ]
     },
     "metadata": {},
     "output_type": "display_data"
    },
    {
     "name": "stdout",
     "output_type": "stream",
     "text": [
      "\n",
      "Epoch 12:\n",
      "\n",
      "Train Accuracy: 0.9543650793650794\n",
      "\n",
      "Train Loss: 0.1367626478895545\n",
      "\n",
      "Val Accuracy: 0.7400793650793651\n",
      "\n",
      "Val Loss: 0.6374746738445192\n",
      "\n",
      "Training:\n"
     ]
    },
    {
     "data": {
      "application/vnd.jupyter.widget-view+json": {
       "model_id": "3a9700e966da407ab9e47acdb3c7da36",
       "version_major": 2,
       "version_minor": 0
      },
      "text/plain": [
       "  0%|          | 0/63 [00:00<?, ?it/s]"
      ]
     },
     "metadata": {},
     "output_type": "display_data"
    },
    {
     "name": "stdout",
     "output_type": "stream",
     "text": [
      "Testing:\n"
     ]
    },
    {
     "data": {
      "application/vnd.jupyter.widget-view+json": {
       "model_id": "bf0e5bb7d21040acb7677d9726fadab6",
       "version_major": 2,
       "version_minor": 0
      },
      "text/plain": [
       "  0%|          | 0/63 [00:00<?, ?it/s]"
      ]
     },
     "metadata": {},
     "output_type": "display_data"
    },
    {
     "name": "stdout",
     "output_type": "stream",
     "text": [
      "\n",
      "Epoch 13:\n",
      "\n",
      "Train Accuracy: 0.9732142857142857\n",
      "\n",
      "Train Loss: 0.10202252753226766\n",
      "\n",
      "Val Accuracy: 0.9791666666666666\n",
      "\n",
      "Val Loss: 0.08561065083088738\n",
      "\n",
      "Training:\n"
     ]
    },
    {
     "data": {
      "application/vnd.jupyter.widget-view+json": {
       "model_id": "ea70528d657247f9aaac2c96e2d81f2d",
       "version_major": 2,
       "version_minor": 0
      },
      "text/plain": [
       "  0%|          | 0/63 [00:00<?, ?it/s]"
      ]
     },
     "metadata": {},
     "output_type": "display_data"
    },
    {
     "name": "stdout",
     "output_type": "stream",
     "text": [
      "Testing:\n"
     ]
    },
    {
     "data": {
      "application/vnd.jupyter.widget-view+json": {
       "model_id": "908f38cbbe22446c9acb7e4e7625acbf",
       "version_major": 2,
       "version_minor": 0
      },
      "text/plain": [
       "  0%|          | 0/63 [00:00<?, ?it/s]"
      ]
     },
     "metadata": {},
     "output_type": "display_data"
    },
    {
     "name": "stdout",
     "output_type": "stream",
     "text": [
      "\n",
      "Epoch 14:\n",
      "\n",
      "Train Accuracy: 0.9841269841269841\n",
      "\n",
      "Train Loss: 0.06101671378691829\n",
      "\n",
      "Val Accuracy: 0.9761904761904762\n",
      "\n",
      "Val Loss: 0.0925189778873963\n",
      "\n",
      "Training:\n"
     ]
    },
    {
     "data": {
      "application/vnd.jupyter.widget-view+json": {
       "model_id": "3babd9c48c7645d78c754175d8246d1a",
       "version_major": 2,
       "version_minor": 0
      },
      "text/plain": [
       "  0%|          | 0/63 [00:00<?, ?it/s]"
      ]
     },
     "metadata": {},
     "output_type": "display_data"
    },
    {
     "name": "stdout",
     "output_type": "stream",
     "text": [
      "Testing:\n"
     ]
    },
    {
     "data": {
      "application/vnd.jupyter.widget-view+json": {
       "model_id": "e8771b6f36034db7b8ec6de96ac1b991",
       "version_major": 2,
       "version_minor": 0
      },
      "text/plain": [
       "  0%|          | 0/63 [00:00<?, ?it/s]"
      ]
     },
     "metadata": {},
     "output_type": "display_data"
    },
    {
     "name": "stdout",
     "output_type": "stream",
     "text": [
      "\n",
      "Epoch 15:\n",
      "\n",
      "Train Accuracy: 0.9732142857142857\n",
      "\n",
      "Train Loss: 0.10062023076332277\n",
      "\n",
      "Val Accuracy: 0.9553571428571429\n",
      "\n",
      "Val Loss: 0.15546480314953934\n",
      "\n",
      "Training:\n"
     ]
    },
    {
     "data": {
      "application/vnd.jupyter.widget-view+json": {
       "model_id": "287ce14334fc48f3a74ef7e7d643eba3",
       "version_major": 2,
       "version_minor": 0
      },
      "text/plain": [
       "  0%|          | 0/63 [00:00<?, ?it/s]"
      ]
     },
     "metadata": {},
     "output_type": "display_data"
    },
    {
     "name": "stdout",
     "output_type": "stream",
     "text": [
      "Testing:\n"
     ]
    },
    {
     "data": {
      "application/vnd.jupyter.widget-view+json": {
       "model_id": "6d070311ebbe40f19efdd9a313b64c20",
       "version_major": 2,
       "version_minor": 0
      },
      "text/plain": [
       "  0%|          | 0/63 [00:00<?, ?it/s]"
      ]
     },
     "metadata": {},
     "output_type": "display_data"
    },
    {
     "name": "stdout",
     "output_type": "stream",
     "text": [
      "\n",
      "Epoch 16:\n",
      "\n",
      "Train Accuracy: 0.9761904761904762\n",
      "\n",
      "Train Loss: 0.09254411616850466\n",
      "\n",
      "Val Accuracy: 0.9017857142857143\n",
      "\n",
      "Val Loss: 0.29613023972700514\n",
      "\n",
      "Training:\n"
     ]
    },
    {
     "data": {
      "application/vnd.jupyter.widget-view+json": {
       "model_id": "c45a80149cb84c4e808d2504ead7ea94",
       "version_major": 2,
       "version_minor": 0
      },
      "text/plain": [
       "  0%|          | 0/63 [00:00<?, ?it/s]"
      ]
     },
     "metadata": {},
     "output_type": "display_data"
    },
    {
     "name": "stdout",
     "output_type": "stream",
     "text": [
      "Testing:\n"
     ]
    },
    {
     "data": {
      "application/vnd.jupyter.widget-view+json": {
       "model_id": "6a2e512801a74a6d98fd6d5249993978",
       "version_major": 2,
       "version_minor": 0
      },
      "text/plain": [
       "  0%|          | 0/63 [00:00<?, ?it/s]"
      ]
     },
     "metadata": {},
     "output_type": "display_data"
    },
    {
     "name": "stdout",
     "output_type": "stream",
     "text": [
      "\n",
      "Epoch 17:\n",
      "\n",
      "Train Accuracy: 0.9613095238095238\n",
      "\n",
      "Train Loss: 0.13350559338661178\n",
      "\n",
      "Val Accuracy: 0.9523809523809523\n",
      "\n",
      "Val Loss: 0.1393879932972292\n",
      "\n",
      "Training:\n"
     ]
    },
    {
     "data": {
      "application/vnd.jupyter.widget-view+json": {
       "model_id": "72833c5f54d14a82b798cd31514ed5b9",
       "version_major": 2,
       "version_minor": 0
      },
      "text/plain": [
       "  0%|          | 0/63 [00:00<?, ?it/s]"
      ]
     },
     "metadata": {},
     "output_type": "display_data"
    },
    {
     "name": "stdout",
     "output_type": "stream",
     "text": [
      "Testing:\n"
     ]
    },
    {
     "data": {
      "application/vnd.jupyter.widget-view+json": {
       "model_id": "7e3daa3caf404ef3ab08861644265220",
       "version_major": 2,
       "version_minor": 0
      },
      "text/plain": [
       "  0%|          | 0/63 [00:00<?, ?it/s]"
      ]
     },
     "metadata": {},
     "output_type": "display_data"
    },
    {
     "name": "stdout",
     "output_type": "stream",
     "text": [
      "\n",
      "Epoch 18:\n",
      "\n",
      "Train Accuracy: 0.9563492063492064\n",
      "\n",
      "Train Loss: 0.1499566946174979\n",
      "\n",
      "Val Accuracy: 0.9692460317460317\n",
      "\n",
      "Val Loss: 0.1911137177542384\n",
      "\n",
      "Training:\n"
     ]
    },
    {
     "data": {
      "application/vnd.jupyter.widget-view+json": {
       "model_id": "922f907e24e24f68b73f8133634d5be0",
       "version_major": 2,
       "version_minor": 0
      },
      "text/plain": [
       "  0%|          | 0/63 [00:00<?, ?it/s]"
      ]
     },
     "metadata": {},
     "output_type": "display_data"
    },
    {
     "name": "stdout",
     "output_type": "stream",
     "text": [
      "Testing:\n"
     ]
    },
    {
     "data": {
      "application/vnd.jupyter.widget-view+json": {
       "model_id": "8401976c70964a22ac7e229a33b5ee79",
       "version_major": 2,
       "version_minor": 0
      },
      "text/plain": [
       "  0%|          | 0/63 [00:00<?, ?it/s]"
      ]
     },
     "metadata": {},
     "output_type": "display_data"
    },
    {
     "name": "stdout",
     "output_type": "stream",
     "text": [
      "Saving model\n",
      "\n",
      "Epoch 19:\n",
      "\n",
      "Train Accuracy: 0.9751984126984127\n",
      "\n",
      "Train Loss: 0.07540578728574994\n",
      "\n",
      "Val Accuracy: 0.9811507936507936\n",
      "\n",
      "Val Loss: 0.08888958716794612\n",
      "\n",
      "Training:\n"
     ]
    },
    {
     "data": {
      "application/vnd.jupyter.widget-view+json": {
       "model_id": "9af5c10905744eb8a02f44f9ca7adbcb",
       "version_major": 2,
       "version_minor": 0
      },
      "text/plain": [
       "  0%|          | 0/63 [00:00<?, ?it/s]"
      ]
     },
     "metadata": {},
     "output_type": "display_data"
    },
    {
     "name": "stdout",
     "output_type": "stream",
     "text": [
      "Testing:\n"
     ]
    },
    {
     "data": {
      "application/vnd.jupyter.widget-view+json": {
       "model_id": "ed9ee053ba594656ae4ede4a31963742",
       "version_major": 2,
       "version_minor": 0
      },
      "text/plain": [
       "  0%|          | 0/63 [00:00<?, ?it/s]"
      ]
     },
     "metadata": {},
     "output_type": "display_data"
    },
    {
     "name": "stdout",
     "output_type": "stream",
     "text": [
      "\n",
      "Epoch 20:\n",
      "\n",
      "Train Accuracy: 0.9751984126984127\n",
      "\n",
      "Train Loss: 0.11205783823416346\n",
      "\n",
      "Val Accuracy: 0.9434523809523809\n",
      "\n",
      "Val Loss: 0.40406973745733027\n"
     ]
    }
   ],
   "source": [
    "train_model(model,20)"
   ]
  },
  {
   "cell_type": "code",
   "execution_count": 16,
   "id": "cd00509c-7642-4a4f-93c6-40a4780dcea7",
   "metadata": {},
   "outputs": [],
   "source": [
    "x,y=next(iter(val_loader))\n",
    "x=x.to(device)\n",
    "y=y.to(device)"
   ]
  },
  {
   "cell_type": "code",
   "execution_count": 17,
   "id": "1c2bc5a4-6529-40c1-b482-d27817cc902c",
   "metadata": {},
   "outputs": [
    {
     "name": "stdout",
     "output_type": "stream",
     "text": [
      "tensor([0, 0, 0, 0, 2, 2, 1, 2, 1, 0, 2, 2, 1, 0, 0, 1], device='cuda:0')\n"
     ]
    }
   ],
   "source": [
    "with torch.inference_mode():\n",
    "    output=torch.argmax(torch.softmax(model(x),dim=1),dim=1)\n",
    "    print(output)"
   ]
  },
  {
   "cell_type": "code",
   "execution_count": 18,
   "id": "26afe067-547a-47ef-9ff0-5e0e6e1200b6",
   "metadata": {},
   "outputs": [
    {
     "data": {
      "text/plain": [
       "tensor([0, 0, 0, 0, 2, 0, 1, 2, 1, 0, 2, 2, 1, 0, 0, 1], device='cuda:0')"
      ]
     },
     "execution_count": 18,
     "metadata": {},
     "output_type": "execute_result"
    }
   ],
   "source": [
    "torch.argmax(y,dim=1)"
   ]
  }
 ],
 "metadata": {
  "kernelspec": {
   "display_name": "Python 3 (ipykernel)",
   "language": "python",
   "name": "python3"
  },
  "language_info": {
   "codemirror_mode": {
    "name": "ipython",
    "version": 3
   },
   "file_extension": ".py",
   "mimetype": "text/x-python",
   "name": "python",
   "nbconvert_exporter": "python",
   "pygments_lexer": "ipython3",
   "version": "3.11.5"
  }
 },
 "nbformat": 4,
 "nbformat_minor": 5
}
