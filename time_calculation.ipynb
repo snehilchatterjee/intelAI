{
 "cells": [
  {
   "cell_type": "code",
   "execution_count": 1,
   "id": "a588a32e-b9d0-4e04-b237-2d7decbc1a8b",
   "metadata": {},
   "outputs": [],
   "source": [
    "import time\n",
    "import torch\n",
    "from torchvision.models import mobilenet_v3_small\n",
    "from torch import nn"
   ]
  },
  {
   "cell_type": "code",
   "execution_count": 2,
   "id": "f22ff229-4c3a-436f-b34c-a4a0211efb9b",
   "metadata": {},
   "outputs": [],
   "source": [
    "def calculate_time(model,ip,batch,cuda):\n",
    "    if(cuda):\n",
    "        model=model.to('cuda')\n",
    "        ip=ip.to('cuda')\n",
    "        print(f'Using cuda\\n')\n",
    "    \n",
    "    start_time = time.perf_counter()\n",
    "    with torch.inference_mode():\n",
    "        model(ip)\n",
    "    end_time = time.perf_counter()\n",
    "    \n",
    "    duration = end_time - start_time\n",
    "    \n",
    "    # Print the duration in seconds\n",
    "    print(f\"Duration: {duration} seconds\\nFPS: {batch/duration:.0f}\")"
   ]
  },
  {
   "cell_type": "code",
   "execution_count": 3,
   "id": "28c576f2-1a06-4cf6-a5b6-ec8b963c7d3f",
   "metadata": {},
   "outputs": [],
   "source": [
    "model_d=mobilenet_v3_small()\n",
    "model_d.classifier[3]=nn.Linear(in_features=1024,out_features=3,bias=True)"
   ]
  },
  {
   "cell_type": "markdown",
   "id": "7cb841fd-f2d5-423a-987f-174a01c20656",
   "metadata": {},
   "source": [
    "#### Detection - method 1 (direct)"
   ]
  },
  {
   "cell_type": "code",
   "execution_count": 4,
   "id": "3834f986-6462-47a4-854f-19b5914935d2",
   "metadata": {},
   "outputs": [
    {
     "name": "stdout",
     "output_type": "stream",
     "text": [
      "Using cuda\n",
      "\n",
      "Duration: 0.3444726819998323 seconds\n",
      "FPS: 2903\n"
     ]
    }
   ],
   "source": [
    "model_d.load_state_dict(torch.load('method1_(0.9811).pt'))\n",
    "calculate_time(model_d,torch.rand((1000,3,224,224)),1000,True)"
   ]
  },
  {
   "cell_type": "markdown",
   "id": "00708db1-3859-4c49-ab4d-b1aa6b4a7e54",
   "metadata": {},
   "source": [
    "#### Detection - method 2 (edge detection)"
   ]
  },
  {
   "cell_type": "code",
   "execution_count": 5,
   "id": "5c2dfe91-9d74-493e-8aa4-98064edcc052",
   "metadata": {},
   "outputs": [
    {
     "name": "stdout",
     "output_type": "stream",
     "text": [
      "Using cuda\n",
      "\n",
      "Duration: 0.004325261999838403 seconds\n",
      "FPS: 231200\n"
     ]
    }
   ],
   "source": [
    "model_d.load_state_dict(torch.load('method2_(0.995).pt'))\n",
    "calculate_time(model_d,torch.rand((1000,3,224,224)),1000,True)"
   ]
  },
  {
   "cell_type": "markdown",
   "id": "9c32dcd8-822e-44ea-9e65-48b65c67d97f",
   "metadata": {},
   "source": [
    "### Generator"
   ]
  },
  {
   "cell_type": "code",
   "execution_count": null,
   "id": "5c86c26b-22e5-46ae-a612-68ce5ef660bc",
   "metadata": {},
   "outputs": [],
   "source": []
  }
 ],
 "metadata": {
  "kernelspec": {
   "display_name": "Python 3 (ipykernel)",
   "language": "python",
   "name": "python3"
  },
  "language_info": {
   "codemirror_mode": {
    "name": "ipython",
    "version": 3
   },
   "file_extension": ".py",
   "mimetype": "text/x-python",
   "name": "python",
   "nbconvert_exporter": "python",
   "pygments_lexer": "ipython3",
   "version": "3.11.5"
  }
 },
 "nbformat": 4,
 "nbformat_minor": 5
}
