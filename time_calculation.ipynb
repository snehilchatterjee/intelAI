{
 "cells": [
  {
   "cell_type": "code",
   "execution_count": 5,
   "id": "a588a32e-b9d0-4e04-b237-2d7decbc1a8b",
   "metadata": {},
   "outputs": [],
   "source": [
    "import time\n",
    "import torch\n",
    "from torchvision.models import mobilenet_v3_small\n",
    "from torch import nn\n",
    "import gc\n",
    "import numpy as np\n",
    "\n",
    "device = 'cuda' if torch.cuda.is_available() else 'cpu'"
   ]
  },
  {
   "cell_type": "code",
   "execution_count": 23,
   "id": "46675bda-24dd-47fb-8301-1aa2bade0cc0",
   "metadata": {},
   "outputs": [],
   "source": [
    "def calculate_time(model,ip,batch,cuda):\n",
    "    if(cuda):\n",
    "        model=model.to('cuda')\n",
    "        ip=ip.to('cuda')\n",
    "        print(f'Using cuda\\n')\n",
    "\n",
    "    start_time = 0\n",
    "    end_time = 0\n",
    "\n",
    "    # Avoiding init time\n",
    "    '''\n",
    "    we run some dummy examples through the network to do a ‘GPU warm-up.’ \n",
    "    This will automatically initialize the GPU and prevent it from going into power-saving mode \n",
    "    when we measure time. (https://deci.ai/blog/measure-inference-time-deep-neural-networks/)\n",
    "    '''\n",
    "    \n",
    "    with torch.inference_mode():\n",
    "        _ = model(ip) # GPU WARMUP\n",
    "    \n",
    "    with torch.inference_mode():\n",
    "        start_time = time.perf_counter()\n",
    "        _ = model(ip*5)                       # Multiplied by 5 to make sure old results aren't cached and just returned\n",
    "        torch.cuda.synchronize()\n",
    "        end_time = time.perf_counter()\n",
    "    \n",
    "    duration = end_time - start_time\n",
    "    \n",
    "    # Print the duration in seconds\n",
    "    print(f\"Duration: {duration} seconds\\nFPS: {batch/duration:.0f}\")\n",
    "\n",
    "    del ip\n",
    "    del model\n",
    "    del _\n",
    "    gc.collect()\n",
    "    if(cuda):\n",
    "        torch.cuda.empty_cache()"
   ]
  },
  {
   "cell_type": "code",
   "execution_count": 3,
   "id": "b9a1c17f-c341-4f92-ba56-f51fadc174cc",
   "metadata": {},
   "outputs": [],
   "source": [
    "def build_generator():\n",
    "    \n",
    "    class ResidualBlock(nn.Module):\n",
    "        def __init__(self, in_channels, out_channels, expansion=6, stride=1, alpha=1.0):\n",
    "            super(ResidualBlock, self).__init__()\n",
    "            self.expansion = expansion\n",
    "            self.stride = stride\n",
    "            self.in_channels = in_channels\n",
    "            self.out_channels = int(out_channels * alpha)\n",
    "            self.pointwise_conv_filters = self._make_divisible(self.out_channels, 8)\n",
    "            self.conv1 = nn.Conv2d(in_channels, in_channels * expansion, kernel_size=1, stride=1, padding=0, bias=True)\n",
    "            self.bn1 = nn.BatchNorm2d(in_channels * expansion)\n",
    "            self.conv2 = nn.Conv2d(in_channels * expansion, in_channels * expansion, kernel_size=3, stride=stride, padding=1, groups=in_channels * expansion, bias=True)\n",
    "            self.bn2 = nn.BatchNorm2d(in_channels * expansion)\n",
    "            self.conv3 = nn.Conv2d(in_channels * expansion, self.pointwise_conv_filters, kernel_size=1, stride=1, padding=0, bias=True)\n",
    "            self.bn3 = nn.BatchNorm2d(self.pointwise_conv_filters)\n",
    "            self.relu = nn.ReLU(inplace=True)\n",
    "            self.skip_add = (stride == 1 and in_channels == self.pointwise_conv_filters)\n",
    "\n",
    "        def forward(self, x):\n",
    "            identity = x\n",
    "\n",
    "            out = self.conv1(x)\n",
    "            out = self.bn1(out)\n",
    "            out = self.relu(out)\n",
    "\n",
    "            out = self.conv2(out)\n",
    "            out = self.bn2(out)\n",
    "            out = self.relu(out)\n",
    "\n",
    "            out = self.conv3(out)\n",
    "            out = self.bn3(out)\n",
    "\n",
    "            if self.skip_add:\n",
    "                out = out + identity\n",
    "\n",
    "            return out\n",
    "\n",
    "        @staticmethod\n",
    "        def _make_divisible(v, divisor, min_value=None):\n",
    "            if min_value is None:\n",
    "                min_value = divisor\n",
    "            new_v = max(min_value, int(v + divisor / 2) // divisor * divisor)\n",
    "            if new_v < 0.9 * v:\n",
    "                new_v += divisor\n",
    "            return new_v\n",
    "\n",
    "    class Generator(nn.Module):\n",
    "        def __init__(self, in_channels, num_residual_blocks, gf):\n",
    "            super(Generator, self).__init__()\n",
    "            self.num_residual_blocks = num_residual_blocks\n",
    "            self.gf = gf\n",
    "\n",
    "            self.conv1 = nn.Conv2d(in_channels, gf, kernel_size=3, stride=1, padding=1)\n",
    "            self.bn1 = nn.BatchNorm2d(gf)\n",
    "            self.prelu1 = nn.PReLU()\n",
    "\n",
    "            self.residual_blocks = self.make_layer(ResidualBlock, gf, num_residual_blocks)\n",
    "\n",
    "            self.conv2 = nn.Conv2d(gf, gf, kernel_size=3, stride=1, padding=1)\n",
    "            self.bn2 = nn.BatchNorm2d(gf)\n",
    "\n",
    "            self.upsample1 = nn.Sequential(\n",
    "                nn.Upsample(scale_factor=2, mode='bilinear', align_corners=True),\n",
    "                nn.Conv2d(gf, gf, kernel_size=3, stride=1, padding=1),\n",
    "                nn.PReLU()\n",
    "            )\n",
    "\n",
    "            self.upsample2 = nn.Sequential(\n",
    "                nn.Upsample(scale_factor=2, mode='bilinear', align_corners=True),\n",
    "                nn.Conv2d(gf, gf, kernel_size=3, stride=1, padding=1),\n",
    "                nn.PReLU()\n",
    "            )\n",
    "\n",
    "            self.conv3 = nn.Conv2d(gf, 3, kernel_size=3, stride=1, padding=1)\n",
    "            self.tanh = nn.Tanh()\n",
    "\n",
    "        def make_layer(self, block, out_channels, blocks):\n",
    "            layers = []\n",
    "            for _ in range(blocks):\n",
    "                layers.append(block(out_channels, out_channels))\n",
    "            return nn.Sequential(*layers)\n",
    "\n",
    "        def forward(self, x):\n",
    "            out1 = self.prelu1(self.bn1(self.conv1(x)))\n",
    "            out = self.residual_blocks(out1)\n",
    "            out = self.bn2(self.conv2(out))\n",
    "            out = out + out1\n",
    "            out = self.upsample1(out)\n",
    "            out = self.upsample2(out)\n",
    "            out = self.tanh(self.conv3(out))\n",
    "            return out\n",
    "\n",
    "    return Generator(3, 6, 32)\n",
    "\n"
   ]
  },
  {
   "cell_type": "code",
   "execution_count": 6,
   "id": "28c576f2-1a06-4cf6-a5b6-ec8b963c7d3f",
   "metadata": {},
   "outputs": [
    {
     "data": {
      "text/plain": [
       "<All keys matched successfully>"
      ]
     },
     "execution_count": 6,
     "metadata": {},
     "output_type": "execute_result"
    }
   ],
   "source": [
    "model_d=mobilenet_v3_small()\n",
    "model_d.classifier[3]=nn.Linear(in_features=1024,out_features=2,bias=True)\n",
    "\n",
    "model_g=build_generator().to(device)\n",
    "model_g.load_state_dict(torch.load('./generator_weight.pt'))\n"
   ]
  },
  {
   "cell_type": "markdown",
   "id": "7cb841fd-f2d5-423a-987f-174a01c20656",
   "metadata": {},
   "source": [
    "#### Detection - method 1 (direct)"
   ]
  },
  {
   "cell_type": "code",
   "execution_count": 8,
   "id": "3834f986-6462-47a4-854f-19b5914935d2",
   "metadata": {},
   "outputs": [
    {
     "name": "stdout",
     "output_type": "stream",
     "text": [
      "Using cuda\n",
      "\n",
      "Duration: 0.44500826299918117 seconds\n",
      "FPS: 2247\n"
     ]
    }
   ],
   "source": [
    "model_d.load_state_dict(torch.load('method1(0.668).pt'))\n",
    "calculate_time(model_d,torch.rand((1000,3,224,224)),1000,True)"
   ]
  },
  {
   "cell_type": "markdown",
   "id": "00708db1-3859-4c49-ab4d-b1aa6b4a7e54",
   "metadata": {},
   "source": [
    "#### Detection - method 2 (edge detection)"
   ]
  },
  {
   "cell_type": "code",
   "execution_count": 7,
   "id": "5c2dfe91-9d74-493e-8aa4-98064edcc052",
   "metadata": {},
   "outputs": [
    {
     "name": "stdout",
     "output_type": "stream",
     "text": [
      "Using cuda\n",
      "\n",
      "Duration: 0.44565098600287456 seconds\n",
      "FPS: 2244\n"
     ]
    }
   ],
   "source": [
    "model_d.load_state_dict(torch.load('method2(0.960).pt'))\n",
    "calculate_time(model_d,torch.rand((1000,3,224,224)),1000,True)"
   ]
  },
  {
   "cell_type": "markdown",
   "id": "9c32dcd8-822e-44ea-9e65-48b65c67d97f",
   "metadata": {},
   "source": [
    "#### Generator"
   ]
  },
  {
   "cell_type": "code",
   "execution_count": 24,
   "id": "5c86c26b-22e5-46ae-a612-68ce5ef660bc",
   "metadata": {},
   "outputs": [
    {
     "name": "stdout",
     "output_type": "stream",
     "text": [
      "Using cuda\n",
      "\n",
      "Duration: 0.002014044002862647 seconds\n",
      "FPS: 2483\n"
     ]
    }
   ],
   "source": [
    "calculate_time(model_g,torch.rand((5,3,443,180)),5,True)"
   ]
  },
  {
   "cell_type": "code",
   "execution_count": null,
   "id": "8ba847a2",
   "metadata": {},
   "outputs": [],
   "source": []
  }
 ],
 "metadata": {
  "kernelspec": {
   "display_name": "Python 3 (ipykernel)",
   "language": "python",
   "name": "python3"
  },
  "language_info": {
   "codemirror_mode": {
    "name": "ipython",
    "version": 3
   },
   "file_extension": ".py",
   "mimetype": "text/x-python",
   "name": "python",
   "nbconvert_exporter": "python",
   "pygments_lexer": "ipython3",
   "version": "3.11.5"
  }
 },
 "nbformat": 4,
 "nbformat_minor": 5
}
