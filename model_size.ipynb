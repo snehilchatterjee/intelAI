{
 "cells": [
  {
   "cell_type": "code",
   "execution_count": 1,
   "metadata": {},
   "outputs": [],
   "source": [
    "from torchvision import transforms\n",
    "from PIL import Image\n",
    "import numpy as np\n",
    "from torch import nn\n",
    "\n",
    "import torch\n",
    "import warnings\n",
    "import cv2\n",
    "import torchvision\n",
    "from torchvision.models import mobilenet_v3_small"
   ]
  },
  {
   "cell_type": "code",
   "execution_count": 2,
   "metadata": {},
   "outputs": [],
   "source": [
    "def calculate_size(model):\n",
    "    param_size = 0\n",
    "    for param in model.parameters():\n",
    "        param_size += param.nelement() * param.element_size()\n",
    "    buffer_size = 0\n",
    "    for buffer in model.buffers():\n",
    "        buffer_size += buffer.nelement() * buffer.element_size()\n",
    "\n",
    "    size_all_mb = (param_size + buffer_size) / 1024**2\n",
    "    print('model size: {:.3f}MB'.format(size_all_mb))"
   ]
  },
  {
   "cell_type": "code",
   "execution_count": 3,
   "metadata": {},
   "outputs": [
    {
     "data": {
      "text/plain": [
       "<All keys matched successfully>"
      ]
     },
     "execution_count": 3,
     "metadata": {},
     "output_type": "execute_result"
    }
   ],
   "source": [
    "model = mobilenet_v3_small(weights='DEFAULT')\n",
    "model.classifier[3] = nn.Linear(in_features=1024, out_features=2, bias=True)\n",
    "\n",
    "model.load_state_dict(torch.load('./method2(0.960).pt'))"
   ]
  },
  {
   "cell_type": "code",
   "execution_count": 4,
   "metadata": {},
   "outputs": [
    {
     "name": "stdout",
     "output_type": "stream",
     "text": [
      "model size: 5.844MB\n"
     ]
    }
   ],
   "source": [
    "calculate_size(model)"
   ]
  },
  {
   "cell_type": "code",
   "execution_count": 5,
   "metadata": {},
   "outputs": [
    {
     "name": "stdout",
     "output_type": "stream",
     "text": [
      "model size: 0.482MB\n"
     ]
    }
   ],
   "source": [
    "def build_generator():\n",
    "    \n",
    "    class ResidualBlock(nn.Module):\n",
    "        def __init__(self, in_channels, out_channels, expansion=6, stride=1, alpha=1.0):\n",
    "            super(ResidualBlock, self).__init__()\n",
    "            self.expansion = expansion\n",
    "            self.stride = stride\n",
    "            self.in_channels = in_channels\n",
    "            self.out_channels = int(out_channels * alpha)\n",
    "            self.pointwise_conv_filters = self._make_divisible(self.out_channels, 8)\n",
    "            self.conv1 = nn.Conv2d(in_channels, in_channels * expansion, kernel_size=1, stride=1, padding=0, bias=True)\n",
    "            self.bn1 = nn.BatchNorm2d(in_channels * expansion)\n",
    "            self.conv2 = nn.Conv2d(in_channels * expansion, in_channels * expansion, kernel_size=3, stride=stride, padding=1, groups=in_channels * expansion, bias=True)\n",
    "            self.bn2 = nn.BatchNorm2d(in_channels * expansion)\n",
    "            self.conv3 = nn.Conv2d(in_channels * expansion, self.pointwise_conv_filters, kernel_size=1, stride=1, padding=0, bias=True)\n",
    "            self.bn3 = nn.BatchNorm2d(self.pointwise_conv_filters)\n",
    "            self.relu = nn.ReLU(inplace=True)\n",
    "            self.skip_add = (stride == 1 and in_channels == self.pointwise_conv_filters)\n",
    "\n",
    "        def forward(self, x):\n",
    "            identity = x\n",
    "\n",
    "            out = self.conv1(x)\n",
    "            out = self.bn1(out)\n",
    "            out = self.relu(out)\n",
    "\n",
    "            out = self.conv2(out)\n",
    "            out = self.bn2(out)\n",
    "            out = self.relu(out)\n",
    "\n",
    "            out = self.conv3(out)\n",
    "            out = self.bn3(out)\n",
    "\n",
    "            if self.skip_add:\n",
    "                out = out + identity\n",
    "\n",
    "            return out\n",
    "\n",
    "        @staticmethod\n",
    "        def _make_divisible(v, divisor, min_value=None):\n",
    "            if min_value is None:\n",
    "                min_value = divisor\n",
    "            new_v = max(min_value, int(v + divisor / 2) // divisor * divisor)\n",
    "            if new_v < 0.9 * v:\n",
    "                new_v += divisor\n",
    "            return new_v\n",
    "\n",
    "    class Generator(nn.Module):\n",
    "        def __init__(self, in_channels, num_residual_blocks, gf):\n",
    "            super(Generator, self).__init__()\n",
    "            self.num_residual_blocks = num_residual_blocks\n",
    "            self.gf = gf\n",
    "\n",
    "            self.conv1 = nn.Conv2d(in_channels, gf, kernel_size=3, stride=1, padding=1)\n",
    "            self.bn1 = nn.BatchNorm2d(gf)\n",
    "            self.prelu1 = nn.PReLU()\n",
    "\n",
    "            self.residual_blocks = self.make_layer(ResidualBlock, gf, num_residual_blocks)\n",
    "\n",
    "            self.conv2 = nn.Conv2d(gf, gf, kernel_size=3, stride=1, padding=1)\n",
    "            self.bn2 = nn.BatchNorm2d(gf)\n",
    "\n",
    "            self.upsample1 = nn.Sequential(\n",
    "                nn.Upsample(scale_factor=2, mode='bilinear', align_corners=True),\n",
    "                nn.Conv2d(gf, gf, kernel_size=3, stride=1, padding=1),\n",
    "                nn.PReLU()\n",
    "            )\n",
    "\n",
    "            self.upsample2 = nn.Sequential(\n",
    "                nn.Upsample(scale_factor=2, mode='bilinear', align_corners=True),\n",
    "                nn.Conv2d(gf, gf, kernel_size=3, stride=1, padding=1),\n",
    "                nn.PReLU()\n",
    "            )\n",
    "\n",
    "            self.conv3 = nn.Conv2d(gf, 3, kernel_size=3, stride=1, padding=1)\n",
    "            self.tanh = nn.Tanh()\n",
    "\n",
    "        def make_layer(self, block, out_channels, blocks):\n",
    "            layers = []\n",
    "            for _ in range(blocks):\n",
    "                layers.append(block(out_channels, out_channels))\n",
    "            return nn.Sequential(*layers)\n",
    "\n",
    "        def forward(self, x):\n",
    "            out1 = self.prelu1(self.bn1(self.conv1(x)))\n",
    "            out = self.residual_blocks(out1)\n",
    "            out = self.bn2(self.conv2(out))\n",
    "            out = out + out1\n",
    "            out = self.upsample1(out)\n",
    "            out = self.upsample2(out)\n",
    "            out = self.tanh(self.conv3(out))\n",
    "            return out\n",
    "\n",
    "    return Generator(3, 6, 32)\n",
    "\n",
    "model=build_generator()\n",
    "model.load_state_dict(torch.load('./generator_weight.pt'))\n",
    "\n",
    "calculate_size(model)"
   ]
  }
 ],
 "metadata": {
  "kernelspec": {
   "display_name": "torch",
   "language": "python",
   "name": "python3"
  },
  "language_info": {
   "codemirror_mode": {
    "name": "ipython",
    "version": 3
   },
   "file_extension": ".py",
   "mimetype": "text/x-python",
   "name": "python",
   "nbconvert_exporter": "python",
   "pygments_lexer": "ipython3",
   "version": "3.11.5"
  }
 },
 "nbformat": 4,
 "nbformat_minor": 2
}
